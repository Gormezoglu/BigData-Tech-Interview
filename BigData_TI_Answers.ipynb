{
  "cells": [
    {
      "cell_type": "markdown",
      "metadata": {
        "id": "5Ybl-OTpuiQx"
      },
      "source": [
        "## Task -1 Exploratory Data Analysis"
      ]
    },
    {
      "cell_type": "code",
      "execution_count": 1,
      "metadata": {
        "id": "q2FGpclC3tn4"
      },
      "outputs": [
        {
          "data": {
            "text/plain": [
              "'\\nInstalling Spark with its dependencies\\nInstalling Spark\\nInstall Dependencies:\\n\\nJava 8\\nApache Spark with hadoop and\\nFindspark (used to locate the spark in the system)\\n'"
            ]
          },
          "execution_count": 1,
          "metadata": {},
          "output_type": "execute_result"
        }
      ],
      "source": [
        "\"\"\"\n",
        "Installing Spark with its dependencies\n",
        "Installing Spark\n",
        "Install Dependencies:\n",
        "\n",
        "Java 8\n",
        "Apache Spark with hadoop and\n",
        "Findspark (used to locate the spark in the system)\n",
        "\"\"\"\n",
        "\n",
        "#these operations could be done on Google colab or needed to run under linuxOS.\n",
        " \n",
        "\n",
        "#!apt-get install openjdk-8-jdk-headless -qq > /dev/null\n",
        "#!wget -q http://archive.apache.org/dist/spark/spark-3.1.1/spark-3.1.1-bin-hadoop3.2.tgz\n",
        "#!tar xf spark-3.1.1-bin-hadoop3.2.tgz\n",
        "#!pip install -q findspark"
      ]
    },
    {
      "cell_type": "code",
      "execution_count": 2,
      "metadata": {
        "id": "1vd9yVaK4DR6"
      },
      "outputs": [],
      "source": [
        "#Set Environment Variables:\n",
        "\n",
        "import os\n",
        "\n",
        "current_directory = os.getcwd()\n",
        "\n",
        "\n",
        "os.environ[\"JAVA_HOME\"] = \"/usr/lib/jvm/java-8-openjdk-amd64\"\n",
        "os.environ[\"SPARK_HOME\"] = os.path.join(current_directory,\"spark-3.1.1-bin-hadoop3.2\")"
      ]
    },
    {
      "cell_type": "code",
      "execution_count": 3,
      "metadata": {
        "colab": {
          "base_uri": "https://localhost:8080/",
          "height": 219
        },
        "id": "SUjv6TWh4i1t",
        "outputId": "9bb2d972-e87e-43fb-d2f5-fca2dd7c7b1b"
      },
      "outputs": [
        {
          "name": "stderr",
          "output_type": "stream",
          "text": [
            "24/01/23 10:03:47 WARN Utils: Your hostname, codespaces-7047d6 resolves to a loopback address: 127.0.0.1; using 172.16.5.4 instead (on interface eth0)\n",
            "24/01/23 10:03:47 WARN Utils: Set SPARK_LOCAL_IP if you need to bind to another address\n",
            "24/01/23 10:03:47 WARN NativeCodeLoader: Unable to load native-hadoop library for your platform... using builtin-java classes where applicable\n",
            "Using Spark's default log4j profile: org/apache/spark/log4j-defaults.properties\n",
            "Setting default log level to \"WARN\".\n",
            "To adjust logging level use sc.setLogLevel(newLevel). For SparkR, use setLogLevel(newLevel).\n"
          ]
        },
        {
          "data": {
            "text/html": [
              "\n",
              "            <div>\n",
              "                <p><b>SparkSession - in-memory</b></p>\n",
              "                \n",
              "        <div>\n",
              "            <p><b>SparkContext</b></p>\n",
              "\n",
              "            <p><a href=\"http://6f4b8caf-0ea5-4eb4-919f-2c705848fca2.internal.cloudapp.net:4040\">Spark UI</a></p>\n",
              "\n",
              "            <dl>\n",
              "              <dt>Version</dt>\n",
              "                <dd><code>v3.1.1</code></dd>\n",
              "              <dt>Master</dt>\n",
              "                <dd><code>local[*]</code></dd>\n",
              "              <dt>AppName</dt>\n",
              "                <dd><code>pyspark-shell</code></dd>\n",
              "            </dl>\n",
              "        </div>\n",
              "        \n",
              "            </div>\n",
              "        "
            ],
            "text/plain": [
              "<pyspark.sql.session.SparkSession at 0x7f169c161b40>"
            ]
          },
          "execution_count": 3,
          "metadata": {},
          "output_type": "execute_result"
        }
      ],
      "source": [
        "import findspark\n",
        "findspark.init()\n",
        "from pyspark.sql import SparkSession\n",
        "spark = SparkSession.builder.master(\"local[*]\").getOrCreate()\n",
        "spark.conf.set(\"spark.sql.repl.eagerEval.enabled\", True) # Property used to format output tables better\n",
        "spark"
      ]
    },
    {
      "cell_type": "code",
      "execution_count": 4,
      "metadata": {
        "id": "2mYOKttpn9EH"
      },
      "outputs": [],
      "source": [
        "#will be used sqlite3 to be able to reach .db file\n",
        "\n",
        "import sqlite3\n",
        "\n",
        "con = sqlite3.connect('Datasets/movielens-small.db')\n",
        "cur = con.cursor()"
      ]
    },
    {
      "cell_type": "code",
      "execution_count": 5,
      "metadata": {
        "colab": {
          "base_uri": "https://localhost:8080/"
        },
        "id": "OahMiKvLqz6p",
        "outputId": "9b7a9f5d-808f-409d-e6fa-8b5d122c5de0"
      },
      "outputs": [
        {
          "name": "stdout",
          "output_type": "stream",
          "text": [
            "  % Total    % Received % Xferd  Average Speed   Time    Time     Time  Current\n",
            "                                 Dload  Upload   Total   Spent    Left  Speed\n",
            "100 7125k  100 7125k    0     0  53.5M      0 --:--:-- --:--:-- --:--:-- 53.1M\n"
          ]
        }
      ],
      "source": [
        "#For SQLite JDBC driver, it can be downloaded via:\n",
        "\n",
        "!curl -O https://repo1.maven.org/maven2/org/xerial/sqlite-jdbc/3.34.0/sqlite-jdbc-3.34.0.jar"
      ]
    },
    {
      "cell_type": "code",
      "execution_count": 6,
      "metadata": {
        "colab": {
          "base_uri": "https://localhost:8080/",
          "height": 581
        },
        "id": "9K03GzCfx8jU",
        "outputId": "cca7859b-a5f0-406a-81df-c3f86529f54a"
      },
      "outputs": [
        {
          "name": "stderr",
          "output_type": "stream",
          "text": [
            "                                                                                \r"
          ]
        },
        {
          "name": "stdout",
          "output_type": "stream",
          "text": [
            "number of rows of our dataframe: 249641\n",
            "\n",
            "\n"
          ]
        },
        {
          "data": {
            "text/html": [
              "<table border='1'>\n",
              "<tr><th>userId</th><th>movieId</th><th>genre</th><th>rating</th></tr>\n",
              "<tr><td>7</td><td>1</td><td>Adventure|Animati...</td><td>5.0</td></tr>\n",
              "<tr><td>7</td><td>1</td><td>Adventure|Animati...</td><td>5.0</td></tr>\n",
              "<tr><td>7</td><td>1</td><td>Adventure|Animati...</td><td>5.0</td></tr>\n",
              "<tr><td>10</td><td>1</td><td>Adventure|Animati...</td><td>4.0</td></tr>\n",
              "<tr><td>10</td><td>1</td><td>Adventure|Animati...</td><td>4.0</td></tr>\n",
              "<tr><td>10</td><td>1</td><td>Adventure|Animati...</td><td>4.0</td></tr>\n",
              "<tr><td>13</td><td>1</td><td>Adventure|Animati...</td><td>4.5</td></tr>\n",
              "<tr><td>13</td><td>1</td><td>Adventure|Animati...</td><td>4.5</td></tr>\n",
              "<tr><td>13</td><td>1</td><td>Adventure|Animati...</td><td>4.5</td></tr>\n",
              "<tr><td>16</td><td>1</td><td>Adventure|Animati...</td><td>5.0</td></tr>\n",
              "<tr><td>16</td><td>1</td><td>Adventure|Animati...</td><td>5.0</td></tr>\n",
              "<tr><td>16</td><td>1</td><td>Adventure|Animati...</td><td>5.0</td></tr>\n",
              "<tr><td>21</td><td>1</td><td>Adventure|Animati...</td><td>5.0</td></tr>\n",
              "<tr><td>21</td><td>1</td><td>Adventure|Animati...</td><td>5.0</td></tr>\n",
              "<tr><td>21</td><td>1</td><td>Adventure|Animati...</td><td>5.0</td></tr>\n",
              "<tr><td>22</td><td>1</td><td>Adventure|Animati...</td><td>4.0</td></tr>\n",
              "<tr><td>22</td><td>1</td><td>Adventure|Animati...</td><td>4.0</td></tr>\n",
              "<tr><td>22</td><td>1</td><td>Adventure|Animati...</td><td>4.0</td></tr>\n",
              "<tr><td>27</td><td>1</td><td>Adventure|Animati...</td><td>4.0</td></tr>\n",
              "<tr><td>27</td><td>1</td><td>Adventure|Animati...</td><td>4.0</td></tr>\n",
              "</table>\n",
              "only showing top 20 rows\n"
            ],
            "text/plain": [
              "+------+-------+--------------------+------+\n",
              "|userId|movieId|               genre|rating|\n",
              "+------+-------+--------------------+------+\n",
              "|     7|      1|Adventure|Animati...|   5.0|\n",
              "|     7|      1|Adventure|Animati...|   5.0|\n",
              "|     7|      1|Adventure|Animati...|   5.0|\n",
              "|    10|      1|Adventure|Animati...|   4.0|\n",
              "|    10|      1|Adventure|Animati...|   4.0|\n",
              "|    10|      1|Adventure|Animati...|   4.0|\n",
              "|    13|      1|Adventure|Animati...|   4.5|\n",
              "|    13|      1|Adventure|Animati...|   4.5|\n",
              "|    13|      1|Adventure|Animati...|   4.5|\n",
              "|    16|      1|Adventure|Animati...|   5.0|\n",
              "|    16|      1|Adventure|Animati...|   5.0|\n",
              "|    16|      1|Adventure|Animati...|   5.0|\n",
              "|    21|      1|Adventure|Animati...|   5.0|\n",
              "|    21|      1|Adventure|Animati...|   5.0|\n",
              "|    21|      1|Adventure|Animati...|   5.0|\n",
              "|    22|      1|Adventure|Animati...|   4.0|\n",
              "|    22|      1|Adventure|Animati...|   4.0|\n",
              "|    22|      1|Adventure|Animati...|   4.0|\n",
              "|    27|      1|Adventure|Animati...|   4.0|\n",
              "|    27|      1|Adventure|Animati...|   4.0|\n",
              "+------+-------+--------------------+------+\n",
              "only showing top 20 rows"
            ]
          },
          "execution_count": 6,
          "metadata": {},
          "output_type": "execute_result"
        }
      ],
      "source": [
        "# Write a SQL query to create a dataframe with including userid, movieid, genre and rating\n",
        "\n",
        "import csv\n",
        "with open(\"movielens.csv\", \"w\") as csvFile:\n",
        "    fieldnames = ['userId', 'movieId', 'genre', 'rating']\n",
        "    writer = csv.DictWriter(csvFile, fieldnames=fieldnames)\n",
        "    writer.writeheader()\n",
        "\n",
        "    for row in cur.execute(\"\"\"SELECT ratings.userId, movies.movieId, genres, rating \n",
        "                              FROM (((movies \n",
        "                                      INNER JOIN links ON movies.movieid = links.movieid) \n",
        "                                      LEFT JOIN ratings ON movies.movieId = ratings.movieId) \n",
        "                                      LEFT JOIN tags ON movies.movieid = tags.movieid)\"\"\"):\n",
        " \n",
        "        userId = row[0]\n",
        "        movieId = row[1]\n",
        "        genre = row[2]\n",
        "        rating = row[3]\n",
        "\n",
        "        writer.writerow({'userId': userId, \n",
        "                        'movieId':movieId,\n",
        "                        'genre': genre,\n",
        "                        'rating':rating}\n",
        "        )\n",
        "\n",
        "movielens_small_df = spark.read.csv(\"movielens.csv\", header=True)\n",
        "\n",
        "print(\"number of rows of our dataframe:\", movielens_small_df.count())\n",
        "print(\"\\n\")\n",
        "\n",
        "movielens_small_df"
      ]
    },
    {
      "cell_type": "code",
      "execution_count": 7,
      "metadata": {
        "colab": {
          "base_uri": "https://localhost:8080/"
        },
        "id": "9adqNcucRA00",
        "outputId": "c08790f9-8ab1-4de5-8c3f-958c4d1c7365"
      },
      "outputs": [
        {
          "name": "stderr",
          "output_type": "stream",
          "text": [
            "                                                                                \r"
          ]
        },
        {
          "name": "stdout",
          "output_type": "stream",
          "text": [
            "+-------+-------------------------+------------+\n",
            "|movieId|title                    |rating count|\n",
            "+-------+-------------------------+------------+\n",
            "|318    |Shawshank Redemption, The|5904        |\n",
            "|2571   |Matrix, The              |5300        |\n",
            "|296    |Pulp Fiction             |4578        |\n",
            "|2762   |Sixth Sense, The         |4080        |\n",
            "|47     |Seven (a.k.a. Se7en)     |4047        |\n",
            "+-------+-------------------------+------------+\n",
            "\n"
          ]
        }
      ],
      "source": [
        "# Count ratings for each movie, and list top 5 movies with the highest value\n",
        "\n",
        "movie_rating_count = []\n",
        "\n",
        "for row in cur.execute(\"\"\"SELECT movieid, title,COUNT(rating) \n",
        "                          FROM (SELECT ratings.userId, movies.movieId, title,genres, rating \n",
        "                                FROM (((movies \n",
        "                                        INNER JOIN links ON movies.movieid = links.movieid)\n",
        "                                        LEFT JOIN ratings ON movies.movieId = ratings.movieId)\n",
        "                                        LEFT JOIN tags ON movies.movieid = tags.movieid))                                                    \n",
        "                          GROUP BY movieid\n",
        "                          ORDER BY count(rating) DESC\n",
        "                          LIMIT 5\n",
        "                        \"\"\"):\n",
        "  movie_rating_count.append(row)\n",
        "\n",
        "schema = [\"movieId\", \"title\", \"rating count\"]\n",
        " \n",
        "# calling function to create dataframe\n",
        "df = spark.createDataFrame(movie_rating_count, schema)\n",
        "\n",
        "df.show(truncate=False)\n",
        "  "
      ]
    },
    {
      "cell_type": "code",
      "execution_count": 8,
      "metadata": {
        "colab": {
          "base_uri": "https://localhost:8080/"
        },
        "id": "dgVd_W6qkFC_",
        "outputId": "7dccc28f-4a43-4244-dc05-5c1aacdb347d"
      },
      "outputs": [
        {
          "name": "stdout",
          "output_type": "stream",
          "text": [
            "+--------------------------------+------------+\n",
            "|genres                          |rating count|\n",
            "+--------------------------------+------------+\n",
            "|Comedy                          |10162       |\n",
            "|Crime|Drama                     |10107       |\n",
            "|Comedy|Drama                    |7949        |\n",
            "|Drama                           |7846        |\n",
            "|Action|Adventure|Sci-Fi|Thriller|7182        |\n",
            "+--------------------------------+------------+\n",
            "\n"
          ]
        }
      ],
      "source": [
        "# Find and list top 5 most rated genres\n",
        "\n",
        "rated_genres = []\n",
        "\n",
        "for row in cur.execute(\"\"\"SELECT genres, COUNT(rating) \n",
        "                          FROM (SELECT ratings.userId, movies.movieId, genres, rating \n",
        "                                FROM (((movies \n",
        "                                        INNER JOIN links ON movies.movieid = links.movieid) \n",
        "                                        LEFT JOIN ratings ON movies.movieId = ratings.movieId) \n",
        "                                        LEFT JOIN tags ON movies.movieid = tags.movieid))\n",
        "                          GROUP BY genres\n",
        "                          ORDER BY COUNT(rating) DESC\n",
        "                          LIMIT 5\n",
        "                        \"\"\"):\n",
        "  rated_genres.append(row)\n",
        "\n",
        "schema = [\"genres\", \"rating count\"]\n",
        " \n",
        "# calling function to create dataframe\n",
        "df = spark.createDataFrame(rated_genres, schema)\n",
        "\n",
        "df.show(truncate=False)\n"
      ]
    },
    {
      "cell_type": "code",
      "execution_count": 9,
      "metadata": {
        "colab": {
          "base_uri": "https://localhost:8080/"
        },
        "id": "G4OzuDxlcDsL",
        "outputId": "ef97a8b8-5517-495c-a035-56c6c1562f5f"
      },
      "outputs": [
        {
          "name": "stdout",
          "output_type": "stream",
          "text": [
            "+------------+----------+\n",
            "|tags        |tags count|\n",
            "+------------+----------+\n",
            "|drama       |3542      |\n",
            "|sci-fi      |3035      |\n",
            "|twist ending|2998      |\n",
            "|psychology  |2672      |\n",
            "|crime       |2570      |\n",
            "+------------+----------+\n",
            "\n"
          ]
        }
      ],
      "source": [
        "#Find and list top 5 most rated tags\n",
        "\n",
        "rated_tags = []\n",
        "\n",
        "for row in cur.execute(\"\"\"SELECT tag, COUNT(rating) \n",
        "                          FROM (SELECT ratings.userId, movies.movieId, genres, tag, rating \n",
        "                                FROM (((movies \n",
        "                                        INNER JOIN links ON movies.movieid = links.movieid) \n",
        "                                        LEFT JOIN ratings ON movies.movieId = ratings.movieId) \n",
        "                                        LEFT JOIN tags ON movies.movieid = tags.movieid))\n",
        "                          WHERE tag is NOT NULL\n",
        "                          GROUP BY tag\n",
        "                          ORDER BY COUNT(rating) DESC\n",
        "                          LIMIT 5\n",
        "                        \"\"\"):\n",
        "  rated_tags.append(row)\n",
        "\n",
        "schema = [\"tags\", \"tags count\"]\n",
        " \n",
        "# calling function to create dataframe\n",
        "df = spark.createDataFrame(rated_tags, schema)\n",
        "\n",
        "df.show(truncate=False)\n",
        "\n"
      ]
    },
    {
      "cell_type": "code",
      "execution_count": 10,
      "metadata": {
        "colab": {
          "base_uri": "https://localhost:8080/"
        },
        "id": "7zWDyIsOk-uz",
        "outputId": "d4ad6c27-10c1-4f19-ad5e-e837a26c8012"
      },
      "outputs": [
        {
          "name": "stdout",
          "output_type": "stream",
          "text": [
            "+------+----------------+-----------------------+\n",
            "|userId|week of the year|weekly activity of user|\n",
            "+------+----------------+-----------------------+\n",
            "|384   |2008-42         |1107                   |\n",
            "|176   |2015-03         |972                    |\n",
            "|614   |2014-27         |830                    |\n",
            "|330   |2008-33         |711                    |\n",
            "|202   |2003-50         |676                    |\n",
            "+------+----------------+-----------------------+\n",
            "\n"
          ]
        }
      ],
      "source": [
        "# By using timestamp from ratings table, provide top 5 most frequent users within a week\n",
        "\n",
        "weekly_activity = []\n",
        "\n",
        "for row in cur.execute(\"\"\"SELECT userid, strftime('%Y-%W', datetime(timestamp, 'unixepoch')) AS week_year, COUNT(strftime('%Y-%W', datetime(timestamp, 'unixepoch'))) AS weekly_activity \n",
        "                          FROM ratings\n",
        "                          GROUP BY userid, week_year \n",
        "                          ORDER BY weekly_activity DESC\n",
        "                          LIMIT 5\n",
        "                        \"\"\"):\n",
        "  weekly_activity.append(row)\n",
        "\n",
        "schema = [\"userId\", \"week of the year\", \"weekly activity of user\"]\n",
        " \n",
        "# calling function to create dataframe\n",
        "df = spark.createDataFrame(weekly_activity, schema)\n",
        "\n",
        "df.show(truncate=False)\n",
        "\n"
      ]
    },
    {
      "cell_type": "code",
      "execution_count": 11,
      "metadata": {
        "colab": {
          "base_uri": "https://localhost:8080/"
        },
        "id": "eK3PElZAxM7a",
        "outputId": "30ae116e-0681-41a4-84d1-f1d14be82561"
      },
      "outputs": [
        {
          "name": "stdout",
          "output_type": "stream",
          "text": [
            "+--------------------------------------------------------+----------+\n",
            "|genres                                                  |avg_rating|\n",
            "+--------------------------------------------------------+----------+\n",
            "|Crime|Documentary|War                                   |5.0       |\n",
            "|Animation|Documentary                                   |5.0       |\n",
            "|Adventure|Fantasy|Mystery                               |5.0       |\n",
            "|Action|Adventure|Animation|Comedy|Fantasy|Mystery|Sci-Fi|5.0       |\n",
            "|Crime|Horror|Mystery                                    |4.75      |\n",
            "|Drama|Horror|War                                        |4.5       |\n",
            "|Comedy|Crime|Western                                    |4.5       |\n",
            "|Children|Horror|Mystery|Thriller                        |4.5       |\n",
            "|Animation|Comedy|Horror|IMAX                            |4.5       |\n",
            "|Animation|Children|Drama|Fantasy|IMAX                   |4.5       |\n",
            "+--------------------------------------------------------+----------+\n",
            "\n"
          ]
        }
      ],
      "source": [
        "# Calculate average ratings for each genre, and plot average ratings of top 10 genres with descending order\n",
        "\n",
        "genres_avgrating=[]\n",
        "\n",
        "for row in cur.execute(\"\"\"SELECT genres, round(avg(rating), 2) avg_rating \n",
        "                          FROM (SELECT ratings.userId, movies.movieId, genres, rating \n",
        "                                FROM (((movies \n",
        "                                        INNER JOIN links ON movies.movieid = links.movieid) \n",
        "                                        LEFT JOIN ratings ON movies.movieId = ratings.movieId) \n",
        "                                        LEFT JOIN tags ON movies.movieid = tags.movieid))\n",
        "                          GROUP BY genres\n",
        "                          ORDER BY avg_rating DESC\n",
        "                          LIMIT 10\"\"\"):\n",
        "  genres_avgrating.append(row)\n",
        "\n",
        "schema = [\"genres\", \"avg_rating\"]\n",
        " \n",
        "# calling function to create dataframe\n",
        "df = spark.createDataFrame(genres_avgrating, schema)\n",
        "\n",
        "df.show(truncate=False)\n",
        "\n"
      ]
    },
    {
      "cell_type": "markdown",
      "metadata": {
        "id": "3M2z4B1ZubTP"
      },
      "source": [
        "## TASK 2 - Recommender Design"
      ]
    },
    {
      "cell_type": "code",
      "execution_count": 12,
      "metadata": {
        "id": "Hd6rfJRvuf0U"
      },
      "outputs": [],
      "source": [
        "from pyspark.ml.evaluation import RegressionEvaluator\n",
        "from pyspark.ml.recommendation import ALS"
      ]
    },
    {
      "cell_type": "code",
      "execution_count": 13,
      "metadata": {
        "id": "w0YoCcJzPkrB"
      },
      "outputs": [],
      "source": [
        "spark = SparkSession.builder.appName(\"movieRecommendation\").getOrCreate() "
      ]
    },
    {
      "cell_type": "code",
      "execution_count": 14,
      "metadata": {
        "colab": {
          "base_uri": "https://localhost:8080/",
          "height": 529
        },
        "id": "XlqTJcjFSdHr",
        "outputId": "4f9bf3d2-7be9-42f8-af34-eb03fc282028"
      },
      "outputs": [
        {
          "data": {
            "text/html": [
              "<table border='1'>\n",
              "<tr><th>userId</th><th>movieId</th><th>rating</th></tr>\n",
              "<tr><td>1</td><td>6</td><td>2.0</td></tr>\n",
              "<tr><td>1</td><td>22</td><td>3.0</td></tr>\n",
              "<tr><td>1</td><td>32</td><td>2.0</td></tr>\n",
              "<tr><td>1</td><td>50</td><td>5.0</td></tr>\n",
              "<tr><td>1</td><td>110</td><td>4.0</td></tr>\n",
              "<tr><td>1</td><td>164</td><td>3.0</td></tr>\n",
              "<tr><td>1</td><td>198</td><td>3.0</td></tr>\n",
              "<tr><td>1</td><td>260</td><td>5.0</td></tr>\n",
              "<tr><td>1</td><td>296</td><td>4.0</td></tr>\n",
              "<tr><td>1</td><td>303</td><td>3.0</td></tr>\n",
              "<tr><td>1</td><td>318</td><td>3.0</td></tr>\n",
              "<tr><td>1</td><td>350</td><td>3.0</td></tr>\n",
              "<tr><td>1</td><td>366</td><td>2.0</td></tr>\n",
              "<tr><td>1</td><td>367</td><td>4.0</td></tr>\n",
              "<tr><td>1</td><td>431</td><td>2.0</td></tr>\n",
              "<tr><td>1</td><td>432</td><td>2.0</td></tr>\n",
              "<tr><td>1</td><td>451</td><td>1.0</td></tr>\n",
              "<tr><td>1</td><td>457</td><td>4.0</td></tr>\n",
              "<tr><td>1</td><td>474</td><td>3.0</td></tr>\n",
              "<tr><td>1</td><td>480</td><td>4.0</td></tr>\n",
              "</table>\n",
              "only showing top 20 rows\n"
            ],
            "text/plain": [
              "+------+-------+------+\n",
              "|userId|movieId|rating|\n",
              "+------+-------+------+\n",
              "|     1|      6|   2.0|\n",
              "|     1|     22|   3.0|\n",
              "|     1|     32|   2.0|\n",
              "|     1|     50|   5.0|\n",
              "|     1|    110|   4.0|\n",
              "|     1|    164|   3.0|\n",
              "|     1|    198|   3.0|\n",
              "|     1|    260|   5.0|\n",
              "|     1|    296|   4.0|\n",
              "|     1|    303|   3.0|\n",
              "|     1|    318|   3.0|\n",
              "|     1|    350|   3.0|\n",
              "|     1|    366|   2.0|\n",
              "|     1|    367|   4.0|\n",
              "|     1|    431|   2.0|\n",
              "|     1|    432|   2.0|\n",
              "|     1|    451|   1.0|\n",
              "|     1|    457|   4.0|\n",
              "|     1|    474|   3.0|\n",
              "|     1|    480|   4.0|\n",
              "+------+-------+------+\n",
              "only showing top 20 rows"
            ]
          },
          "execution_count": 14,
          "metadata": {},
          "output_type": "execute_result"
        }
      ],
      "source": [
        "# using movie rating data to probide implicit feature using ALS(Alternate Least Squares)\n",
        "\n",
        "movie_rating=[]\n",
        "\n",
        "for row in cur.execute(\"\"\"SELECT userId, movieId, rating \n",
        "                          FROM ratings\n",
        "                                      \"\"\"):\n",
        "  movie_rating.append(row)\n",
        "\n",
        "schema = [\"userId\", \"movieId\", \"rating\"]\n",
        " \n",
        "# calling function to create dataframe\n",
        "movie_rating_df = spark.createDataFrame(movie_rating, schema)\n",
        "\n",
        "movie_rating_df\n",
        "\n",
        "\n"
      ]
    },
    {
      "cell_type": "code",
      "execution_count": 15,
      "metadata": {
        "colab": {
          "base_uri": "https://localhost:8080/"
        },
        "id": "4sHsJtxjKL9A",
        "outputId": "0d4470c6-577b-47d7-94be-fb36f80937d6"
      },
      "outputs": [
        {
          "name": "stdout",
          "output_type": "stream",
          "text": [
            "root\n",
            " |-- userId: long (nullable = true)\n",
            " |-- movieId: long (nullable = true)\n",
            " |-- rating: double (nullable = true)\n",
            "\n"
          ]
        }
      ],
      "source": [
        "# description of created schema \n",
        "movie_rating_df.printSchema()"
      ]
    },
    {
      "cell_type": "code",
      "execution_count": 16,
      "metadata": {
        "id": "k0xQG5w9ryG8"
      },
      "outputs": [],
      "source": [
        "#splitting dataset to train the model as 80% for train and remaining for test data.\n",
        "(train, test) = movie_rating_df.randomSplit([0.8, 0.2], seed=87)"
      ]
    },
    {
      "cell_type": "code",
      "execution_count": 17,
      "metadata": {
        "colab": {
          "base_uri": "https://localhost:8080/"
        },
        "id": "hGTNsGakWNl6",
        "outputId": "09fa8371-5c7b-425b-de3b-0cb88923645b"
      },
      "outputs": [
        {
          "name": "stderr",
          "output_type": "stream",
          "text": [
            "24/01/23 10:04:11 WARN BLAS: Failed to load implementation from: com.github.fommil.netlib.NativeSystemBLAS\n",
            "24/01/23 10:04:11 WARN BLAS: Failed to load implementation from: com.github.fommil.netlib.NativeRefBLAS\n",
            "24/01/23 10:04:11 WARN LAPACK: Failed to load implementation from: com.github.fommil.netlib.NativeSystemLAPACK\n",
            "24/01/23 10:04:11 WARN LAPACK: Failed to load implementation from: com.github.fommil.netlib.NativeRefLAPACK\n",
            "[Stage 127:================>                                       (3 + 2) / 10]\r"
          ]
        },
        {
          "name": "stdout",
          "output_type": "stream",
          "text": [
            "+------+-------+------+---------+\n",
            "|userId|movieId|rating|implicit |\n",
            "+------+-------+------+---------+\n",
            "|511   |148    |3.0   |2.2868726|\n",
            "|31    |471    |4.5   |4.0591545|\n",
            "|159   |471    |4.0   |3.7307599|\n",
            "|40    |471    |4.0   |3.8190136|\n",
            "|489   |471    |5.0   |4.4431553|\n",
            "|505   |471    |5.0   |5.138457 |\n",
            "|114   |471    |4.0   |4.3663287|\n",
            "|100   |471    |4.0   |4.5732665|\n",
            "|450   |471    |2.0   |1.5212581|\n",
            "|7     |471    |4.0   |4.049525 |\n",
            "|214   |471    |3.0   |3.9719532|\n",
            "|221   |471    |5.0   |6.061598 |\n",
            "|284   |471    |1.0   |2.5042088|\n",
            "|499   |471    |3.0   |4.1740155|\n",
            "|153   |471    |3.0   |3.0022483|\n",
            "|677   |833    |2.0   |2.3963344|\n",
            "|199   |833    |5.0   |2.4504826|\n",
            "|500   |1088   |3.0   |2.7542734|\n",
            "|339   |1088   |4.5   |3.2113464|\n",
            "|491   |1088   |2.0   |5.1001573|\n",
            "+------+-------+------+---------+\n",
            "only showing top 20 rows\n",
            "\n"
          ]
        },
        {
          "name": "stderr",
          "output_type": "stream",
          "text": [
            "                                                                                \r"
          ]
        }
      ],
      "source": [
        "# 1st Recommender model - Alternating Least Square (ALS) Matrix Factorization in Collaborative Filtering on rating (as actual values) \n",
        "\n",
        "als = ALS(rank=10, maxIter=15, regParam=0.01, userCol=\"userId\", itemCol=\"movieId\", ratingCol=\"rating\", coldStartStrategy=\"drop\")\n",
        "\n",
        "model = als.fit(train)\n",
        "\n",
        "pred = model.transform(test)\n",
        "\n",
        "pred = pred.selectExpr(\"userId as userId\",\"movieId as movieId\",\"rating as rating\",\"prediction as implicit\")\n",
        "\n",
        "pred.show(truncate=False)"
      ]
    },
    {
      "cell_type": "code",
      "execution_count": 18,
      "metadata": {
        "colab": {
          "base_uri": "https://localhost:8080/"
        },
        "id": "6IxWorgqcUIO",
        "outputId": "bf56b94f-7c1b-4cb9-fc51-04d2eb244d95"
      },
      "outputs": [
        {
          "name": "stderr",
          "output_type": "stream",
          "text": [
            "[Stage 205:===================================================> (193 + 2) / 200]\r"
          ]
        },
        {
          "name": "stdout",
          "output_type": "stream",
          "text": [
            "RMSE of ALS: 1.1989328763509657\n",
            "MAE of ALS: 0.8902257735617987\n"
          ]
        },
        {
          "name": "stderr",
          "output_type": "stream",
          "text": [
            "                                                                                \r"
          ]
        }
      ],
      "source": [
        "#calculating RMSE and MAE to evaluate performance of the models. \n",
        "\n",
        "eval_rmse = RegressionEvaluator(metricName=\"rmse\", labelCol=\"rating\", predictionCol=\"implicit\")\n",
        "eval_mae = RegressionEvaluator(metricName=\"mae\", labelCol=\"rating\", predictionCol=\"implicit\")\n",
        "\n",
        "\n",
        "rmse = eval_rmse.evaluate(pred)\n",
        "mae = eval_mae.evaluate(pred)\n",
        "\n",
        "\n",
        "print(\"RMSE of ALS:\", rmse)\n",
        "print(\"MAE of ALS:\", mae)\n",
        "\n",
        "\n"
      ]
    },
    {
      "cell_type": "code",
      "execution_count": 19,
      "metadata": {
        "colab": {
          "base_uri": "https://localhost:8080/"
        },
        "id": "QiveQdC4vbT-",
        "outputId": "792174a8-f360-48ab-9e95-b73b6c8f1410"
      },
      "outputs": [
        {
          "name": "stderr",
          "output_type": "stream",
          "text": [
            "[Stage 542:============>(193 + 3) / 200][Stage 543:===>            (2 + 0) / 10]\r"
          ]
        },
        {
          "name": "stdout",
          "output_type": "stream",
          "text": [
            "+------+-------+------+---------+----------+\n",
            "|userId|movieId|rating|implicit |prediction|\n",
            "+------+-------+------+---------+----------+\n",
            "|159   |471    |4.0   |3.7307599|3.2100675 |\n",
            "|114   |471    |4.0   |4.3663287|4.9844255 |\n",
            "|214   |471    |3.0   |3.9719532|3.204597  |\n",
            "|221   |471    |5.0   |6.061598 |3.1016166 |\n",
            "|284   |471    |1.0   |2.5042088|3.074966  |\n",
            "|339   |1088   |4.5   |3.2113464|4.6573715 |\n",
            "|581   |1580   |3.5   |4.4716005|2.9713326 |\n",
            "|48    |1580   |5.0   |4.43153  |3.2103605 |\n",
            "|37    |1580   |4.5   |4.1130466|3.913432  |\n",
            "|523   |1580   |3.5   |3.7270386|3.1889482 |\n",
            "|627   |1580   |3.0   |3.232979 |2.4179761 |\n",
            "|529   |1580   |3.5   |3.7929277|3.6058168 |\n",
            "|384   |1591   |2.5   |3.72709  |2.0936759 |\n",
            "|246   |1591   |3.5   |3.660907 |1.5329692 |\n",
            "|384   |1645   |3.5   |3.1507044|2.5546923 |\n",
            "|455   |1645   |2.5   |3.1708877|3.338704  |\n",
            "|8     |1645   |3.0   |3.7471874|3.0631862 |\n",
            "|529   |1645   |3.0   |2.9021955|3.1574273 |\n",
            "|416   |2142   |3.0   |4.711654 |2.63531   |\n",
            "|677   |2142   |4.0   |2.7661698|2.844186  |\n",
            "+------+-------+------+---------+----------+\n",
            "only showing top 20 rows\n",
            "\n"
          ]
        },
        {
          "name": "stderr",
          "output_type": "stream",
          "text": [
            "                                                                                \r"
          ]
        }
      ],
      "source": [
        "# 2nd Recommender model - Alternating Least Square (ALS) Matrix Factorization in Collaborative Filtering on designed implicit feedback values \n",
        "\n",
        "\n",
        "(train_implicit, test_implicit) = pred.randomSplit([0.8, 0.2], seed=87)\n",
        "\n",
        "als_implicit = ALS(rank=10, maxIter=15, regParam=0.01, userCol=\"userId\", itemCol=\"movieId\", ratingCol=\"implicit\", coldStartStrategy=\"drop\")\n",
        "\n",
        "model_implicit = als_implicit.fit(train_implicit)\n",
        "\n",
        "pred_implicit = model_implicit.transform(test_implicit)\n",
        "\n",
        "pred_implicit.show(truncate=False)"
      ]
    },
    {
      "cell_type": "code",
      "execution_count": 20,
      "metadata": {
        "colab": {
          "base_uri": "https://localhost:8080/"
        },
        "id": "4oUlsznN7MGh",
        "outputId": "b1757443-91a5-44e8-8f03-32982684794f"
      },
      "outputs": [
        {
          "name": "stderr",
          "output_type": "stream",
          "text": [
            "[Stage 703:===================================================> (195 + 2) / 200]\r"
          ]
        },
        {
          "name": "stdout",
          "output_type": "stream",
          "text": [
            "RMSE of ALS_Implicit Feedback: 1.7223986976021965\n",
            "MAE of ALS_Implicit Feedback: 1.3463243492090076\n"
          ]
        },
        {
          "name": "stderr",
          "output_type": "stream",
          "text": [
            "                                                                                \r"
          ]
        }
      ],
      "source": [
        "eval_rmse = RegressionEvaluator(metricName=\"rmse\", labelCol=\"rating\", predictionCol=\"prediction\")\n",
        "eval_mae = RegressionEvaluator(metricName=\"mae\", labelCol=\"rating\", predictionCol=\"prediction\")\n",
        "\n",
        "\n",
        "rmse = eval_rmse.evaluate(pred_implicit)\n",
        "mae = eval_mae.evaluate(pred_implicit)\n",
        "\n",
        "\n",
        "print(\"RMSE of ALS_Implicit Feedback:\", rmse)\n",
        "print(\"MAE of ALS_Implicit Feedback:\", mae)"
      ]
    },
    {
      "cell_type": "markdown",
      "metadata": {
        "id": "imQMCTu799AA"
      },
      "source": [
        "When compared these two models, the 1st model ( ALS on rating ) shows better performance compared to 2nd model (ALS on implicit feedback) according to error metrics such as Root Mean Square Error (RMSE) and Mean Absolute Error (MAE). "
      ]
    },
    {
      "cell_type": "markdown",
      "metadata": {
        "id": "xeRDX3e3-4z5"
      },
      "source": [
        "## Task – 3 Text Analysis"
      ]
    },
    {
      "cell_type": "code",
      "execution_count": 21,
      "metadata": {
        "id": "mY-LEz8E-8CP"
      },
      "outputs": [],
      "source": [
        "spark = SparkSession.builder.appName(\"textAnalysis\").getOrCreate()"
      ]
    },
    {
      "cell_type": "code",
      "execution_count": 22,
      "metadata": {
        "id": "zXVe2XVGHOut"
      },
      "outputs": [],
      "source": [
        "from pyspark.ml.feature import Tokenizer, RegexTokenizer\n",
        "from pyspark.sql.functions import col, udf\n"
      ]
    },
    {
      "cell_type": "code",
      "execution_count": 23,
      "metadata": {},
      "outputs": [
        {
          "name": "stdout",
          "output_type": "stream",
          "text": [
            "  % Total    % Received % Xferd  Average Speed   Time    Time     Time  Current\n",
            "                                 Dload  Upload   Total   Spent    Left  Speed\n",
            "100 80.2M  100 80.2M    0     0  5738k      0  0:00:14  0:00:14 --:--:-- 13.2MM    0  144k    0     0  88722      0  0:15:48  0:00:01  0:15:47 88668\n"
          ]
        }
      ],
      "source": [
        "# download the data in Dataset folder.\n",
        "\n",
        "\n",
        "\n",
        "!curl -o Datasets/aclImdb_v1.tar.gz https://ai.stanford.edu/~amaas/data/sentiment/aclImdb_v1.tar.gz\n"
      ]
    },
    {
      "cell_type": "code",
      "execution_count": 24,
      "metadata": {
        "colab": {
          "base_uri": "https://localhost:8080/"
        },
        "id": "_13BV8pDCDiN",
        "outputId": "d7ac9527-f4af-4524-824a-f5a679f38650"
      },
      "outputs": [
        {
          "name": "stdout",
          "output_type": "stream",
          "text": [
            "Remaining files: 000000\n",
            "Extraction completed.\n"
          ]
        }
      ],
      "source": [
        "#Extract the tar file as dataset\n",
        "\n",
        "import tarfile\n",
        "\n",
        "def tarfile_extract(tar_file, output_dir=os.getcwd()+'/Datasets'):\n",
        "    tar = tarfile.open(tar_file, 'r:gz')\n",
        "    total_files = sum(1 for _ in tar)\n",
        "    tar.extractall(output_dir, members=extract_progress(tar, total_files))\n",
        "    tar.close()\n",
        "\n",
        "def extract_progress(tar, total_files):\n",
        "    for member in tar:\n",
        "        yield member\n",
        "        total_files -= 1\n",
        "        print(f\"Remaining files: {total_files}\", end='\\r')\n",
        "    print(\"\\nExtraction completed.\")\n",
        "\n",
        "wd = os.getcwd()\n",
        "tarfile_extract(wd+'/Datasets/aclImdb_v1.tar.gz')\n"
      ]
    },
    {
      "cell_type": "code",
      "execution_count": 25,
      "metadata": {
        "id": "K7ezNM9_W3jQ"
      },
      "outputs": [],
      "source": [
        "\n",
        "#using 'alldata' list to store all the files in the directories\n",
        "alldata=[]\n",
        "\n",
        "\n",
        "#collecting data in train/pos folder\n",
        "for fname in os.listdir(wd+'/Datasets/aclImdb/train/pos'):\n",
        "    with open(os.path.join(wd+'/Datasets/aclImdb/train/pos', fname), encoding = 'utf-8') as infile:\n",
        "        for line in infile:\n",
        "            alldata.append((line,'train','pos'))\n",
        "\n",
        "#collecting data in train/neg folder\n",
        "for fname in os.listdir(wd+'/Datasets/aclImdb/train/neg'):\n",
        "    with open(os.path.join(wd+'/Datasets/aclImdb/train/neg', fname), encoding = 'utf-8') as infile:\n",
        "        for line in infile:\n",
        "            alldata.append((line,'train','neg'))\n",
        "#collecting data in test/pos folder\n",
        "for fname in os.listdir(wd+'/Datasets/aclImdb/test/pos'):\n",
        "    with open(os.path.join(wd+'/Datasets/aclImdb/test/pos', fname), encoding = 'utf-8') as infile:\n",
        "        for line in infile:\n",
        "            alldata.append((line,'test','pos'))\n",
        "#collecting data in test/neg folder\n",
        "for fname in os.listdir(wd+'/Datasets/aclImdb/test/neg'):\n",
        "    with open(os.path.join(wd+'/Datasets/aclImdb/test/neg', fname), encoding = 'utf-8') as infile:\n",
        "        for line in infile:\n",
        "            alldata.append((line,'test','neg'))\n",
        "\n",
        "\n"
      ]
    },
    {
      "cell_type": "code",
      "execution_count": 26,
      "metadata": {
        "colab": {
          "base_uri": "https://localhost:8080/"
        },
        "id": "1uH1TGbjlh7o",
        "outputId": "c43c9ce1-1a78-41f4-8034-1c3e5b3c537f"
      },
      "outputs": [
        {
          "name": "stdout",
          "output_type": "stream",
          "text": [
            "StructType(List(StructField(content,StringType,true),StructField(label,StringType,true),StructField(sentiemtn,StringType,true)))\n",
            "+--------------------+-----+---------+\n",
            "|             content|label|sentiemtn|\n",
            "+--------------------+-----+---------+\n",
            "|Man, this is a ha...|train|      pos|\n",
            "|The Color Purple ...|train|      pos|\n",
            "|Randolph Scott is...|train|      pos|\n",
            "|High energy Raoul...|train|      pos|\n",
            "|One of the great ...|train|      pos|\n",
            "|Although I'm grat...|train|      pos|\n",
            "|It is hard to des...|train|      pos|\n",
            "|- Having grown ti...|train|      pos|\n",
            "|This movie is fun...|train|      pos|\n",
            "|It was considered...|train|      pos|\n",
            "|Other commentator...|train|      pos|\n",
            "|I saw this movie ...|train|      pos|\n",
            "|So i consider mys...|train|      pos|\n",
            "|My mother took me...|train|      pos|\n",
            "|After 21 movies a...|train|      pos|\n",
            "|I have a six mont...|train|      pos|\n",
            "|...On stage, TV o...|train|      pos|\n",
            "|I had to see this...|train|      pos|\n",
            "|Although at one p...|train|      pos|\n",
            "|Hot Millions is a...|train|      pos|\n",
            "+--------------------+-----+---------+\n",
            "only showing top 20 rows\n",
            "\n"
          ]
        },
        {
          "name": "stderr",
          "output_type": "stream",
          "text": [
            "24/01/23 10:06:38 WARN TaskSetManager: Stage 705 contains a task of very large size (32123 KiB). The maximum recommended task size is 1000 KiB.\n"
          ]
        }
      ],
      "source": [
        "\n",
        "from pyspark.sql.types import ArrayType, StructField, StructType, StringType, IntegerType\n",
        "\n",
        "appName = \"list to Spark Data Frame\"\n",
        "master = \"local\"\n",
        "\n",
        "# Create Spark session\n",
        "spark = SparkSession.builder \\\n",
        "    .appName(appName) \\\n",
        "    .master(master) \\\n",
        "    .getOrCreate()\n",
        "\n",
        "# List\n",
        "data = alldata\n",
        "\n",
        "# Create a schema for the dataframe\n",
        "schema = StructType([\n",
        "    StructField('content', StringType(), True),\n",
        "    StructField('label', StringType(), True),\n",
        "    StructField('sentiemtn', StringType(), True)\n",
        "])\n",
        "\n",
        "# Convert list to RDD\n",
        "rdd = spark.sparkContext.parallelize(data)\n",
        "\n",
        "# Create data frame\n",
        "df = spark.createDataFrame(rdd,schema)\n",
        "print(df.schema)\n",
        "df.show()"
      ]
    },
    {
      "cell_type": "code",
      "execution_count": 27,
      "metadata": {
        "colab": {
          "base_uri": "https://localhost:8080/"
        },
        "id": "v7DUME6Xx1Hx",
        "outputId": "fb816dd9-aaf3-4af3-b678-577c5bbfa3b8"
      },
      "outputs": [
        {
          "name": "stderr",
          "output_type": "stream",
          "text": [
            "24/01/23 10:06:38 WARN TaskSetManager: Stage 706 contains a task of very large size (32123 KiB). The maximum recommended task size is 1000 KiB.\n",
            "                                                                                \r"
          ]
        },
        {
          "data": {
            "text/plain": [
              "50000"
            ]
          },
          "execution_count": 27,
          "metadata": {},
          "output_type": "execute_result"
        }
      ],
      "source": [
        "df.count()"
      ]
    },
    {
      "cell_type": "code",
      "execution_count": 28,
      "metadata": {
        "colab": {
          "base_uri": "https://localhost:8080/"
        },
        "id": "_JoFIyowyMjB",
        "outputId": "ff0c2ad5-97bf-4773-c4b8-9bffe15c187c"
      },
      "outputs": [
        {
          "name": "stdout",
          "output_type": "stream",
          "text": [
            "root\n",
            " |-- content: string (nullable = true)\n",
            " |-- label: string (nullable = true)\n",
            " |-- sentiemtn: string (nullable = true)\n",
            "\n"
          ]
        }
      ],
      "source": [
        "# Schema of created Spark Dataframe\n",
        "\n",
        "df.printSchema()"
      ]
    },
    {
      "cell_type": "markdown",
      "metadata": {
        "id": "xPXsyhn_2QZC"
      },
      "source": [
        "###Tokenization"
      ]
    },
    {
      "cell_type": "code",
      "execution_count": 29,
      "metadata": {
        "colab": {
          "base_uri": "https://localhost:8080/"
        },
        "id": "zK1PwZq5yhfK",
        "outputId": "e8f45810-67b3-4db0-bfc9-0c8656d7ca26"
      },
      "outputs": [
        {
          "name": "stderr",
          "output_type": "stream",
          "text": [
            "24/01/23 10:06:40 WARN TaskSetManager: Stage 708 contains a task of very large size (32123 KiB). The maximum recommended task size is 1000 KiB.\n"
          ]
        },
        {
          "name": "stdout",
          "output_type": "stream",
          "text": [
            "+--------------------+-----+---------+--------------------+\n",
            "|             content|label|sentiemtn|   tokenized_content|\n",
            "+--------------------+-----+---------+--------------------+\n",
            "|Man, this is a ha...|train|      pos|[man, this, is, a...|\n",
            "|The Color Purple ...|train|      pos|[the, color, purp...|\n",
            "|Randolph Scott is...|train|      pos|[randolph, scott,...|\n",
            "|High energy Raoul...|train|      pos|[high, energy, ra...|\n",
            "|One of the great ...|train|      pos|[one, of, the, gr...|\n",
            "|Although I'm grat...|train|      pos|[although, i, m, ...|\n",
            "|It is hard to des...|train|      pos|[it, is, hard, to...|\n",
            "|- Having grown ti...|train|      pos|[having, grown, t...|\n",
            "|This movie is fun...|train|      pos|[this, movie, is,...|\n",
            "|It was considered...|train|      pos|[it, was, conside...|\n",
            "|Other commentator...|train|      pos|[other, commentat...|\n",
            "|I saw this movie ...|train|      pos|[i, saw, this, mo...|\n",
            "|So i consider mys...|train|      pos|[so, i, consider,...|\n",
            "|My mother took me...|train|      pos|[my, mother, took...|\n",
            "|After 21 movies a...|train|      pos|[after, 21, movie...|\n",
            "|I have a six mont...|train|      pos|[i, have, a, six,...|\n",
            "|...On stage, TV o...|train|      pos|[on, stage, tv, o...|\n",
            "|I had to see this...|train|      pos|[i, had, to, see,...|\n",
            "|Although at one p...|train|      pos|[although, at, on...|\n",
            "|Hot Millions is a...|train|      pos|[hot, millions, i...|\n",
            "+--------------------+-----+---------+--------------------+\n",
            "only showing top 20 rows\n",
            "\n"
          ]
        }
      ],
      "source": [
        "#using RegexTokenizer for tokenizing contents\n",
        "\n",
        "tokenizer = RegexTokenizer(inputCol=\"content\", outputCol=\"tokenized_content\", pattern=\"\\\\W\") # used regexp to determine pattern as 'not word'\n",
        "\n",
        "countTokens = udf(lambda w: len(w), IntegerType())\n",
        "\n",
        "tokenized = tokenizer.transform(df)\n",
        "\n",
        "tokenized.show()"
      ]
    },
    {
      "cell_type": "markdown",
      "metadata": {
        "id": "Gf-Omq8n15FM"
      },
      "source": [
        "### Removing Stop Words"
      ]
    },
    {
      "cell_type": "code",
      "execution_count": 30,
      "metadata": {
        "colab": {
          "base_uri": "https://localhost:8080/"
        },
        "id": "_NcWM3ek-iph",
        "outputId": "ead4cd37-4991-4f5d-ee5a-3c658913581c"
      },
      "outputs": [
        {
          "data": {
            "text/plain": [
              "pyspark.sql.dataframe.DataFrame"
            ]
          },
          "execution_count": 30,
          "metadata": {},
          "output_type": "execute_result"
        }
      ],
      "source": [
        "type(tokenized)"
      ]
    },
    {
      "cell_type": "code",
      "execution_count": 31,
      "metadata": {
        "colab": {
          "base_uri": "https://localhost:8080/"
        },
        "id": "PtoV10AW1uN6",
        "outputId": "36fc2c88-3b56-44d6-e93f-99565adab26e"
      },
      "outputs": [
        {
          "name": "stdout",
          "output_type": "stream",
          "text": [
            "+--------------------+-----+---------+--------------------+\n",
            "|             content|label|sentiemtn|   tokenized_content|\n",
            "+--------------------+-----+---------+--------------------+\n",
            "|Man, this is a ha...|train|      pos|[man, this, is, a...|\n",
            "|The Color Purple ...|train|      pos|[the, color, purp...|\n",
            "|Randolph Scott is...|train|      pos|[randolph, scott,...|\n",
            "|High energy Raoul...|train|      pos|[high, energy, ra...|\n",
            "|One of the great ...|train|      pos|[one, of, the, gr...|\n",
            "|Although I'm grat...|train|      pos|[although, i, m, ...|\n",
            "|It is hard to des...|train|      pos|[it, is, hard, to...|\n",
            "|- Having grown ti...|train|      pos|[having, grown, t...|\n",
            "|This movie is fun...|train|      pos|[this, movie, is,...|\n",
            "|It was considered...|train|      pos|[it, was, conside...|\n",
            "|Other commentator...|train|      pos|[other, commentat...|\n",
            "|I saw this movie ...|train|      pos|[i, saw, this, mo...|\n",
            "|So i consider mys...|train|      pos|[so, i, consider,...|\n",
            "|My mother took me...|train|      pos|[my, mother, took...|\n",
            "|After 21 movies a...|train|      pos|[after, 21, movie...|\n",
            "|I have a six mont...|train|      pos|[i, have, a, six,...|\n",
            "|...On stage, TV o...|train|      pos|[on, stage, tv, o...|\n",
            "|I had to see this...|train|      pos|[i, had, to, see,...|\n",
            "|Although at one p...|train|      pos|[although, at, on...|\n",
            "|Hot Millions is a...|train|      pos|[hot, millions, i...|\n",
            "+--------------------+-----+---------+--------------------+\n",
            "only showing top 20 rows\n",
            "\n"
          ]
        },
        {
          "name": "stderr",
          "output_type": "stream",
          "text": [
            "24/01/23 10:06:40 WARN TaskSetManager: Stage 709 contains a task of very large size (32123 KiB). The maximum recommended task size is 1000 KiB.\n"
          ]
        }
      ],
      "source": [
        "from pyspark.ml.feature import StopWordsRemover\n",
        "\n",
        "tokenized.show()"
      ]
    },
    {
      "cell_type": "code",
      "execution_count": 32,
      "metadata": {
        "id": "IN6Qe86F4cPF"
      },
      "outputs": [],
      "source": [
        "df_tokenized = tokenized.select(\"tokenized_content\").withColumn(\"tokenCount\", countTokens(col(\"tokenized_content\")))"
      ]
    },
    {
      "cell_type": "code",
      "execution_count": 33,
      "metadata": {
        "colab": {
          "base_uri": "https://localhost:8080/"
        },
        "id": "V6gu2PKO9bkw",
        "outputId": "21a74ae9-84cd-494c-f73d-67eaeac6a24a"
      },
      "outputs": [
        {
          "data": {
            "text/plain": [
              "pyspark.sql.dataframe.DataFrame"
            ]
          },
          "execution_count": 33,
          "metadata": {},
          "output_type": "execute_result"
        }
      ],
      "source": [
        "type(df_tokenized)"
      ]
    },
    {
      "cell_type": "code",
      "execution_count": 34,
      "metadata": {
        "colab": {
          "base_uri": "https://localhost:8080/"
        },
        "id": "H1JaxUOh3eIL",
        "outputId": "906b1c9e-4510-43cf-8b02-dd2d89ecbb6a"
      },
      "outputs": [
        {
          "name": "stderr",
          "output_type": "stream",
          "text": [
            "24/01/23 10:06:41 WARN TaskSetManager: Stage 710 contains a task of very large size (32123 KiB). The maximum recommended task size is 1000 KiB.\n"
          ]
        },
        {
          "name": "stdout",
          "output_type": "stream",
          "text": [
            "+---------------------------------------------------------------------------------------------------------------------------------------------------------------------------------------------------------------------------------------------------------------------------------------------------------------------------------------------------------------------------------------------------------------------------------------------------------------------------------------------------------------------------------------------------------------------------------------------------------------------------------------------------------------------------------------------------------------------------------------------------------------------------------------------------------------------------------------------------------------------------------------------------------------------------------------------------------------------------------------------------------------------------------------------------------------------------------------------------------------------------------------------------------------------------------------------------------------------------------------------------------------------------------------------------------------------------------------------------------------------------------------------------------------------------------------------------------------------------------------------------------------------------------------------------------------------------------------------------------------------------------------------------------------------------------------------------------------------------------------------------------------------------------------------------------------------------------------------------------------------------------------------------------------------------------------------------------------------------------------------------------------------------------------------------------------------------------------------------------------------------------------------------------------------------------------------------------------------------------------------------------------------------------------------------------------------------------------------------------------------------------------------------------------------------------------------------------------------------------------------------------------------------------------------------------------------------------------------------------------------------+\n",
            "|SWRed                                                                                                                                                                                                                                                                                                                                                                                                                                                                                                                                                                                                                                                                                                                                                                                                                                                                                                                                                                                                                                                                                                                                                                                                                                                                                                                                                                                                                                                                                                                                                                                                                                                                                                                                                                                                                                                                                                                                                                                                                                                                                                                                                                                                                                                                                                                                                                                                                                                                                                                                                                                                                      |\n",
            "+---------------------------------------------------------------------------------------------------------------------------------------------------------------------------------------------------------------------------------------------------------------------------------------------------------------------------------------------------------------------------------------------------------------------------------------------------------------------------------------------------------------------------------------------------------------------------------------------------------------------------------------------------------------------------------------------------------------------------------------------------------------------------------------------------------------------------------------------------------------------------------------------------------------------------------------------------------------------------------------------------------------------------------------------------------------------------------------------------------------------------------------------------------------------------------------------------------------------------------------------------------------------------------------------------------------------------------------------------------------------------------------------------------------------------------------------------------------------------------------------------------------------------------------------------------------------------------------------------------------------------------------------------------------------------------------------------------------------------------------------------------------------------------------------------------------------------------------------------------------------------------------------------------------------------------------------------------------------------------------------------------------------------------------------------------------------------------------------------------------------------------------------------------------------------------------------------------------------------------------------------------------------------------------------------------------------------------------------------------------------------------------------------------------------------------------------------------------------------------------------------------------------------------------------------------------------------------------------------------------------------+\n",
            "|[man, hard, dvd, come, find, region, 2, spanish, import, expensive, br, br, worth, well, yes, much, masterpiece, film, making, though, directed, curt, siodmak, credits, imdb, com, read, robert, dvd, credits, list, curt, couple, familiar, figures, murder, mysteries, elisha, cook, jr, thomas, gomez, decade, long, curiosity, movie, finally, satisfied, br, br, essentially, respected, self, contained, engineer, alan, curtis, stood, estranged, wife, finds, new, york, bar, two, show, tickets, pocket, woman, strange, hat, stool, next, politely, invites, join, musical, review, accepts, little, gloomily, mopey, bartender, gives, eye, leave, br, br, show, tempestuous, star, notices, lady, audience, wearing, hat, erupts, offstage, anger, drummer, band, cook, leers, silent, lady, gets, response, curtis, takes, woman, home, asks, name, won, give, doesn, want, know, d, longfellow, devotee, d, said, something, ships, pass, night, br, br, okay, curtis, goes, home, find, wife, murdered, absence, head, police, officer, gomez, turns, da, alibi, phantom, lady, one, else, seems, remember, bartender, latina, star, cab, driver, al, alp, drummer, since, lady, disappeared, impossible, dig, br, br, curtis, convicted, sentenced, die, inspector, gomez, thought, things, decided, probably, innocent, nobody, brain, make, stupid, story, joins, curtis, loving, secretary, ella, raines, re, investigating, case, informally, br, br, visit, supposed, witnesses, ominous, bartender, run, car, perhaps, accidentally, picture, hot, tempered, latina, left, show, closed, uncooperative, ignorant, source, hat, anyway, elisha, cook, jr, strangled, real, murderer, featured, scene, pounds, drums, improvised, jazz, group, sweaty, face, assumes, expression, doesn, suggest, intense, focus, rather, monstrous, orgasmic, insanity, eyeballs, roll, ceiling, mouth, gapes, hammering, becomes, frenzied, laughed, loud, br, br, nobody, performance, otherwise, outstanding, professional, enough, thomas, gomez, always, reliable, best, performance, though, probably, franchot, tone, real, murderer, fakes, alibi, reserved, artistic, even, faints, decorous, know, put, precisely, tone, seems, thinking, well, simply, acting, part, alan, curtis, innocent, engineer, near, zero, kelvin, scale, belongs, b, picture, br, br, know, considered, classic, really, basic, murder, mystery, cornell, woolrich, good, others, siodmak, direction, sensitive, man, gets, run, hat, winds, gutter, water, running, around, use, shadows, quietly, effective, br, br, glad, got]|\n",
            "|[color, purple, masterpiece, displays, amazing, acting, abilities, whoopi, goldberg, oprah, winfrey, danny, glover, steven, spielberg, incredible, director, time, versatility, shines, film, ever, want, see, movie, watch, beautiful, portrayal, one, moving, stories, time]                                                                                                                                                                                                                                                                                                                                                                                                                                                                                                                                                                                                                                                                                                                                                                                                                                                                                                                                                                                                                                                                                                                                                                                                                                                                                                                                                                                                                                                                                                                                                                                                                                                                                                                                                                                                                                                                                                                                                                                                                                                                                                                                                                                                                                                                                                                                             |\n",
            "|[randolph, scott, heading, albuquerque, take, job, uncle, however, way, stage, held, even, though, carrying, strongbox, however, nice, lady, board, concealing, 10, 000, brother, business, robbers, seem, know, br, br, town, scott, goes, uncle, job, however, soon, learns, uncle, jerk, typical, bad, guy, westerns, know, rich, guy, wants, become, richer, cheating, stealing, threatening, owns, everything, happens, jerk, behind, robbery, scott, demands, uncle, returns, money, scott, goes, business, nice, lady, brother, br, br, surprisingly, end, problems, beginning, intrigues, various, types, occur, try, crush, uncle, opposition, one, trick, bring, pretty, lady, befriend, scott, partners, crack, shot, looks, bad, scott, figures, come, town, br, br, unlike, later, randolph, scott, films, one, shows, scott, bit, headstrong, man, often, films, last, one, suggest, violence, film, quick, suggest, lynching, screw, law, let, hangin, later, quick, threaten, uncle, surprise, see, hot, head, though, ways, old, scott, d, expect, br, br, far, film, goes, nothing, particularly, unusual, gabby, hayes, plays, usual, character, scott, hero, baddie, reasoned, ultimately, destroyed, scott, gets, girl, despite, typical, plot, handled, well, result, well, worth, time, br, br, way, two, weird, scenes, film, first, late, movie, fist, fight, scott, uncle, 1, henchman, lon, chaney, jr, chaney, smokes, fights, something, never, saw, admire, puff, away, got, butt, kicked, second, get, load, runaway, cart, scene, whip, one, impossible, feat]                                                                                                                                                                                                                                                                                                                                                                                                                                                                                                                                                                                                                                                                                                                                                                                                                                                                                                                                                                                                                             |\n",
            "|[high, energy, raoul, walsh, classic, 1933, bowery, places, saloon, owner, operator, wallace, beery, bitter, rival, dandy, george, raft, adopted, street, kid, jackie, cooper, good, looking, faye, wray, roles, play, big, rivalry, clear, exactly, rivalry, everyone, follows, daily, tabloids, plenty, wisecracks, beginning, characters, soften, film, progresses, apart, sheer, exuberance, scenes, beery, saloon, various, characters, sexy, chorus, line, lots, drinking, perfect, creation, den, iniquity, refrained, called, pre, code, restrictions, later, come, carrie, nations, led, carrie, nation, creates, vivid, picture, life, long, gone, like, compare, eras, film, completely, totally, different, anything, one, see, today, film, plenty, heart, long, lost, innocence, absolutlely, must, see]                                                                                                                                                                                                                                                                                                                                                                                                                                                                                                                                                                                                                                                                                                                                                                                                                                                                                                                                                                                                                                                                                                                                                                                                                                                                                                                                                                                                                                                                                                                                                                                                                                                                                                                                                                                                     |\n",
            "|[one, great, mysteries, life, suffered, daily, nice, girls, often, interested, jerks, heels, nice, guys, br, br, worse, nice, guys, even, want, marry, girls, girls, still, prefer, jerks, heels, even, jerks, heels, shown, contempt, shown, re, interested, using, girls, br, br, stu, erwin, nice, guy, continues, nice, lied, cheated, even, losing, girl, completely, br, br, clark, gable, jerk, perfect, role, rather, sad, note, fans, br, br, jean, harlow, comes, across, slender, mae, west, even, sounding, like, la, west, cynical, throwaway, lines, br, br, somewhat, puzzling, many, characters, intended, bad, guys, mean, heck, re, locked, must, obviously, nice, people, br, br, fact, lots, nice, people, people, lesser, film, story, snarling, back, stabbing, go, way, help, someone, else, br, br, maybe, story, rather, clich, d, least, modern, standards, ultimately, viewer, glad, watched, br, br, biggest, complaint, many, really, good, actors, given, credit, say, fervent, thank, imdb, com]                                                                                                                                                                                                                                                                                                                                                                                                                                                                                                                                                                                                                                                                                                                                                                                                                                                                                                                                                                                                                                                                                                                                                                                                                                                                                                                                                                                                                                                                                                                                                                                            |\n",
            "|[although, m, grateful, obscure, gem, 70, italian, exploitation, cinema, features, recently, released, grindhouse, experience, box, set, although, also, available, disc, misleading, stupid, alternate, title, escape, death, row, honestly, think, deserves, proper, luxurious, dvd, edition, completely, originally, spoken, languages, subtitle, options, dubbing, truly, horrible, restored, picture, quality, truckload, special, bonus, features, heck, even, need, restored, picture, quality, bonus, features, watch, film, original, language, mean, frank, crazy, tony, cheerfully, fast, paced, mafia, crime, flick, lot, violence, comedy, admittedly, doesn, always, work, feminine, beauty, two, witty, main, characters, tony, lo, bianco, terrific, small, thug, pretending, city, biggest, real, crime, lord, frankie, dio, lee, van, cleef, arrives, town, sees, opportunity, climb, ladder, offering, services, frankie, initially, ignores, little, crook, eventually, form, unlikely, team, frankie, entire, criminal, empire, turns, new, french, criminal, mastermind, even, assassinates, frankie, innocent, brother, tony, helps, frankie, escape, prison, together, head, marseille, extract, frankie, revenge, script, sadly, neglected, crime, gem, funnily, alters, gritty, action, suspense, light, headed, bits, comedy, like, grotesque, car, chase, narrow, french, mountain, roads, example, build, towards, typical, mafia, execution, sequences, guided, excellent, riz, ortolani, score, extremely, tense, actual, killings, sadistic, merciless, probably, film, considered, somewhat, grindhouse, classic, film, lacks, strong, female, lead, lovely, amazingly, voluptuous, beauty, edwige, fenech, sadly, appears, couple, scenes, still, background, men, behind, camera, responsible, superb, cinematography, less, joe, d, amato, great, film, highly, recommended, fans, italian, exploitation, hope, watch, soon, original, version]                                                                                                                                                                                                                                                                                                                                                                                                                                                                                                                                                                                                                                        |\n",
            "|[hard, describe, bug, words, one, films, truly, seen, understood, follows, narrative, fluid, interesting, anything, seen, lately, hollywood, release, characters, react, chain, events, different, ways, events, dictate, different, paths, characters, follow, audience, merely, observer, almost, proustian, narrative, flow, thought, thought, spontaneity, script, glued, screen, waiting, anxiously, see, works, end, far, thematic, elements, particular, sequence, film, goes, melancholy, bright, beautiful, tragic, within, span, minute, works, br, br, movie, pure, magic, reminds, one, independent, film, perhaps, brightest, star, film, industry, currently, perhaps, movies, bug, quality, people, start, take, notice]                                                                                                                                                                                                                                                                                                                                                                                                                                                                                                                                                                                                                                                                                                                                                                                                                                                                                                                                                                                                                                                                                                                                                                                                                                                                                                                                                                                                                                                                                                                                                                                                                                                                                                                                                                                                                                                                                    |\n",
            "|[grown, tired, rat, race, cramped, living, conditions, new, york, city, jim, blandings, cary, grant, finds, property, country, wife, children, hoping, find, simple, life, building, house, proves, anything, simple, headaches, bills, start, piling, laughs, mr, blanding, ever, get, dream, house, br, br, makes, movie, special, three, main, actors, grant, myrna, loy, melvyn, douglas, three, capable, carrying, movie, combine, talents, almost, every, scene, special, grant, always, favorite, mine, type, role, good, playing, put, upon, husband, loy, always, joy, watch, thin, man, films, made, william, powell, near, perfect, douglas, become, favorite, mine, last, two, three, years, douglas, also, appeared, old, dark, house, particular, favorite, mine, br, br, movie, definitely, product, time, get, kick, imagining, time, build, two, story, three, bedroom, four, bathroom, house, 15, 000, income, year, throw, fact, two, children, attend, private, school, live, maid, becomes, almost, fanciful, br, br, however, anyone, bought, built, house, many, situations, predicaments, blanding, find, easily, relatable, today, comedy, comes, many, people, done, stupid, things, couple, movie, end, costing, money, expected, biggest, complaint, mr, blandings, whole, wife, love, best, friend, subplot, really, necessary, plot, feels, place, uncomfortable, presented]                                                                                                                                                                                                                                                                                                                                                                                                                                                                                                                                                                                                                                                                                                                                                                                                                                                                                                                                                                                                                                                                                                                                                                                                                 |\n",
            "|[movie, funny, suitable, age, definitely, family, type, entertainment, cast, fine, job, playing, folks, mid, western, town, big, bean, illinois, must, assume, nothing, ever, happens, since, excitement, pre, invasion, decade, new, exit, ramp, interstate, location, appeals, suitably, boring, totally, unlikely, invasion, earth, martians, martians, totally, inept, despite, well, equipped, arsenal, suitably, ghastly, deadly, weapons, including, one, set, eradicating, martians, martians, dead, pan, lines, throw, right, accents, make, us, viewers, locals, wish, help, leave, earth, j, j, anderson, playing, young, halloween, carnivorous, duck, great, lines, watch, movie, laugher, entertainment, thought, provoking, isn, subtle, enjoyable]                                                                                                                                                                                                                                                                                                                                                                                                                                                                                                                                                                                                                                                                                                                                                                                                                                                                                                                                                                                                                                                                                                                                                                                                                                                                                                                                                                                                                                                                                                                                                                                                                                                                                                                                                                                                                                                         |\n",
            "|[considered, swiss, answer, lord, rings, much, isn, answer, anything, something, new, something, funny, sometimes, downright, stupid, silly, monty, python, different, silly, br, br, beginning, immediately, makes, statement, film, low, budget, meant, taken, entirely, seriously, cardboard, clouds, strings, knock, airplane, main, character, seated, compensate, missing, special, effects, landscape, trick, absolutely, beautiful, stunning, needs, new, zealand, switzerland, br, br, liked, film, simple, approach, obvious, passion, energy, went, isn, brilliant, yet, got, good, humorous, parts, edward, piccin, friedo, absolutely, convincing, enough, go, see, film, good, jokes, lame, won, understood, people, outside, switzerland, liked, idea, urucows, instead, uruk, hai, loved, scene, friedo, decides, take, pupsi, telehobbie, journey, also, funny, scene, rackaroll, sword, fighting, knight, decides, show, sword, subsequently, smashes, wall, breaking, one, scene, nazgul, ish, characters, wonderfully, comic, scene, includes, toilet, brush, didn, approve, idea, ring, used, schleimli, gollum, character, order, seduce, ladies, bit, far, fetched, idea, lord, sauraus, wanting, cover, lands, fondue, wasn, brilliant, either, original, certainly, brilliant, dislike, idea, gay, dragon, really, wasn, necessary, recommend, see, film, simply, crazy, totally, trashy, expect, lotr, parody, like, spaceballs, star, wars, go, flicks, thinking, going, amusing, evening, absolutely, ambitions, ll, enjoy, sure, works, languages, live, swiss, dialects, well, jokes, actors, br, br, hat, courage, swiss, crew]                                                                                                                                                                                                                                                                                                                                                                                                                                                                                                                                                                                                                                                                                                                                                                                                                                                                                                                                                             |\n",
            "|[commentators, detailed, plot, social, parables, commentary, well, better, like, join, admiration, little, jewel, film, holds, well, indeed, 50, years, later, every, category, screenplay, acting, photography, set, design, sound, design, really, classic, sorts, first, exposure, young, alec, guinness, obvious, first, frames, made, special, eventually, receive, knighthood, br, br, rate, 8, essentially, rather, lightweight, parable, examines, human, nature, doesn, really, skewer, plot, takes, easy, way, end, rather, actually, resolving, conflict, inventor, mill, workers, industrialists, chasing, town, also, couple, minutes, thought, reveals, basic, flaw, logic, screenplay, wear, tear, hardly, ever, determining, factor, buying, new, clothes, especially, dress, clothes, children, grow, people, change, sizes, gain, lose, weight, go, latest, fashions, time, long, looms, woven, cloth, nothing, else, manufacturer, make, fortune, providing, indestructible, material, military, uniforms, especially, bdus, br, br, still, great, film, get, chance, see, classic, movie, channel]                                                                                                                                                                                                                                                                                                                                                                                                                                                                                                                                                                                                                                                                                                                                                                                                                                                                                                                                                                                                                                                                                                                                                                                                                                                                                                                                                                                                                                                                                                     |\n",
            "|[saw, movie, family, great, film, documentary, offers, cold, facts, long, mono, duologue, lots, charts, complete, power, movie, comes, impressive, pictures, filmed, water, air, arctic, watching, movie, learn, planet, reading, book, shows, embedded, circular, flow, life, movie, environmental, fanatics, although, people, want, look, good, movie, message, watch, movie, taught, living, earth, live, earth, plants, animals, grow, die, us]                                                                                                                                                                                                                                                                                                                                                                                                                                                                                                                                                                                                                                                                                                                                                                                                                                                                                                                                                                                                                                                                                                                                                                                                                                                                                                                                                                                                                                                                                                                                                                                                                                                                                                                                                                                                                                                                                                                                                                                                                                                                                                                                                                       |\n",
            "|[consider, pretty, big, anime, scene, shows, simply, watch, br, br, show, however, recommend, anyone, br, br, quite, possibly, original, series, date, got, everything, ask, side, story, speak, unconditional, love, admitted, blatant, comedy, well, put, together, voice, acting, cast, japanese, american, translation, br, br, terribly, funny, aspect, another, anime, br, br, less, noticed, love, hate, people, seen, introduced, series, end, distaste, br, br, original, core, everything, ask, afternoon, bet, house, series, m, ready, assure, enjoy]                                                                                                                                                                                                                                                                                                                                                                                                                                                                                                                                                                                                                                                                                                                                                                                                                                                                                                                                                                                                                                                                                                                                                                                                                                                                                                                                                                                                                                                                                                                                                                                                                                                                                                                                                                                                                                                                                                                                                                                                                                                          |\n",
            "|[mother, took, see, film, child, long, see, every, year, christmas, favorites, remember, silly, devil, santa, looking, telescope, waited, looked, v, guide, year, see, shown, usually, find, playing, saturday, afternoon, found, movie, english, took, something, special, away, film, longed, find, copy, spanish, hold, film, dear, heart, never, suffered, nightmares, others, might, suggest, yes, different, film, santa, claus, makes, special, unique, wait, get, copy, film, watch, children, explain, favorite, parts, memories]                                                                                                                                                                                                                                                                                                                                                                                                                                                                                                                                                                                                                                                                                                                                                                                                                                                                                                                                                                                                                                                                                                                                                                                                                                                                                                                                                                                                                                                                                                                                                                                                                                                                                                                                                                                                                                                                                                                                                                                                                                                                                 |\n",
            "|[21, movies, three, years, working, hollywood, bette, davis, finally, got, role, claimed, put, force, reckoned, mildred, rogers, davis, burst, forth, completely, unsympathetic, role, slutty, waitress, becomes, target, leslie, howard, affections, already, eager, sink, teeth, role, like, qualms, awful, things, character, meant, throughout, course, film, awful, transformation, undergo, also, widely, noted, performance, one, things, makes, slightly, uneven, movie, watchable, one, remember, even, two, remakes, scenes, rips, howard, made, cinema, history, br, br, circa, 85, minutes, story, moves, nice, pace, telling, story, philip, carey, howard, life, crosses, destructive, mildred, rogers, br, br, howard, davis, chemistry, non, existent, davis, sustained, interview, much, later, life, personally, didn, care, much, howard, iciness, towards, helped, act, even, worse, character, towards, mildred, two, seem, awkward, one, another, scenes, together, remain, stiff, salvaged, ferocious, acidity, davis, brings, lines, nervous, presence, cromwell, direction, certain, stiltedness, fails, come, times, tries, fill, space, whenever, davis, dissolves, montages, indicating, passing, time, calendar, superimposed, changing, frances, dee, much, style, back, technicalities, complicated, camera, angles, came, essence, visual, story, simplified, bare, essentials, translation, somerset, maugham, novel, saying, lot, since, 600, pages, human, bondage, indeed, hard, film, even, br, br, storywise, feels, philip, carey, may, something, glutton, punishment, since, discernible, sexual, attraction, mildred, compound, mildred, never, hides, displeasure, get, go, howard, performance, never, seems, go, much, external, emotion, eyes, constantly, sad, expression, never, veers, far, away, lost, almost, distant, cousin, william, hurt, accidental, tourist, dejected, hurt, absolutely, passive, possibly, part, character, reason, fails, see, women, played, kay, johnson, frances, dee, making, vulnerable, unrequited, affections, interestingly, johnson, norah, realizes, carey, never, fall, one, sums, story, observation, people, bound, people, bound, carey, carey, bound, mildred, mildred, bound, miller, men, fit, role, provider, short, memorable, scene, one, holds, essence, story, moral]                                                                                                                                                                                                                                                     |\n",
            "|[six, month, old, baby, home, time, time, fights, sleep, really, bad, one, morning, particular, difficult, time, getting, sleep, doodle, bops, theme, song, came, v, stopped, crying, almost, instantly, rest, show, content, sat, bouncy, seat, watched, kick, legs, swing, arms, actually, laugh, show, kept, entertained, happy, entire, time, also, got, video, times, little, one, flustered, something, calm, granted, late, night, awakes, colic, fuss, doodle, bops, cup, tea, sure, come, handy, need, little, time, housework, etc, biggest, surprise, doodle, bops, child, doesn, even, like, watching, v, d, rather, floor, playing, toy, small, toy, poodle, watch, v, yet, doodle, bops, totally, captured, attention, know, continue, like, future, attached]                                                                                                                                                                                                                                                                                                                                                                                                                                                                                                                                                                                                                                                                                                                                                                                                                                                                                                                                                                                                                                                                                                                                                                                                                                                                                                                                                                                                                                                                                                                                                                                                                                                                                                                                                                                                                                               |\n",
            "|[stage, tv, book, woman, black, outstanding, ghost, story, reviewers, already, said, say, film, thought, add, belated, little, review, made, tv, movie, deliberately, slow, first, act, chronicles, main, character, arthur, goes, business, solicitor, 1920s, london, understand, might, appeal, palates, nevertheless, love, british, style, storytelling, similar, bbc, ghost, story, christmas, adaptations, great, m, r, james, work, second, act, ghost, story, kicks, arthur, sent, provinces, boss, tidy, affairs, deceased, client, third, act, relentlessly, builds, spine, tingling, conclusion, londoner, seen, play, book, dvd, r, unabridged, audio, book, ipod, sure, women, black, medium, ghost, story, equals, time, legitimate, region, 2, dvd, release]                                                                                                                                                                                                                                                                                                                                                                                                                                                                                                                                                                                                                                                                                                                                                                                                                                                                                                                                                                                                                                                                                                                                                                                                                                                                                                                                                                                                                                                                                                                                                                                                                                                                                                                                                                                                                                                |\n",
            "|[see, gem, twice, really, appreciate, widowed, father, two, interrupts, two, sons, sleep, shocking, revelation, torn, believing, horrifying, events, tale, unfold, learn, lot, father, two, sons, destinies, shocking, twist, shocking, twist, film, never, allows, lull, plot, bill, paxton, plays, father, notable, performances, older, son, fenton, played, matthew, o, leary, younger, son, adam, played, jeremy, sumpter, one, best, thrillers, seen, want, watch, times, appreciate, every, intricate, aspect, plot, give, film, 9, 10]                                                                                                                                                                                                                                                                                                                                                                                                                                                                                                                                                                                                                                                                                                                                                                                                                                                                                                                                                                                                                                                                                                                                                                                                                                                                                                                                                                                                                                                                                                                                                                                                                                                                                                                                                                                                                                                                                                                                                                                                                                                                             |\n",
            "|[although, one, point, thought, going, turn, graduate, say, mother, excellent, job, explaining, sexual, desires, older, woman, br, br, m, glad, british, film, hollywood, never, done, even, ruined, taking, time, develop, characters, br, br, story, revealed, slowly, realistically, acting, superb, characters, believably, flawed, dialogue, sensitive, tried, many, times, predict, going, happen, always, wrong, intrigued, story, br, br, highly, recommend, movie, must, confess, ll, forever, look, mom, different, light]                                                                                                                                                                                                                                                                                                                                                                                                                                                                                                                                                                                                                                                                                                                                                                                                                                                                                                                                                                                                                                                                                                                                                                                                                                                                                                                                                                                                                                                                                                                                                                                                                                                                                                                                                                                                                                                                                                                                                                                                                                                                                       |\n",
            "|[hot, millions, great, movie, every, way, fun, offbeat, story, wonderful, performances, four, best, professionals, ever, work, business, peter, ustinov, brilliant, usual, maggie, smith, definitely, one, greatest, actresses, time, total, delight, karl, malden, bob, newhart, round, cast, also, perfect, want, movie, perfect, casting, impressive, way, people, work, natural, effortless, way, creating, lots, laughs, fun, moments, throughout, peter, ustinov, genius, wonderful, sense, humor, one, memorable, performances, direction, photography, editing, also, first, rate, great, time, capsule, london, 60s, definitely, time, favorites, list]                                                                                                                                                                                                                                                                                                                                                                                                                                                                                                                                                                                                                                                                                                                                                                                                                                                                                                                                                                                                                                                                                                                                                                                                                                                                                                                                                                                                                                                                                                                                                                                                                                                                                                                                                                                                                                                                                                                                                           |\n",
            "+---------------------------------------------------------------------------------------------------------------------------------------------------------------------------------------------------------------------------------------------------------------------------------------------------------------------------------------------------------------------------------------------------------------------------------------------------------------------------------------------------------------------------------------------------------------------------------------------------------------------------------------------------------------------------------------------------------------------------------------------------------------------------------------------------------------------------------------------------------------------------------------------------------------------------------------------------------------------------------------------------------------------------------------------------------------------------------------------------------------------------------------------------------------------------------------------------------------------------------------------------------------------------------------------------------------------------------------------------------------------------------------------------------------------------------------------------------------------------------------------------------------------------------------------------------------------------------------------------------------------------------------------------------------------------------------------------------------------------------------------------------------------------------------------------------------------------------------------------------------------------------------------------------------------------------------------------------------------------------------------------------------------------------------------------------------------------------------------------------------------------------------------------------------------------------------------------------------------------------------------------------------------------------------------------------------------------------------------------------------------------------------------------------------------------------------------------------------------------------------------------------------------------------------------------------------------------------------------------------------------------+\n",
            "only showing top 20 rows\n",
            "\n"
          ]
        }
      ],
      "source": [
        "# SWR -> stop word remover\n",
        "SWR  = StopWordsRemover (inputCol='tokenized_content', outputCol='SWRed')\n",
        "\n",
        "\n",
        "#See the result of removal operation\n",
        "SWR.transform(df_tokenized).select('SWRed').show(truncate=False)"
      ]
    }
  ],
  "metadata": {
    "accelerator": "TPU",
    "colab": {
      "collapsed_sections": [],
      "name": "Huawei R&D Technical Interview Question_v2.ipynb",
      "provenance": [],
      "toc_visible": true
    },
    "gpuClass": "standard",
    "kernelspec": {
      "display_name": "Python 3",
      "name": "python3"
    },
    "language_info": {
      "codemirror_mode": {
        "name": "ipython",
        "version": 3
      },
      "file_extension": ".py",
      "mimetype": "text/x-python",
      "name": "python",
      "nbconvert_exporter": "python",
      "pygments_lexer": "ipython3",
      "version": "3.10.13"
    }
  },
  "nbformat": 4,
  "nbformat_minor": 0
}
