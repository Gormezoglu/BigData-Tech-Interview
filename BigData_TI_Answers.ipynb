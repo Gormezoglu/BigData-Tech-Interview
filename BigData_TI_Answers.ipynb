{
  "cells": [
    {
      "cell_type": "markdown",
      "metadata": {
        "id": "5Ybl-OTpuiQx"
      },
      "source": [
        "## Task -1 Exploratory Data Analysis"
      ]
    },
    {
      "cell_type": "code",
      "execution_count": 1,
      "metadata": {
        "id": "q2FGpclC3tn4"
      },
      "outputs": [
        {
          "data": {
            "text/plain": [
              "'\\nInstalling Spark with its dependencies\\nInstalling Spark\\nInstall Dependencies:\\n\\nJava 8\\nApache Spark with hadoop and\\nFindspark (used to locate the spark in the system)\\n'"
            ]
          },
          "execution_count": 1,
          "metadata": {},
          "output_type": "execute_result"
        }
      ],
      "source": [
        "\"\"\"\n",
        "Installing Spark with its dependencies\n",
        "Installing Spark\n",
        "Install Dependencies:\n",
        "\n",
        "Java 8\n",
        "Apache Spark with hadoop and\n",
        "Findspark (used to locate the spark in the system)\n",
        "\"\"\"\n",
        "\n",
        "#these operations could be done on Google colab or needed to run under linuxOS.\n",
        " \n",
        "\n",
        "#!apt-get install openjdk-8-jdk-headless -qq > /dev/null\n",
        "#!wget -q http://archive.apache.org/dist/spark/spark-3.1.1/spark-3.1.1-bin-hadoop3.2.tgz\n",
        "#!tar xf spark-3.1.1-bin-hadoop3.2.tgz\n",
        "#!pip install -q findspark"
      ]
    },
    {
      "cell_type": "code",
      "execution_count": 2,
      "metadata": {
        "id": "1vd9yVaK4DR6"
      },
      "outputs": [],
      "source": [
        "#Set Environment Variables:\n",
        "\n",
        "import os\n",
        "\n",
        "current_directory = os.getcwd()\n",
        "\n",
        "\n",
        "os.environ[\"JAVA_HOME\"] = \"/usr/lib/jvm/java-8-openjdk-amd64\"\n",
        "os.environ[\"SPARK_HOME\"] = os.path.join(current_directory,\"spark-3.1.1-bin-hadoop3.2\")"
      ]
    },
    {
      "cell_type": "code",
      "execution_count": 3,
      "metadata": {
        "colab": {
          "base_uri": "https://localhost:8080/",
          "height": 219
        },
        "id": "SUjv6TWh4i1t",
        "outputId": "9bb2d972-e87e-43fb-d2f5-fca2dd7c7b1b"
      },
      "outputs": [
        {
          "name": "stderr",
          "output_type": "stream",
          "text": [
            "24/01/23 12:01:19 WARN Utils: Your hostname, gormezoglu-linux resolves to a loopback address: 127.0.1.1; using 192.168.1.86 instead (on interface wlp3s0)\n",
            "24/01/23 12:01:19 WARN Utils: Set SPARK_LOCAL_IP if you need to bind to another address\n",
            "24/01/23 12:01:20 WARN NativeCodeLoader: Unable to load native-hadoop library for your platform... using builtin-java classes where applicable\n",
            "Using Spark's default log4j profile: org/apache/spark/log4j-defaults.properties\n",
            "Setting default log level to \"WARN\".\n",
            "To adjust logging level use sc.setLogLevel(newLevel). For SparkR, use setLogLevel(newLevel).\n"
          ]
        },
        {
          "data": {
            "text/html": [
              "\n",
              "            <div>\n",
              "                <p><b>SparkSession - in-memory</b></p>\n",
              "                \n",
              "        <div>\n",
              "            <p><b>SparkContext</b></p>\n",
              "\n",
              "            <p><a href=\"http://192.168.1.86:4040\">Spark UI</a></p>\n",
              "\n",
              "            <dl>\n",
              "              <dt>Version</dt>\n",
              "                <dd><code>v3.1.1</code></dd>\n",
              "              <dt>Master</dt>\n",
              "                <dd><code>local[*]</code></dd>\n",
              "              <dt>AppName</dt>\n",
              "                <dd><code>pyspark-shell</code></dd>\n",
              "            </dl>\n",
              "        </div>\n",
              "        \n",
              "            </div>\n",
              "        "
            ],
            "text/plain": [
              "<pyspark.sql.session.SparkSession at 0x7fecb77123e0>"
            ]
          },
          "execution_count": 3,
          "metadata": {},
          "output_type": "execute_result"
        }
      ],
      "source": [
        "import findspark\n",
        "findspark.init()\n",
        "from pyspark.sql import SparkSession\n",
        "spark = SparkSession.builder.master(\"local[*]\").getOrCreate()\n",
        "spark.conf.set(\"spark.sql.repl.eagerEval.enabled\", True) # Property used to format output tables better\n",
        "spark"
      ]
    },
    {
      "cell_type": "code",
      "execution_count": 4,
      "metadata": {
        "id": "2mYOKttpn9EH"
      },
      "outputs": [],
      "source": [
        "#will be used sqlite3 to be able to reach .db file\n",
        "\n",
        "import sqlite3\n",
        "\n",
        "con = sqlite3.connect('Datasets/movielens-small.db')\n",
        "cur = con.cursor()"
      ]
    },
    {
      "cell_type": "code",
      "execution_count": 5,
      "metadata": {
        "colab": {
          "base_uri": "https://localhost:8080/"
        },
        "id": "OahMiKvLqz6p",
        "outputId": "9b7a9f5d-808f-409d-e6fa-8b5d122c5de0"
      },
      "outputs": [
        {
          "name": "stdout",
          "output_type": "stream",
          "text": [
            "  % Total    % Received % Xferd  Average Speed   Time    Time     Time  Current\n",
            "                                 Dload  Upload   Total   Spent    Left  Speed\n",
            "100 7125k  100 7125k    0     0  2074k      0  0:00:03  0:00:03 --:--:-- 2074k\n"
          ]
        }
      ],
      "source": [
        "#For SQLite JDBC driver, it can be downloaded via:\n",
        "\n",
        "!curl -O https://repo1.maven.org/maven2/org/xerial/sqlite-jdbc/3.34.0/sqlite-jdbc-3.34.0.jar"
      ]
    },
    {
      "cell_type": "code",
      "execution_count": 6,
      "metadata": {
        "colab": {
          "base_uri": "https://localhost:8080/",
          "height": 581
        },
        "id": "9K03GzCfx8jU",
        "outputId": "cca7859b-a5f0-406a-81df-c3f86529f54a"
      },
      "outputs": [
        {
          "name": "stderr",
          "output_type": "stream",
          "text": [
            "                                                                                \r"
          ]
        },
        {
          "name": "stdout",
          "output_type": "stream",
          "text": [
            "number of rows of our dataframe: 249641\n",
            "\n",
            "\n"
          ]
        },
        {
          "data": {
            "text/html": [
              "<table border='1'>\n",
              "<tr><th>userId</th><th>movieId</th><th>genre</th><th>rating</th></tr>\n",
              "<tr><td>7</td><td>1</td><td>Adventure|Animati...</td><td>5.0</td></tr>\n",
              "<tr><td>7</td><td>1</td><td>Adventure|Animati...</td><td>5.0</td></tr>\n",
              "<tr><td>7</td><td>1</td><td>Adventure|Animati...</td><td>5.0</td></tr>\n",
              "<tr><td>10</td><td>1</td><td>Adventure|Animati...</td><td>4.0</td></tr>\n",
              "<tr><td>10</td><td>1</td><td>Adventure|Animati...</td><td>4.0</td></tr>\n",
              "<tr><td>10</td><td>1</td><td>Adventure|Animati...</td><td>4.0</td></tr>\n",
              "<tr><td>13</td><td>1</td><td>Adventure|Animati...</td><td>4.5</td></tr>\n",
              "<tr><td>13</td><td>1</td><td>Adventure|Animati...</td><td>4.5</td></tr>\n",
              "<tr><td>13</td><td>1</td><td>Adventure|Animati...</td><td>4.5</td></tr>\n",
              "<tr><td>16</td><td>1</td><td>Adventure|Animati...</td><td>5.0</td></tr>\n",
              "<tr><td>16</td><td>1</td><td>Adventure|Animati...</td><td>5.0</td></tr>\n",
              "<tr><td>16</td><td>1</td><td>Adventure|Animati...</td><td>5.0</td></tr>\n",
              "<tr><td>21</td><td>1</td><td>Adventure|Animati...</td><td>5.0</td></tr>\n",
              "<tr><td>21</td><td>1</td><td>Adventure|Animati...</td><td>5.0</td></tr>\n",
              "<tr><td>21</td><td>1</td><td>Adventure|Animati...</td><td>5.0</td></tr>\n",
              "<tr><td>22</td><td>1</td><td>Adventure|Animati...</td><td>4.0</td></tr>\n",
              "<tr><td>22</td><td>1</td><td>Adventure|Animati...</td><td>4.0</td></tr>\n",
              "<tr><td>22</td><td>1</td><td>Adventure|Animati...</td><td>4.0</td></tr>\n",
              "<tr><td>27</td><td>1</td><td>Adventure|Animati...</td><td>4.0</td></tr>\n",
              "<tr><td>27</td><td>1</td><td>Adventure|Animati...</td><td>4.0</td></tr>\n",
              "</table>\n",
              "only showing top 20 rows\n"
            ],
            "text/plain": [
              "+------+-------+--------------------+------+\n",
              "|userId|movieId|               genre|rating|\n",
              "+------+-------+--------------------+------+\n",
              "|     7|      1|Adventure|Animati...|   5.0|\n",
              "|     7|      1|Adventure|Animati...|   5.0|\n",
              "|     7|      1|Adventure|Animati...|   5.0|\n",
              "|    10|      1|Adventure|Animati...|   4.0|\n",
              "|    10|      1|Adventure|Animati...|   4.0|\n",
              "|    10|      1|Adventure|Animati...|   4.0|\n",
              "|    13|      1|Adventure|Animati...|   4.5|\n",
              "|    13|      1|Adventure|Animati...|   4.5|\n",
              "|    13|      1|Adventure|Animati...|   4.5|\n",
              "|    16|      1|Adventure|Animati...|   5.0|\n",
              "|    16|      1|Adventure|Animati...|   5.0|\n",
              "|    16|      1|Adventure|Animati...|   5.0|\n",
              "|    21|      1|Adventure|Animati...|   5.0|\n",
              "|    21|      1|Adventure|Animati...|   5.0|\n",
              "|    21|      1|Adventure|Animati...|   5.0|\n",
              "|    22|      1|Adventure|Animati...|   4.0|\n",
              "|    22|      1|Adventure|Animati...|   4.0|\n",
              "|    22|      1|Adventure|Animati...|   4.0|\n",
              "|    27|      1|Adventure|Animati...|   4.0|\n",
              "|    27|      1|Adventure|Animati...|   4.0|\n",
              "+------+-------+--------------------+------+\n",
              "only showing top 20 rows"
            ]
          },
          "execution_count": 6,
          "metadata": {},
          "output_type": "execute_result"
        }
      ],
      "source": [
        "# Write a SQL query to create a dataframe with including userid, movieid, genre and rating\n",
        "\n",
        "import csv\n",
        "with open(\"movielens.csv\", \"w\") as csvFile:\n",
        "    fieldnames = ['userId', 'movieId', 'genre', 'rating']\n",
        "    writer = csv.DictWriter(csvFile, fieldnames=fieldnames)\n",
        "    writer.writeheader()\n",
        "\n",
        "    for row in cur.execute(\"\"\"SELECT ratings.userId, movies.movieId, genres, rating \n",
        "                              FROM (((movies \n",
        "                                      INNER JOIN links ON movies.movieid = links.movieid) \n",
        "                                      LEFT JOIN ratings ON movies.movieId = ratings.movieId) \n",
        "                                      LEFT JOIN tags ON movies.movieid = tags.movieid)\"\"\"):\n",
        " \n",
        "        userId = row[0]\n",
        "        movieId = row[1]\n",
        "        genre = row[2]\n",
        "        rating = row[3]\n",
        "\n",
        "        writer.writerow({'userId': userId, \n",
        "                        'movieId':movieId,\n",
        "                        'genre': genre,\n",
        "                        'rating':rating}\n",
        "        )\n",
        "\n",
        "movielens_small_df = spark.read.csv(\"movielens.csv\", header=True)\n",
        "\n",
        "print(\"number of rows of our dataframe:\", movielens_small_df.count())\n",
        "print(\"\\n\")\n",
        "\n",
        "movielens_small_df"
      ]
    },
    {
      "cell_type": "code",
      "execution_count": 7,
      "metadata": {
        "colab": {
          "base_uri": "https://localhost:8080/"
        },
        "id": "9adqNcucRA00",
        "outputId": "c08790f9-8ab1-4de5-8c3f-958c4d1c7365"
      },
      "outputs": [
        {
          "name": "stderr",
          "output_type": "stream",
          "text": [
            "                                                                                \r"
          ]
        },
        {
          "name": "stdout",
          "output_type": "stream",
          "text": [
            "+-------+-------------------------+------------+\n",
            "|movieId|title                    |rating count|\n",
            "+-------+-------------------------+------------+\n",
            "|318    |Shawshank Redemption, The|5904        |\n",
            "|2571   |Matrix, The              |5300        |\n",
            "|296    |Pulp Fiction             |4578        |\n",
            "|2762   |Sixth Sense, The         |4080        |\n",
            "|47     |Seven (a.k.a. Se7en)     |4047        |\n",
            "+-------+-------------------------+------------+\n",
            "\n"
          ]
        }
      ],
      "source": [
        "# Count ratings for each movie, and list top 5 movies with the highest value\n",
        "\n",
        "movie_rating_count = []\n",
        "\n",
        "for row in cur.execute(\"\"\"SELECT movieid, title,COUNT(rating) \n",
        "                          FROM (SELECT ratings.userId, movies.movieId, title,genres, rating \n",
        "                                FROM (((movies \n",
        "                                        INNER JOIN links ON movies.movieid = links.movieid)\n",
        "                                        LEFT JOIN ratings ON movies.movieId = ratings.movieId)\n",
        "                                        LEFT JOIN tags ON movies.movieid = tags.movieid))                                                    \n",
        "                          GROUP BY movieid\n",
        "                          ORDER BY count(rating) DESC\n",
        "                          LIMIT 5\n",
        "                        \"\"\"):\n",
        "  movie_rating_count.append(row)\n",
        "\n",
        "schema = [\"movieId\", \"title\", \"rating count\"]\n",
        " \n",
        "# calling function to create dataframe\n",
        "df = spark.createDataFrame(movie_rating_count, schema)\n",
        "\n",
        "df.show(truncate=False)\n",
        "  "
      ]
    },
    {
      "cell_type": "code",
      "execution_count": 8,
      "metadata": {
        "colab": {
          "base_uri": "https://localhost:8080/"
        },
        "id": "dgVd_W6qkFC_",
        "outputId": "7dccc28f-4a43-4244-dc05-5c1aacdb347d"
      },
      "outputs": [
        {
          "name": "stdout",
          "output_type": "stream",
          "text": [
            "+--------------------------------+------------+\n",
            "|genres                          |rating count|\n",
            "+--------------------------------+------------+\n",
            "|Comedy                          |10162       |\n",
            "|Crime|Drama                     |10107       |\n",
            "|Comedy|Drama                    |7949        |\n",
            "|Drama                           |7846        |\n",
            "|Action|Adventure|Sci-Fi|Thriller|7182        |\n",
            "+--------------------------------+------------+\n",
            "\n"
          ]
        }
      ],
      "source": [
        "# Find and list top 5 most rated genres\n",
        "\n",
        "rated_genres = []\n",
        "\n",
        "for row in cur.execute(\"\"\"SELECT genres, COUNT(rating) \n",
        "                          FROM (SELECT ratings.userId, movies.movieId, genres, rating \n",
        "                                FROM (((movies \n",
        "                                        INNER JOIN links ON movies.movieid = links.movieid) \n",
        "                                        LEFT JOIN ratings ON movies.movieId = ratings.movieId) \n",
        "                                        LEFT JOIN tags ON movies.movieid = tags.movieid))\n",
        "                          GROUP BY genres\n",
        "                          ORDER BY COUNT(rating) DESC\n",
        "                          LIMIT 5\n",
        "                        \"\"\"):\n",
        "  rated_genres.append(row)\n",
        "\n",
        "schema = [\"genres\", \"rating count\"]\n",
        " \n",
        "# calling function to create dataframe\n",
        "df = spark.createDataFrame(rated_genres, schema)\n",
        "\n",
        "df.show(truncate=False)\n"
      ]
    },
    {
      "cell_type": "code",
      "execution_count": 9,
      "metadata": {
        "colab": {
          "base_uri": "https://localhost:8080/"
        },
        "id": "G4OzuDxlcDsL",
        "outputId": "ef97a8b8-5517-495c-a035-56c6c1562f5f"
      },
      "outputs": [
        {
          "name": "stdout",
          "output_type": "stream",
          "text": [
            "+------------+----------+\n",
            "|tags        |tags count|\n",
            "+------------+----------+\n",
            "|drama       |3542      |\n",
            "|sci-fi      |3035      |\n",
            "|twist ending|2998      |\n",
            "|psychology  |2672      |\n",
            "|crime       |2570      |\n",
            "+------------+----------+\n",
            "\n"
          ]
        }
      ],
      "source": [
        "#Find and list top 5 most rated tags\n",
        "\n",
        "rated_tags = []\n",
        "\n",
        "for row in cur.execute(\"\"\"SELECT tag, COUNT(rating) \n",
        "                          FROM (SELECT ratings.userId, movies.movieId, genres, tag, rating \n",
        "                                FROM (((movies \n",
        "                                        INNER JOIN links ON movies.movieid = links.movieid) \n",
        "                                        LEFT JOIN ratings ON movies.movieId = ratings.movieId) \n",
        "                                        LEFT JOIN tags ON movies.movieid = tags.movieid))\n",
        "                          WHERE tag is NOT NULL\n",
        "                          GROUP BY tag\n",
        "                          ORDER BY COUNT(rating) DESC\n",
        "                          LIMIT 5\n",
        "                        \"\"\"):\n",
        "  rated_tags.append(row)\n",
        "\n",
        "schema = [\"tags\", \"tags count\"]\n",
        " \n",
        "# calling function to create dataframe\n",
        "df = spark.createDataFrame(rated_tags, schema)\n",
        "\n",
        "df.show(truncate=False)\n",
        "\n"
      ]
    },
    {
      "cell_type": "code",
      "execution_count": 10,
      "metadata": {
        "colab": {
          "base_uri": "https://localhost:8080/"
        },
        "id": "7zWDyIsOk-uz",
        "outputId": "d4ad6c27-10c1-4f19-ad5e-e837a26c8012"
      },
      "outputs": [
        {
          "name": "stdout",
          "output_type": "stream",
          "text": [
            "+------+----------------+-----------------------+\n",
            "|userId|week of the year|weekly activity of user|\n",
            "+------+----------------+-----------------------+\n",
            "|384   |2008-42         |1107                   |\n",
            "|176   |2015-03         |972                    |\n",
            "|614   |2014-27         |830                    |\n",
            "|330   |2008-33         |711                    |\n",
            "|202   |2003-50         |676                    |\n",
            "+------+----------------+-----------------------+\n",
            "\n"
          ]
        }
      ],
      "source": [
        "# By using timestamp from ratings table, provide top 5 most frequent users within a week\n",
        "\n",
        "weekly_activity = []\n",
        "\n",
        "for row in cur.execute(\"\"\"SELECT userid, strftime('%Y-%W', datetime(timestamp, 'unixepoch')) AS week_year, COUNT(strftime('%Y-%W', datetime(timestamp, 'unixepoch'))) AS weekly_activity \n",
        "                          FROM ratings\n",
        "                          GROUP BY userid, week_year \n",
        "                          ORDER BY weekly_activity DESC\n",
        "                          LIMIT 5\n",
        "                        \"\"\"):\n",
        "  weekly_activity.append(row)\n",
        "\n",
        "schema = [\"userId\", \"week of the year\", \"weekly activity of user\"]\n",
        " \n",
        "# calling function to create dataframe\n",
        "df = spark.createDataFrame(weekly_activity, schema)\n",
        "\n",
        "df.show(truncate=False)\n",
        "\n"
      ]
    },
    {
      "cell_type": "code",
      "execution_count": 11,
      "metadata": {
        "colab": {
          "base_uri": "https://localhost:8080/"
        },
        "id": "eK3PElZAxM7a",
        "outputId": "30ae116e-0681-41a4-84d1-f1d14be82561"
      },
      "outputs": [
        {
          "name": "stdout",
          "output_type": "stream",
          "text": [
            "+--------------------------------------------------------+----------+\n",
            "|genres                                                  |avg_rating|\n",
            "+--------------------------------------------------------+----------+\n",
            "|Crime|Documentary|War                                   |5.0       |\n",
            "|Animation|Documentary                                   |5.0       |\n",
            "|Adventure|Fantasy|Mystery                               |5.0       |\n",
            "|Action|Adventure|Animation|Comedy|Fantasy|Mystery|Sci-Fi|5.0       |\n",
            "|Crime|Horror|Mystery                                    |4.75      |\n",
            "|Drama|Horror|War                                        |4.5       |\n",
            "|Comedy|Crime|Western                                    |4.5       |\n",
            "|Children|Horror|Mystery|Thriller                        |4.5       |\n",
            "|Animation|Comedy|Horror|IMAX                            |4.5       |\n",
            "|Animation|Children|Drama|Fantasy|IMAX                   |4.5       |\n",
            "+--------------------------------------------------------+----------+\n",
            "\n"
          ]
        }
      ],
      "source": [
        "# Calculate average ratings for each genre, and plot average ratings of top 10 genres with descending order\n",
        "\n",
        "genres_avgrating=[]\n",
        "\n",
        "for row in cur.execute(\"\"\"SELECT genres, round(avg(rating), 2) avg_rating \n",
        "                          FROM (SELECT ratings.userId, movies.movieId, genres, rating \n",
        "                                FROM (((movies \n",
        "                                        INNER JOIN links ON movies.movieid = links.movieid) \n",
        "                                        LEFT JOIN ratings ON movies.movieId = ratings.movieId) \n",
        "                                        LEFT JOIN tags ON movies.movieid = tags.movieid))\n",
        "                          GROUP BY genres\n",
        "                          ORDER BY avg_rating DESC\n",
        "                          LIMIT 10\"\"\"):\n",
        "  genres_avgrating.append(row)\n",
        "\n",
        "schema = [\"genres\", \"avg_rating\"]\n",
        " \n",
        "# calling function to create dataframe\n",
        "df = spark.createDataFrame(genres_avgrating, schema)\n",
        "\n",
        "df.show(truncate=False)\n",
        "\n"
      ]
    },
    {
      "cell_type": "markdown",
      "metadata": {
        "id": "3M2z4B1ZubTP"
      },
      "source": [
        "## TASK 2 - Recommender Design"
      ]
    },
    {
      "cell_type": "code",
      "execution_count": 12,
      "metadata": {
        "id": "Hd6rfJRvuf0U"
      },
      "outputs": [],
      "source": [
        "from pyspark.ml.evaluation import RegressionEvaluator\n",
        "from pyspark.ml.recommendation import ALS"
      ]
    },
    {
      "cell_type": "code",
      "execution_count": 13,
      "metadata": {
        "id": "w0YoCcJzPkrB"
      },
      "outputs": [],
      "source": [
        "spark = SparkSession.builder.appName(\"movieRecommendation\").getOrCreate() "
      ]
    },
    {
      "cell_type": "code",
      "execution_count": 14,
      "metadata": {
        "colab": {
          "base_uri": "https://localhost:8080/",
          "height": 529
        },
        "id": "XlqTJcjFSdHr",
        "outputId": "4f9bf3d2-7be9-42f8-af34-eb03fc282028"
      },
      "outputs": [
        {
          "data": {
            "text/html": [
              "<table border='1'>\n",
              "<tr><th>userId</th><th>movieId</th><th>rating</th></tr>\n",
              "<tr><td>1</td><td>6</td><td>2.0</td></tr>\n",
              "<tr><td>1</td><td>22</td><td>3.0</td></tr>\n",
              "<tr><td>1</td><td>32</td><td>2.0</td></tr>\n",
              "<tr><td>1</td><td>50</td><td>5.0</td></tr>\n",
              "<tr><td>1</td><td>110</td><td>4.0</td></tr>\n",
              "<tr><td>1</td><td>164</td><td>3.0</td></tr>\n",
              "<tr><td>1</td><td>198</td><td>3.0</td></tr>\n",
              "<tr><td>1</td><td>260</td><td>5.0</td></tr>\n",
              "<tr><td>1</td><td>296</td><td>4.0</td></tr>\n",
              "<tr><td>1</td><td>303</td><td>3.0</td></tr>\n",
              "<tr><td>1</td><td>318</td><td>3.0</td></tr>\n",
              "<tr><td>1</td><td>350</td><td>3.0</td></tr>\n",
              "<tr><td>1</td><td>366</td><td>2.0</td></tr>\n",
              "<tr><td>1</td><td>367</td><td>4.0</td></tr>\n",
              "<tr><td>1</td><td>431</td><td>2.0</td></tr>\n",
              "<tr><td>1</td><td>432</td><td>2.0</td></tr>\n",
              "<tr><td>1</td><td>451</td><td>1.0</td></tr>\n",
              "<tr><td>1</td><td>457</td><td>4.0</td></tr>\n",
              "<tr><td>1</td><td>474</td><td>3.0</td></tr>\n",
              "<tr><td>1</td><td>480</td><td>4.0</td></tr>\n",
              "</table>\n",
              "only showing top 20 rows\n"
            ],
            "text/plain": [
              "+------+-------+------+\n",
              "|userId|movieId|rating|\n",
              "+------+-------+------+\n",
              "|     1|      6|   2.0|\n",
              "|     1|     22|   3.0|\n",
              "|     1|     32|   2.0|\n",
              "|     1|     50|   5.0|\n",
              "|     1|    110|   4.0|\n",
              "|     1|    164|   3.0|\n",
              "|     1|    198|   3.0|\n",
              "|     1|    260|   5.0|\n",
              "|     1|    296|   4.0|\n",
              "|     1|    303|   3.0|\n",
              "|     1|    318|   3.0|\n",
              "|     1|    350|   3.0|\n",
              "|     1|    366|   2.0|\n",
              "|     1|    367|   4.0|\n",
              "|     1|    431|   2.0|\n",
              "|     1|    432|   2.0|\n",
              "|     1|    451|   1.0|\n",
              "|     1|    457|   4.0|\n",
              "|     1|    474|   3.0|\n",
              "|     1|    480|   4.0|\n",
              "+------+-------+------+\n",
              "only showing top 20 rows"
            ]
          },
          "execution_count": 14,
          "metadata": {},
          "output_type": "execute_result"
        }
      ],
      "source": [
        "# using movie rating data to probide implicit feature using ALS(Alternate Least Squares)\n",
        "\n",
        "movie_rating=[]\n",
        "\n",
        "for row in cur.execute(\"\"\"SELECT userId, movieId, rating \n",
        "                          FROM ratings\n",
        "                                      \"\"\"):\n",
        "  movie_rating.append(row)\n",
        "\n",
        "schema = [\"userId\", \"movieId\", \"rating\"]\n",
        " \n",
        "# calling function to create dataframe\n",
        "movie_rating_df = spark.createDataFrame(movie_rating, schema)\n",
        "\n",
        "movie_rating_df\n",
        "\n",
        "\n"
      ]
    },
    {
      "cell_type": "code",
      "execution_count": 15,
      "metadata": {
        "colab": {
          "base_uri": "https://localhost:8080/"
        },
        "id": "4sHsJtxjKL9A",
        "outputId": "0d4470c6-577b-47d7-94be-fb36f80937d6"
      },
      "outputs": [
        {
          "name": "stdout",
          "output_type": "stream",
          "text": [
            "root\n",
            " |-- userId: long (nullable = true)\n",
            " |-- movieId: long (nullable = true)\n",
            " |-- rating: double (nullable = true)\n",
            "\n"
          ]
        }
      ],
      "source": [
        "# description of created schema \n",
        "movie_rating_df.printSchema()"
      ]
    },
    {
      "cell_type": "code",
      "execution_count": 16,
      "metadata": {
        "id": "k0xQG5w9ryG8"
      },
      "outputs": [],
      "source": [
        "#splitting dataset to train the model as 80% for train and remaining for test data.\n",
        "(train, test) = movie_rating_df.randomSplit([0.8, 0.2], seed=87)"
      ]
    },
    {
      "cell_type": "code",
      "execution_count": 17,
      "metadata": {
        "colab": {
          "base_uri": "https://localhost:8080/"
        },
        "id": "hGTNsGakWNl6",
        "outputId": "09fa8371-5c7b-425b-de3b-0cb88923645b"
      },
      "outputs": [
        {
          "name": "stderr",
          "output_type": "stream",
          "text": [
            "24/01/23 12:01:51 WARN BLAS: Failed to load implementation from: com.github.fommil.netlib.NativeSystemBLAS\n",
            "24/01/23 12:01:51 WARN BLAS: Failed to load implementation from: com.github.fommil.netlib.NativeRefBLAS\n",
            "24/01/23 12:01:51 WARN LAPACK: Failed to load implementation from: com.github.fommil.netlib.NativeSystemLAPACK\n",
            "24/01/23 12:01:51 WARN LAPACK: Failed to load implementation from: com.github.fommil.netlib.NativeRefLAPACK\n",
            "[Stage 127:================================================>    (184 + 4) / 200]\r"
          ]
        },
        {
          "name": "stdout",
          "output_type": "stream",
          "text": [
            "+------+-------+------+---------+\n",
            "|userId|movieId|rating|implicit |\n",
            "+------+-------+------+---------+\n",
            "|235   |148    |5.0   |2.008149 |\n",
            "|511   |148    |3.0   |1.3598946|\n",
            "|31    |471    |4.5   |2.1048026|\n",
            "|159   |471    |4.0   |4.2238326|\n",
            "|512   |471    |1.0   |2.8343349|\n",
            "|348   |471    |4.0   |5.82608  |\n",
            "|40    |471    |4.0   |2.7932863|\n",
            "|507   |471    |5.0   |3.3056219|\n",
            "|484   |471    |2.0   |3.6099942|\n",
            "|695   |471    |4.0   |3.4212964|\n",
            "|381   |471    |4.0   |3.42594  |\n",
            "|114   |471    |4.0   |3.698639 |\n",
            "|100   |471    |4.0   |3.2666426|\n",
            "|555   |471    |3.5   |4.31936  |\n",
            "|7     |471    |4.0   |4.329463 |\n",
            "|312   |471    |3.0   |3.8166485|\n",
            "|364   |471    |4.0   |3.1999168|\n",
            "|526   |471    |3.0   |5.187223 |\n",
            "|284   |471    |1.0   |2.888351 |\n",
            "|153   |471    |3.0   |2.7273307|\n",
            "+------+-------+------+---------+\n",
            "only showing top 20 rows\n",
            "\n"
          ]
        },
        {
          "name": "stderr",
          "output_type": "stream",
          "text": [
            "                                                                                \r"
          ]
        }
      ],
      "source": [
        "# 1st Recommender model - Alternating Least Square (ALS) Matrix Factorization in Collaborative Filtering on rating (as actual values) \n",
        "\n",
        "als = ALS(rank=10, maxIter=15, regParam=0.01, userCol=\"userId\", itemCol=\"movieId\", ratingCol=\"rating\", coldStartStrategy=\"drop\")\n",
        "\n",
        "model = als.fit(train)\n",
        "\n",
        "pred = model.transform(test)\n",
        "\n",
        "pred = pred.selectExpr(\"userId as userId\",\"movieId as movieId\",\"rating as rating\",\"prediction as implicit\")\n",
        "\n",
        "pred.show(truncate=False)"
      ]
    },
    {
      "cell_type": "code",
      "execution_count": 18,
      "metadata": {
        "colab": {
          "base_uri": "https://localhost:8080/"
        },
        "id": "6IxWorgqcUIO",
        "outputId": "bf56b94f-7c1b-4cb9-fc51-04d2eb244d95"
      },
      "outputs": [
        {
          "name": "stderr",
          "output_type": "stream",
          "text": [
            "[Stage 205:=================================================>   (188 + 4) / 200]\r"
          ]
        },
        {
          "name": "stdout",
          "output_type": "stream",
          "text": [
            "RMSE of ALS: 1.2020461630781316\n",
            "MAE of ALS: 0.8919637477014059\n"
          ]
        },
        {
          "name": "stderr",
          "output_type": "stream",
          "text": [
            "                                                                                \r"
          ]
        }
      ],
      "source": [
        "#calculating RMSE and MAE to evaluate performance of the models. \n",
        "\n",
        "eval_rmse = RegressionEvaluator(metricName=\"rmse\", labelCol=\"rating\", predictionCol=\"implicit\")\n",
        "eval_mae = RegressionEvaluator(metricName=\"mae\", labelCol=\"rating\", predictionCol=\"implicit\")\n",
        "\n",
        "\n",
        "rmse = eval_rmse.evaluate(pred)\n",
        "mae = eval_mae.evaluate(pred)\n",
        "\n",
        "\n",
        "print(\"RMSE of ALS:\", rmse)\n",
        "print(\"MAE of ALS:\", mae)\n",
        "\n",
        "\n"
      ]
    },
    {
      "cell_type": "code",
      "execution_count": 19,
      "metadata": {
        "colab": {
          "base_uri": "https://localhost:8080/"
        },
        "id": "QiveQdC4vbT-",
        "outputId": "792174a8-f360-48ab-9e95-b73b6c8f1410"
      },
      "outputs": [
        {
          "name": "stderr",
          "output_type": "stream",
          "text": [
            "[Stage 543:============================================>           (8 + 2) / 10]\r"
          ]
        },
        {
          "name": "stdout",
          "output_type": "stream",
          "text": [
            "+------+-------+------+---------+----------+\n",
            "|userId|movieId|rating|implicit |prediction|\n",
            "+------+-------+------+---------+----------+\n",
            "|235   |148    |5.0   |2.008149 |0.90445346|\n",
            "|159   |471    |4.0   |4.2238326|3.2099798 |\n",
            "|512   |471    |1.0   |2.8343349|2.2843814 |\n",
            "|381   |471    |4.0   |3.42594  |2.666472  |\n",
            "|114   |471    |4.0   |3.698639 |2.5128846 |\n",
            "|268   |833    |5.0   |1.8988763|1.3751497 |\n",
            "|516   |1088   |4.0   |3.3173833|3.7465203 |\n",
            "|310   |1088   |2.5   |3.1706061|3.360428  |\n",
            "|396   |1342   |2.0   |3.460894 |2.152485  |\n",
            "|255   |1580   |4.0   |3.6053696|1.8540831 |\n",
            "|48    |1580   |5.0   |4.3630586|2.6397533 |\n",
            "|455   |1580   |4.0   |2.8057783|3.1366482 |\n",
            "|37    |1580   |4.5   |3.9524019|3.4095469 |\n",
            "|510   |1580   |5.0   |2.8464563|1.6984986 |\n",
            "|371   |1580   |4.5   |4.9224043|1.7642393 |\n",
            "|228   |1580   |4.0   |3.623867 |0.6637176 |\n",
            "|611   |1580   |1.0   |2.75494  |5.258436  |\n",
            "|570   |1591   |3.0   |3.2005563|4.3265305 |\n",
            "|332   |1645   |3.0   |3.781349 |3.8138096 |\n",
            "|8     |1645   |3.0   |4.0949574|4.7626357 |\n",
            "+------+-------+------+---------+----------+\n",
            "only showing top 20 rows\n",
            "\n"
          ]
        },
        {
          "name": "stderr",
          "output_type": "stream",
          "text": [
            "                                                                                \r"
          ]
        }
      ],
      "source": [
        "# 2nd Recommender model - Alternating Least Square (ALS) Matrix Factorization in Collaborative Filtering on designed implicit feedback values \n",
        "\n",
        "\n",
        "(train_implicit, test_implicit) = pred.randomSplit([0.8, 0.2], seed=87)\n",
        "\n",
        "als_implicit = ALS(rank=10, maxIter=15, regParam=0.01, userCol=\"userId\", itemCol=\"movieId\", ratingCol=\"implicit\", coldStartStrategy=\"drop\")\n",
        "\n",
        "model_implicit = als_implicit.fit(train_implicit)\n",
        "\n",
        "pred_implicit = model_implicit.transform(test_implicit)\n",
        "\n",
        "pred_implicit.show(truncate=False)"
      ]
    },
    {
      "cell_type": "code",
      "execution_count": 20,
      "metadata": {
        "colab": {
          "base_uri": "https://localhost:8080/"
        },
        "id": "4oUlsznN7MGh",
        "outputId": "b1757443-91a5-44e8-8f03-32982684794f"
      },
      "outputs": [
        {
          "name": "stderr",
          "output_type": "stream",
          "text": [
            "[Stage 703:=================================================>   (188 + 5) / 200]\r"
          ]
        },
        {
          "name": "stdout",
          "output_type": "stream",
          "text": [
            "RMSE of ALS_Implicit Feedback: 2.0638107307078846\n",
            "MAE of ALS_Implicit Feedback: 1.6041012287458023\n"
          ]
        },
        {
          "name": "stderr",
          "output_type": "stream",
          "text": [
            "                                                                                \r"
          ]
        }
      ],
      "source": [
        "eval_rmse = RegressionEvaluator(metricName=\"rmse\", labelCol=\"rating\", predictionCol=\"prediction\")\n",
        "eval_mae = RegressionEvaluator(metricName=\"mae\", labelCol=\"rating\", predictionCol=\"prediction\")\n",
        "\n",
        "\n",
        "rmse = eval_rmse.evaluate(pred_implicit)\n",
        "mae = eval_mae.evaluate(pred_implicit)\n",
        "\n",
        "\n",
        "print(\"RMSE of ALS_Implicit Feedback:\", rmse)\n",
        "print(\"MAE of ALS_Implicit Feedback:\", mae)"
      ]
    },
    {
      "cell_type": "markdown",
      "metadata": {
        "id": "imQMCTu799AA"
      },
      "source": [
        "When compared these two models, the 1st model ( ALS on rating ) shows better performance compared to 2nd model (ALS on implicit feedback) according to error metrics such as Root Mean Square Error (RMSE) and Mean Absolute Error (MAE). "
      ]
    },
    {
      "cell_type": "markdown",
      "metadata": {
        "id": "xeRDX3e3-4z5"
      },
      "source": [
        "## Task – 3 Text Analysis"
      ]
    },
    {
      "cell_type": "code",
      "execution_count": 21,
      "metadata": {
        "id": "mY-LEz8E-8CP"
      },
      "outputs": [],
      "source": [
        "spark = SparkSession.builder.appName(\"textAnalysis\").getOrCreate()"
      ]
    },
    {
      "cell_type": "code",
      "execution_count": 22,
      "metadata": {
        "id": "zXVe2XVGHOut"
      },
      "outputs": [],
      "source": [
        "from pyspark.ml.feature import Tokenizer, RegexTokenizer\n",
        "from pyspark.sql.functions import col, udf\n"
      ]
    },
    {
      "cell_type": "code",
      "execution_count": 23,
      "metadata": {},
      "outputs": [
        {
          "name": "stdout",
          "output_type": "stream",
          "text": [
            "  % Total    % Received % Xferd  Average Speed   Time    Time     Time  Current\n",
            "                                 Dload  Upload   Total   Spent    Left  Speed\n",
            "100 80.2M  100 80.2M    0     0  1229k      0  0:01:06  0:01:06 --:--:-- 1222k15.3M    0     0   878k      0  0:01:33  0:00:17  0:01:16  966k\n"
          ]
        }
      ],
      "source": [
        "# download the data in Dataset folder.\n",
        "\n",
        "\n",
        "\n",
        "!curl -o Datasets/aclImdb_v1.tar.gz https://ai.stanford.edu/~amaas/data/sentiment/aclImdb_v1.tar.gz\n"
      ]
    },
    {
      "cell_type": "code",
      "execution_count": 24,
      "metadata": {
        "colab": {
          "base_uri": "https://localhost:8080/"
        },
        "id": "_13BV8pDCDiN",
        "outputId": "d7ac9527-f4af-4524-824a-f5a679f38650"
      },
      "outputs": [
        {
          "name": "stdout",
          "output_type": "stream",
          "text": [
            "Remaining files: 000000\n",
            "Extraction completed.\n"
          ]
        }
      ],
      "source": [
        "#Extract the tar file as dataset\n",
        "\n",
        "import tarfile\n",
        "\n",
        "def tarfile_extract(tar_file, output_dir=os.getcwd()+'/Datasets'):\n",
        "    tar = tarfile.open(tar_file, 'r:gz')\n",
        "    total_files = sum(1 for _ in tar)\n",
        "    tar.extractall(output_dir, members=extract_progress(tar, total_files))\n",
        "    tar.close()\n",
        "\n",
        "def extract_progress(tar, total_files):\n",
        "    for member in tar:\n",
        "        yield member\n",
        "        total_files -= 1\n",
        "        print(f\"Remaining files: {total_files}\", end='\\r')\n",
        "    print(\"\\nExtraction completed.\")\n",
        "\n",
        "wd = os.getcwd()\n",
        "tarfile_extract(wd+'/Datasets/aclImdb_v1.tar.gz')\n"
      ]
    },
    {
      "cell_type": "code",
      "execution_count": 25,
      "metadata": {
        "id": "K7ezNM9_W3jQ"
      },
      "outputs": [],
      "source": [
        "\n",
        "#using 'alldata' list to store all the files in the directories\n",
        "alldata=[]\n",
        "\n",
        "\n",
        "#collecting data in train/pos folder\n",
        "for fname in os.listdir(wd+'/Datasets/aclImdb/train/pos'):\n",
        "    with open(os.path.join(wd+'/Datasets/aclImdb/train/pos', fname), encoding = 'utf-8') as infile:\n",
        "        for line in infile:\n",
        "            alldata.append((line,'train','pos'))\n",
        "\n",
        "#collecting data in train/neg folder\n",
        "for fname in os.listdir(wd+'/Datasets/aclImdb/train/neg'):\n",
        "    with open(os.path.join(wd+'/Datasets/aclImdb/train/neg', fname), encoding = 'utf-8') as infile:\n",
        "        for line in infile:\n",
        "            alldata.append((line,'train','neg'))\n",
        "#collecting data in test/pos folder\n",
        "for fname in os.listdir(wd+'/Datasets/aclImdb/test/pos'):\n",
        "    with open(os.path.join(wd+'/Datasets/aclImdb/test/pos', fname), encoding = 'utf-8') as infile:\n",
        "        for line in infile:\n",
        "            alldata.append((line,'test','pos'))\n",
        "#collecting data in test/neg folder\n",
        "for fname in os.listdir(wd+'/Datasets/aclImdb/test/neg'):\n",
        "    with open(os.path.join(wd+'/Datasets/aclImdb/test/neg', fname), encoding = 'utf-8') as infile:\n",
        "        for line in infile:\n",
        "            alldata.append((line,'test','neg'))\n",
        "\n",
        "\n"
      ]
    },
    {
      "cell_type": "code",
      "execution_count": 26,
      "metadata": {
        "colab": {
          "base_uri": "https://localhost:8080/"
        },
        "id": "1uH1TGbjlh7o",
        "outputId": "c43c9ce1-1a78-41f4-8034-1c3e5b3c537f"
      },
      "outputs": [
        {
          "name": "stdout",
          "output_type": "stream",
          "text": [
            "StructType(List(StructField(content,StringType,true),StructField(label,StringType,true),StructField(sentiemtn,StringType,true)))\n",
            "+--------------------+-----+---------+\n",
            "|             content|label|sentiemtn|\n",
            "+--------------------+-----+---------+\n",
            "|First of all this...|train|      pos|\n",
            "|Its a good thing ...|train|      pos|\n",
            "|Hard to categoriz...|train|      pos|\n",
            "|Recently when i w...|train|      pos|\n",
            "|First, let me say...|train|      pos|\n",
            "|OK heres what I s...|train|      pos|\n",
            "|The real story (t...|train|      pos|\n",
            "|Since I am so int...|train|      pos|\n",
            "|The Ruth Snyder -...|train|      pos|\n",
            "|49. PAPERHOUSE (t...|train|      pos|\n",
            "|The Woman in Blac...|train|      pos|\n",
            "|Part II or former...|train|      pos|\n",
            "|After watching tw...|train|      pos|\n",
            "|I really like Ric...|train|      pos|\n",
            "|I began watching ...|train|      pos|\n",
            "|Holes, originally...|train|      pos|\n",
            "|After being force...|train|      pos|\n",
            "|Radiofreccia is a...|train|      pos|\n",
            "|I loved October S...|train|      pos|\n",
            "|This is a quirky ...|train|      pos|\n",
            "+--------------------+-----+---------+\n",
            "only showing top 20 rows\n",
            "\n"
          ]
        },
        {
          "name": "stderr",
          "output_type": "stream",
          "text": [
            "24/01/23 12:04:52 WARN TaskSetManager: Stage 705 contains a task of very large size (16318 KiB). The maximum recommended task size is 1000 KiB.\n"
          ]
        }
      ],
      "source": [
        "\n",
        "from pyspark.sql.types import ArrayType, StructField, StructType, StringType, IntegerType\n",
        "\n",
        "appName = \"list to Spark Data Frame\"\n",
        "master = \"local\"\n",
        "\n",
        "# Create Spark session\n",
        "spark = SparkSession.builder \\\n",
        "    .appName(appName) \\\n",
        "    .master(master) \\\n",
        "    .getOrCreate()\n",
        "\n",
        "# List\n",
        "data = alldata\n",
        "\n",
        "# Create a schema for the dataframe\n",
        "schema = StructType([\n",
        "    StructField('content', StringType(), True),\n",
        "    StructField('label', StringType(), True),\n",
        "    StructField('sentiemtn', StringType(), True)\n",
        "])\n",
        "\n",
        "# Convert list to RDD\n",
        "rdd = spark.sparkContext.parallelize(data)\n",
        "\n",
        "# Create data frame\n",
        "df = spark.createDataFrame(rdd,schema)\n",
        "print(df.schema)\n",
        "df.show()"
      ]
    },
    {
      "cell_type": "code",
      "execution_count": 27,
      "metadata": {
        "colab": {
          "base_uri": "https://localhost:8080/"
        },
        "id": "v7DUME6Xx1Hx",
        "outputId": "fb816dd9-aaf3-4af3-b678-577c5bbfa3b8"
      },
      "outputs": [
        {
          "name": "stderr",
          "output_type": "stream",
          "text": [
            "24/01/23 12:04:52 WARN TaskSetManager: Stage 706 contains a task of very large size (16318 KiB). The maximum recommended task size is 1000 KiB.\n",
            "                                                                                \r"
          ]
        },
        {
          "data": {
            "text/plain": [
              "50000"
            ]
          },
          "execution_count": 27,
          "metadata": {},
          "output_type": "execute_result"
        }
      ],
      "source": [
        "df.count()"
      ]
    },
    {
      "cell_type": "code",
      "execution_count": 28,
      "metadata": {
        "colab": {
          "base_uri": "https://localhost:8080/"
        },
        "id": "_JoFIyowyMjB",
        "outputId": "ff0c2ad5-97bf-4773-c4b8-9bffe15c187c"
      },
      "outputs": [
        {
          "name": "stdout",
          "output_type": "stream",
          "text": [
            "root\n",
            " |-- content: string (nullable = true)\n",
            " |-- label: string (nullable = true)\n",
            " |-- sentiemtn: string (nullable = true)\n",
            "\n"
          ]
        }
      ],
      "source": [
        "# Schema of created Spark Dataframe\n",
        "\n",
        "df.printSchema()"
      ]
    },
    {
      "cell_type": "markdown",
      "metadata": {
        "id": "xPXsyhn_2QZC"
      },
      "source": [
        "###Tokenization"
      ]
    },
    {
      "cell_type": "code",
      "execution_count": 29,
      "metadata": {
        "colab": {
          "base_uri": "https://localhost:8080/"
        },
        "id": "zK1PwZq5yhfK",
        "outputId": "e8f45810-67b3-4db0-bfc9-0c8656d7ca26"
      },
      "outputs": [
        {
          "name": "stderr",
          "output_type": "stream",
          "text": [
            "24/01/23 12:04:54 WARN TaskSetManager: Stage 708 contains a task of very large size (16318 KiB). The maximum recommended task size is 1000 KiB.\n"
          ]
        },
        {
          "name": "stdout",
          "output_type": "stream",
          "text": [
            "+--------------------+-----+---------+--------------------+\n",
            "|             content|label|sentiemtn|   tokenized_content|\n",
            "+--------------------+-----+---------+--------------------+\n",
            "|First of all this...|train|      pos|[first, of, all, ...|\n",
            "|Its a good thing ...|train|      pos|[its, a, good, th...|\n",
            "|Hard to categoriz...|train|      pos|[hard, to, catego...|\n",
            "|Recently when i w...|train|      pos|[recently, when, ...|\n",
            "|First, let me say...|train|      pos|[first, let, me, ...|\n",
            "|OK heres what I s...|train|      pos|[ok, heres, what,...|\n",
            "|The real story (t...|train|      pos|[the, real, story...|\n",
            "|Since I am so int...|train|      pos|[since, i, am, so...|\n",
            "|The Ruth Snyder -...|train|      pos|[the, ruth, snyde...|\n",
            "|49. PAPERHOUSE (t...|train|      pos|[49, paperhouse, ...|\n",
            "|The Woman in Blac...|train|      pos|[the, woman, in, ...|\n",
            "|Part II or former...|train|      pos|[part, ii, or, fo...|\n",
            "|After watching tw...|train|      pos|[after, watching,...|\n",
            "|I really like Ric...|train|      pos|[i, really, like,...|\n",
            "|I began watching ...|train|      pos|[i, began, watchi...|\n",
            "|Holes, originally...|train|      pos|[holes, originall...|\n",
            "|After being force...|train|      pos|[after, being, fo...|\n",
            "|Radiofreccia is a...|train|      pos|[radiofreccia, is...|\n",
            "|I loved October S...|train|      pos|[i, loved, octobe...|\n",
            "|This is a quirky ...|train|      pos|[this, is, a, qui...|\n",
            "+--------------------+-----+---------+--------------------+\n",
            "only showing top 20 rows\n",
            "\n"
          ]
        }
      ],
      "source": [
        "#using RegexTokenizer for tokenizing contents\n",
        "\n",
        "tokenizer = RegexTokenizer(inputCol=\"content\", outputCol=\"tokenized_content\", pattern=\"\\\\W\") # used regexp to determine pattern as 'not word'\n",
        "\n",
        "countTokens = udf(lambda w: len(w), IntegerType())\n",
        "\n",
        "tokenized = tokenizer.transform(df)\n",
        "\n",
        "tokenized.show()"
      ]
    },
    {
      "cell_type": "markdown",
      "metadata": {
        "id": "Gf-Omq8n15FM"
      },
      "source": [
        "### Removing Stop Words"
      ]
    },
    {
      "cell_type": "code",
      "execution_count": 30,
      "metadata": {
        "colab": {
          "base_uri": "https://localhost:8080/"
        },
        "id": "_NcWM3ek-iph",
        "outputId": "ead4cd37-4991-4f5d-ee5a-3c658913581c"
      },
      "outputs": [
        {
          "data": {
            "text/plain": [
              "pyspark.sql.dataframe.DataFrame"
            ]
          },
          "execution_count": 30,
          "metadata": {},
          "output_type": "execute_result"
        }
      ],
      "source": [
        "type(tokenized)"
      ]
    },
    {
      "cell_type": "code",
      "execution_count": 31,
      "metadata": {
        "colab": {
          "base_uri": "https://localhost:8080/"
        },
        "id": "PtoV10AW1uN6",
        "outputId": "36fc2c88-3b56-44d6-e93f-99565adab26e"
      },
      "outputs": [
        {
          "name": "stdout",
          "output_type": "stream",
          "text": [
            "+--------------------+-----+---------+--------------------+\n",
            "|             content|label|sentiemtn|   tokenized_content|\n",
            "+--------------------+-----+---------+--------------------+\n",
            "|First of all this...|train|      pos|[first, of, all, ...|\n",
            "|Its a good thing ...|train|      pos|[its, a, good, th...|\n",
            "|Hard to categoriz...|train|      pos|[hard, to, catego...|\n",
            "|Recently when i w...|train|      pos|[recently, when, ...|\n",
            "|First, let me say...|train|      pos|[first, let, me, ...|\n",
            "|OK heres what I s...|train|      pos|[ok, heres, what,...|\n",
            "|The real story (t...|train|      pos|[the, real, story...|\n",
            "|Since I am so int...|train|      pos|[since, i, am, so...|\n",
            "|The Ruth Snyder -...|train|      pos|[the, ruth, snyde...|\n",
            "|49. PAPERHOUSE (t...|train|      pos|[49, paperhouse, ...|\n",
            "|The Woman in Blac...|train|      pos|[the, woman, in, ...|\n",
            "|Part II or former...|train|      pos|[part, ii, or, fo...|\n",
            "|After watching tw...|train|      pos|[after, watching,...|\n",
            "|I really like Ric...|train|      pos|[i, really, like,...|\n",
            "|I began watching ...|train|      pos|[i, began, watchi...|\n",
            "|Holes, originally...|train|      pos|[holes, originall...|\n",
            "|After being force...|train|      pos|[after, being, fo...|\n",
            "|Radiofreccia is a...|train|      pos|[radiofreccia, is...|\n",
            "|I loved October S...|train|      pos|[i, loved, octobe...|\n",
            "|This is a quirky ...|train|      pos|[this, is, a, qui...|\n",
            "+--------------------+-----+---------+--------------------+\n",
            "only showing top 20 rows\n",
            "\n"
          ]
        },
        {
          "name": "stderr",
          "output_type": "stream",
          "text": [
            "24/01/23 12:04:54 WARN TaskSetManager: Stage 709 contains a task of very large size (16318 KiB). The maximum recommended task size is 1000 KiB.\n"
          ]
        }
      ],
      "source": [
        "from pyspark.ml.feature import StopWordsRemover\n",
        "\n",
        "tokenized.show()"
      ]
    },
    {
      "cell_type": "code",
      "execution_count": 32,
      "metadata": {
        "id": "IN6Qe86F4cPF"
      },
      "outputs": [],
      "source": [
        "df_tokenized = tokenized.select(\"tokenized_content\").withColumn(\"tokenCount\", countTokens(col(\"tokenized_content\")))"
      ]
    },
    {
      "cell_type": "code",
      "execution_count": 33,
      "metadata": {
        "colab": {
          "base_uri": "https://localhost:8080/"
        },
        "id": "V6gu2PKO9bkw",
        "outputId": "21a74ae9-84cd-494c-f73d-67eaeac6a24a"
      },
      "outputs": [
        {
          "data": {
            "text/plain": [
              "pyspark.sql.dataframe.DataFrame"
            ]
          },
          "execution_count": 33,
          "metadata": {},
          "output_type": "execute_result"
        }
      ],
      "source": [
        "type(df_tokenized)"
      ]
    },
    {
      "cell_type": "code",
      "execution_count": 34,
      "metadata": {
        "colab": {
          "base_uri": "https://localhost:8080/"
        },
        "id": "H1JaxUOh3eIL",
        "outputId": "906b1c9e-4510-43cf-8b02-dd2d89ecbb6a"
      },
      "outputs": [
        {
          "name": "stderr",
          "output_type": "stream",
          "text": [
            "24/01/23 12:04:56 WARN TaskSetManager: Stage 710 contains a task of very large size (16318 KiB). The maximum recommended task size is 1000 KiB.\n"
          ]
        },
        {
          "name": "stdout",
          "output_type": "stream",
          "text": [
            "+--------------------------------------------------------------------------------------------------------------------------------------------------------------------------------------------------------------------------------------------------------------------------------------------------------------------------------------------------------------------------------------------------------------------------------------------------------------------------------------------------------------------------------------------------------------------------------------------------------------------------------------------------------------------------------------------------------------------------------------------------------------------------------------------------------------------------------------------------------------------------------------------------------------------------------------------------------------------------------------------------------------------------------------------------------------------------------------------------------------------------------------------------------------------------------------------------------------------------------------------------------------------------------------------------------------------------------------------------------------------------------------------------------------------------------------------------------------------------------------------------------------------------------------------------------------------------------------------------------------------------------------------------------------------------------------------------------------------------------------------------------------------------------------------------------------------------------------------------------------------------------------------------------------------------------------------------------------------------------------------------------------------------------------------------------------------------------------------------------------------------------------------------------------------------------------------------------------------------------------------------------------------------------------------------------------------------------------------------------------------------------------------------------------------------------------------------------------------------------------------------------------------------------------------------------------------------------------------------------------------------------------------------------------------------------------------------------------------------------------------------------------------------------------------------------------------------------------------------------------------------------------------------------+\n",
            "|SWRed                                                                                                                                                                                                                                                                                                                                                                                                                                                                                                                                                                                                                                                                                                                                                                                                                                                                                                                                                                                                                                                                                                                                                                                                                                                                                                                                                                                                                                                                                                                                                                                                                                                                                                                                                                                                                                                                                                                                                                                                                                                                                                                                                                                                                                                                                                                                                                                                                                                                                                                                                                                                                                                                                                                                                                                                                                                                                                   |\n",
            "+--------------------------------------------------------------------------------------------------------------------------------------------------------------------------------------------------------------------------------------------------------------------------------------------------------------------------------------------------------------------------------------------------------------------------------------------------------------------------------------------------------------------------------------------------------------------------------------------------------------------------------------------------------------------------------------------------------------------------------------------------------------------------------------------------------------------------------------------------------------------------------------------------------------------------------------------------------------------------------------------------------------------------------------------------------------------------------------------------------------------------------------------------------------------------------------------------------------------------------------------------------------------------------------------------------------------------------------------------------------------------------------------------------------------------------------------------------------------------------------------------------------------------------------------------------------------------------------------------------------------------------------------------------------------------------------------------------------------------------------------------------------------------------------------------------------------------------------------------------------------------------------------------------------------------------------------------------------------------------------------------------------------------------------------------------------------------------------------------------------------------------------------------------------------------------------------------------------------------------------------------------------------------------------------------------------------------------------------------------------------------------------------------------------------------------------------------------------------------------------------------------------------------------------------------------------------------------------------------------------------------------------------------------------------------------------------------------------------------------------------------------------------------------------------------------------------------------------------------------------------------------------------------------+\n",
            "|[first, three, hour, movie, two, hours, ten, minutes, last, time, checked, commercials, aren, actually, part, movie, perhaps, though, ve, two, parter, total, 3, hours, yeah, gotten, able, explore, emotion, overall, though, interesting, look, lives, lucy, desi, watch, love, lucy, time, time, love, never, read, seen, biography, never, knew, anything, lives, screen, movie, m, sure, good, thing, everything, one, really, needed, know, essentially, movie, didn, need, made, made, reason, lucy, desi, still, huge, stars, certain, people, american, society, feel, rest, society, needs, know, tv, movie, stars, definitely, true, sad, br, br, anyway, shown, lucy, pretty, good, two, complaints, actress, played, viv, vance, great, casting, switch, madeline, zima, rachel, york, uhhh, like, lucy, plastic, surgery, sudden, whole, new, person, wasn, great, story, went, focused, rocky, relationship, lucy, desi, kids, shown, much, wasn, necessarily, drawback, movie, like, said, focused, mainly, lucy, desi, time, story, lucy, entire, life, maybe, kids, woulda, weren, got, see, likes, gable, lombard, red, skelton, buster, keaton, briefly, instead, wow, one, thing, story, thought, really, cool, presence, influence, lucy, life, really, neat, bad, wasn, explored, oh, well, explored, done, well, part, honestly, think, ll, ever, watch, think, movie, ll, memorable, someone, digs, love, lucy, isn, enormous, lucille, ball, fan, interesting, watch, grade, b]                                                                                                                                                                                                                                                                                                                                                                                                                                                                                                                                                                                                                                                                                                                                                                                                                                                                                                                                                                                                                                                                                                                                                                                                                                                                                                                                                                                               |\n",
            "|[good, thing, rented, movie, seeing, viewer, rating, site, wonderful, movie, adding, christmas, selection, cast, wonderfully, chosen, ben, affleck, plays, good, leading, role, tell, viewers, seen, movie, go, ahead, buy, rate, right, christmas, vacation, movie, funny, well, written, ben, plays, eccentric, rich, executive, well, things, says, imagine, person, much, money, act, movie, much, funnier, santa, claus, christmas, kranks, plus, good, story, line, teaches, true, meaning, christmas, buy, love, money]                                                                                                                                                                                                                                                                                                                                                                                                                                                                                                                                                                                                                                                                                                                                                                                                                                                                                                                                                                                                                                                                                                                                                                                                                                                                                                                                                                                                                                                                                                                                                                                                                                                                                                                                                                                                                                                                                                                                                                                                                                                                                                                                                                                                                                                                                                                                                                          |\n",
            "|[hard, categorize, film, perhaps, avant, garde, spy, thriller, mother, night, good, vonnegut, novel, certainly, one, easiest, novels, adapt, feature, length, film, film, adaptation, faithful, original, book, indie, approach, film, produced, probably, effective, big, hollywood, studio, financing, days, doubt, intelligent, novel, like, mother, night, ever, get, green, light, big, hollywood, grindhouses, normally, bad, case, mother, night, tight, direction, solid, cast, nick, nolte, seems, getting, better, roles, gets, older, still, everyman, persona, allows, take, wide, range, different, characters, sheryl, lee, beautiful, great, always, always, thought, deserved, better, got, entertainment, industry, guess, making, debut, dead, girl, twin, peaks, little, air, time, isn, choicest, roles, even, tv, show, becomes, minor, phenomenon, anyway, film, totally, enjoyable, read, book, understand, movie, fact, given, today, geopolitical, realities, novel, premise, may, appear, dated, younger, viewers, little, knowledge, history, utterly, confused, events, unfolding, talking, fellow, americans, students, scoring, lowest, industrialized, world, geography, history, lord, knows, subjects]                                                                                                                                                                                                                                                                                                                                                                                                                                                                                                                                                                                                                                                                                                                                                                                                                                                                                                                                                                                                                                                                                                                                                                                                                                                                                                                                                                                                                                                                                                                                                                                                                                                                 |\n",
            "|[recently, shopping, saw, box, set, americian, gothic, thought, remember, used, set, alarm, get, back, watch, ch, 4, 1996, 1, 30am, 14, remember, mostly, really, scary, weird, person, ever, frightening, lucas, buck, b, one, ever, anyway, br, br, annoyed, though, thing, box, set, tv, episodes, funny, order, kept, thinking, dr, matt, leave, made, confusing, br, br, however, writers, producers, directors, fault, tv, people, background, money, makers, still, look, shows, like, carnivale, farscape, like, originality, studios, br, br, finish, ve, seen, call, sci, fi, fantasy, horror, supernatural, drama, fan, must, even, said, sfx, reviewing, box, set]                                                                                                                                                                                                                                                                                                                                                                                                                                                                                                                                                                                                                                                                                                                                                                                                                                                                                                                                                                                                                                                                                                                                                                                                                                                                                                                                                                                                                                                                                                                                                                                                                                                                                                                                                                                                                                                                                                                                                                                                                                                                                                                                                                                                                          |\n",
            "|[first, let, say, notorious, absolutely, charming, film, lovingly, rendered, time, subject, gretchen, mol, utterly, painfully, convincing, soul, contradictions, smoothly, reified, ms, page, irving, paula, klaw, richly, drawn, working, class, stiffs, met, paula, movie, star, news, 1990, say, lili, taylor, performance, unimpeachable, jared, harris, john, willie, coutts, adoringly, debauched, genius, anyone, interest, recorded, history, american, attitudes, toward, sexuality, must, see, movie, theater, preferably, votes, made, dollars, count, br, br, second, allow, producer, material, similar, klaws, become, famous, way, affects, estimation, ms, harron, work, splendid, piece, condition, view, notorious, act, political, resistance, first, order, ms, harron, crafted, work, subtle, subversion, along, v, vendetta, movie, another, time, times, br, br, readers, site, aware, government, see, enacted, notorious, transcription, words, uttered, closed, senate, committee, hearings, close, approximation, one, live, right, ms, harron, expressly, disallows, political, agenda, appended, film, faithfulness, facts, respectful, unsensational, way, renders, synchronizes, notorious, present, day, acts, notorious, portrays, loving, accurate, detail, defined, obscene, communications, decency, act, recently, brought, supreme, court, first, amendment, case, turned, back, behest, bush, administration, words, delicate, ineffectual, bondage, depicted, notorious, indictable, today, federal, prosecutors, whatever, hostile, jurisdiction, choose, course, hearings, senate, elsewhere, matter, cda, passed, course, know, nothing, want, people, peoria, telling, look, likewise, people, peoria, probably, want, telling, re, allowed, view, course, notorious, never, indicted, hollywood, lawyered, countless, klaws, however, continue, steamrolled, puritanical, bureaucracy, advanced, aesthetic, moral, biological, composition, much, 50, years, br, br, addition, notorious, posts, 18, usc, 2257, compliance, statement, mandated, unnoticed, earmark, recently, voted, law, media, contains, images, sadomasochistic, restraint, required, make, available, ex, warrant, records, age, circumstance, performers, notorious, fails, regard, also, br, br, addition, splendid, piece, entertainment, nearly, accurate, historical, document, notorious, litmus, bush, justice, department, judged, respect, 14th, equal, protection, amendment, perhaps, several, constitutional, grounds, regard, alone, debt, gratitude, owed, mary, harron, ll, grateful, case, constitutional, otherwise, see, film]                                                                                                                                                                                                                                      |\n",
            "|[ok, heres, say, br, br, movie, excellent, huge, nancy, fan, read, 1, 56, original, books, went, read, 96, beware, villains, giving, movie, lower, grade, clues, point, wonderful, movie, loved, whole, thing, nancy, current, time, still, old, fashioned, like, books, people, haven, read, 5, books, complaining, view, nancy, read, think, emma, perfect, nancy, perfect, found, parts, movie, spooky, loved, exciting, car, chases, get, aways, loved, clues, solved, mystery, really, wonderful, suggest, go, see, since, people, complaining, know, nothing, good, movie, b, nancy, drew, go, see, may, oscar, worthy, really, good, movie]                                                                                                                                                                                                                                                                                                                                                                                                                                                                                                                                                                                                                                                                                                                                                                                                                                                                                                                                                                                                                                                                                                                                                                                                                                                                                                                                                                                                                                                                                                                                                                                                                                                                                                                                                                                                                                                                                                                                                                                                                                                                                                                                                                                                                                                      |\n",
            "|[real, story, took, place, kansas, 1959, murder, perry, dick, two, ex, convicts, broke, remote, house, rainy, night, steal, kill, everyone, met, richard, brooks, directed, chilling, disturbing, capote, book, reasons, drove, kids, crime, natural, born, killers, crime, scenes, brutal, haunting, lack, senses, reasons, witnessed, stunning, black, white, cinematography, conrand, hall, excellent, country, road, music, score, quincy, jones, amazing, performances, two, principal, roles, robert, blake, scott, wilson, first, time, movie, sad, comment, capital, punishment, last, moments, deaths, jones, hall, brooks, director, writer, adapted, screenplay, academy, award, nominees, gripping, superbly, directed, frightening, one, best, films, decade]                                                                                                                                                                                                                                                                                                                                                                                                                                                                                                                                                                                                                                                                                                                                                                                                                                                                                                                                                                                                                                                                                                                                                                                                                                                                                                                                                                                                                                                                                                                                                                                                                                                                                                                                                                                                                                                                                                                                                                                                                                                                                                                              |\n",
            "|[since, interested, lake, monsters, really, dug, movie, movie, worth, see, like, awful, good, types, films, check, effects, really, good, well, think, land, lost, originally, watched, movie, early, 90, maybe, like, 89, 90, local, channel, monster, show, called, morgus, presents, didn, scare, 8, anything, b, felt, like, years, later, seen, dvd, local, circuit, city, bought, immediately, give, 9, personal, spot, heart, right, monster, squad, gremlins, good, b, movie, fun, ages]                                                                                                                                                                                                                                                                                                                                                                                                                                                                                                                                                                                                                                                                                                                                                                                                                                                                                                                                                                                                                                                                                                                                                                                                                                                                                                                                                                                                                                                                                                                                                                                                                                                                                                                                                                                                                                                                                                                                                                                                                                                                                                                                                                                                                                                                                                                                                                                                        |\n",
            "|[ruth, snyder, judd, gray, murder, 1927, inspired, ogden, nash, write, broadway, play, called, machinal, famously, inspired, james, m, cain, write, two, short, novels, anyone, actually, reached, point, reading, review, familiar, double, indemnity, postman, always, rings, twice, became, film, noir, classics, 1940, double, indemnity, arguably, perfect, noir, ever, made, real, life, elements, snyder, gray, story, captured, cain, old, age, indifference, albert, gray, ruth, high, sex, drive, ruth, judd, passionate, affair, complicity, murder, famous, double, indemnity, insurance, clause, missing, elements, included, fact, actual, setting, urban, manhattan, albert, snyder, respected, newspaper, editor, numerous, incompetent, failed, attempts, also, ignored, order, cut, chase, br, br, cain, double, indemnity, filmed, perfectly, billy, wilder, let, ignore, stanwyck, ridiculous, wig, one, interesting, accidents, film, lore, postman, always, rings, twice, however, filmed, thrice, ossessione, italian, version, luchino, visconti, first, film, first, three, versions, commenting, ll, recommend, lana, turner, john, garfield, version, 1946, entirety, five, minutes, 1981, jack, nicholson, jessica, lange, version, great, sex, scene, dining, table, br, br, ossessione, noirish, postman, always, rings, twice, strong, neo, realist, look, makes, great, movie, lot, essential, noir, elements, missing, low, key, lighting, unconventional, camera, angles, dialog, hard, boiled, instead, film, concentrates, characterization, longest, version, story, goes, deeply, characterization, also, lot, sexual, lana, turner, version, obvious, adulterous, relationship, giovanna, obviously, nymphomaniac, new, character, introduced, story, la, spagnola, obvious, homosexual, overtones, also, small, well, played, role, dancer, moonlights, prostitute, br, br, far, greater, study, working, class, crime, audience, really, gets, feeling, poverty, grime, drifter, complete, tramp, wife, lana, turner, may, even, prostitute, marriage, husband, obscene, capitalist, obese, rude, arrogant, think, casting, brilliant, film, beef, overlong, running, time, everything, drawn, long, effective, economical, nevertheless, fans, noir, realism, definitely, like, ossessione]                                                                                                                                                                                                                                                                                                                                                                                                                                                                                                                                                                   |\n",
            "|[49, paperhouse, thriller, horror, 1988, sick, bed, fever, 11, year, old, anna, charlotte, burke, drawings, keep, company, health, progressively, worsens, series, mysterious, black, outs, grip, episodes, dreams, house, desolate, field, sickly, invalid, boy, named, marc, elliot, spiers, inhabiting, dark, unknown, danger, threatens, idyllic, paperhouse, life, marc, put, jeopardy, life, also, danger, dreams, mirror, state, health, br, br, critique, haunting, first, debut, feature, british, director, bernard, rose, taken, fable, marianne, dreams, catherine, storr, leaves, plenty, original, fantasy, works, wake, whenever, story, deals, dreams, nightmares, hard, give, mixture, fable, reality, make, work, film, form, director, rose, successfully, captures, children, fantasy, world, aspect, along, darkness, seeks, usurp, br, br, feverishly, scored, phillip, glass, rose, knows, use, music, wisely, expertly, timed, jump, seat, moments, thrillers, sloppy, important, aspect, scaring, audience, knowing, next, scene, bring, also, like, way, captures, suspense, never, lets, go, falter, sluggishly, next, sequence, events, also, mastery, placing, objects, within, frame, p, o, v, shots, gives, cinematography, added, dimension, otherwise, seem, lack, europe, find, ominous, looking, places, ones, presented, lonely, house, fields, coastal, towns, watchtower, etc, br, br, rose, follow, film, candyman, 1992, true, thinking, person, horror, gem, bona, fide, cult, horror, favorite]                                                                                                                                                                                                                                                                                                                                                                                                                                                                                                                                                                                                                                                                                                                                                                                                                                                                                                                                                                                                                                                                                                                                                                                                                                                                                                                                                               |\n",
            "|[woman, black, 1989, tv, adaptation, susan, hill, modern, classic, ghost, story, published, years, earlier, film, made, sadly, film, released, dvd, far, aware, deleted, vhs, availability, direct, contrast, popularity, amongst, know, horror, films, story, revolves, around, events, seaside, community, early, 20th, century, young, solicitor, sent, firm, conclude, affairs, recently, deceased, widow, died, isolated, marshland, estate, thought, routine, probably, tedious, task, turns, nightmare, discovers, old, woman, haunted, death, ghosts, past, content, rest, story, told, subtle, concise, way, never, self, indulgent, flashy, expositional, obviously, tight, budget, may, contributed, nonsense, approach, story, needs, works, well, see, scares, said, one, particularly, terrifying, scene, relies, visual, works, perfection, watched, film, day, still, gave, nightmares, nearly, week, later, love, terrified, must, get, hold, watch, copy, woman, black]                                                                                                                                                                                                                                                                                                                                                                                                                                                                                                                                                                                                                                                                                                                                                                                                                                                                                                                                                                                                                                                                                                                                                                                                                                                                                                                                                                                                                                                                                                                                                                                                                                                                                                                                                                                                                                                                                                               |\n",
            "|[part, ii, formerly, known, guerilla, also, great, achievement, quite, entertaining, part, begin, witness, might, caused, fall, death, che, guevara, m, impressed, cause, effect, parts, interconnecting, stories, re, reminded, lead, character, che, guevara, argentine, men, fidel, army, chose, take, orders, foreigner, che, chosen, leave, comfort, victory, continue, revolutionary, bolivia, doesn, get, much, respect, new, army, natives, either, foreigner, br, br, far, technical, goes, think, part, ii, ve, helpful, everything, else, right, display, map, show, highlights, previous, installment, refresh, memory, characters, set, make, audience, understand, methods, successful, cuba, work, bolivia, clear, segment, che, charismatic, fidel, castro, bolivia, dealing, bunch, soldiers, whose, hearts, fully, said, ingredient, revolutionary, love, well, give, damn, much, country, tough, sell, excruciatingly, painful, difficult, che, get, others, buy, vision, br, br, like, one, particular, scene, illustrates, che, deteriorating, condition, scene, horse, go, matter, badly, che, tries, direct, temper, took, better, moment, forgets, doctor, becomes, desperate, soldier, stabs, horse, army, like, horse, doesn, want, led, time, film, drags, relies, small, cameos, familiar, faces, ll, recognize, sake, brief, entertainment, part, get, pounded, left, right, one, obstacle, another, maybe, intention, part, ii, definitely, works, standing, ovation, cinematography, gives, us, first, person, view, moment, che, last, breath, movie, may, answer, questions, che, guevara, stubborn, determined, pull, even, wen, odds, deeply, wants, south, america, fate, cuba, movie, che, story, worth, telling]                                                                                                                                                                                                                                                                                                                                                                                                                                                                                                                                                                                                                                                                                                                                                                                                                                                                                                                                                                                                                                                                                                                                                  |\n",
            "|[watching, two, silent, shorts, elena, men, 1956, first, feature, length, film, french, director, jean, renoir, quite, enjoyed, however, didn, watch, film, renoir, star, ingrid, bergman, age, 41, still, radiated, unsurpassed, beauty, elegance, charm, throughout, early, 1950s, following, scandalous, marriage, italian, roberto, rossellini, bergman, temporarily, fell, public, favour, next, five, films, directed, husband, unsuccessful, united, states, suspect, renoir, latest, release, little, enhance, bergman, popularity, english, speaking, audiences, however, regain, former, success, oscar, year, anastasia, 1956, stars, elena, sokorowska, polish, princess, sees, guardian, angel, sorts, bringing, success, recognition, promising, men, everywhere, promptly, abandoning, working, lucky, charms, aid, political, aspirations, distinguished, general, francois, rollan, jean, marais, finds, falling, love, won, able, walk, away, vaguely, political, film, works, well, either, satire, romantic, comedy, long, take, seriously, purely, lighthearted, romantic, fluff, br, br, filmed, vibrant, technicolor, elena, men, looks, terrific, well, flurry, bright, colours, characters, costumes, bergman, polish, princess, dreamy, somewhat, self, absorbed, unlikable, way, hardly, woman, high, principles, convictions, persuaded, team, bumbling, government, conspirators, convince, general, rollan, stage, coup, d, tat, knowingly, exploiting, love, order, satisfy, delusions, guardian, angel, perhaps, film, legitimately, virtuous, character, henri, de, chevincourt, mel, ferrer, audrey, hepburn, husband, ignores, everybody, else, selfish, secondary, motives, pursues, elena, love, love, alone, renoir, proudly, suggests, true, french, best, elena, men, also, attempts, moderate, success, expose, superficiality, upper, class, french, liaisons, clumsy, philandering, eug, ne, jacques, jouanneau, make, love, servant, mistress, without, fianc, walking, sequences, renoir, obviously, trying, madcap, sort, humour, might, find, marx, brothers, film, film, relaxed, laid, back, energy, isn]                                                                                                                                                                                                                                                                                                                                                                                                                                                                                                                                                                                                                                                                                                                                              |\n",
            "|[really, like, richard, gere, always, seems, late, status, hollywood, star, money, maker, slipped, appear, reason, taking, mature, intense, roles, successful, financially, seen, truly, great, gems, late, including, hoax, hunting, party, must, see, films, see, reviews, flock, apparently, meant, big, release, considering, substantial, 35, million, budget, seems, imdb, reviews, harsh, thought, film, dealt, potentially, serious, social, issue, direct, violent, disturbing, way, gere, brings, home, action, thriller, drama, kept, glued, television, story, think, part, problem, people, seem, hollywood, izes, serious, issue, think, disrespect, rather, tries, take, different, spin, make, people, aware, exists, fact, much, way, hunting, party, dealt, war, hong, kong, director, wai, keung, lau, decent, job, holding, together, think, cast, made, watchable, br, br, richard, gere, may, guessed, previous, comments, brilliant, social, worker, sorts, erroll, babbage, kind, created, style, laws, comes, keeping, track, flock, registered, violent, sex, offenders, holds, punches, tracking, people, following, making, absolutely, sure, re, offend, ll, one, identify, stop, way, gere, intense, looks, drained, job, become, violent, angry, watching, monsters, loose, street, fantastic, claire, danes, also, terrific, babbage, new, partner, replacement, train, job, danes, character, far, typical, social, worker, little, taken, aback, babbage, style, methods, slowly, realizes, trying, accomplish, go, two, brilliant, together, terrific, chemistry, vastly, different, characters, kadee, strickland, plays, disturbed, registered, offender, appears, torn, headlines, plays, character, reminiscent, karla, homolka, paul, bernardo, wife, follow, canadian, serial, killers, character, goes, little, top, convincing, horrifying, russell, sams, small, role, strickland, new, boyfriend, better, probably, given, bigger, role, ray, wise, terrific, character, actor, check, dead, end, well, amazing, turn, satan, wb, show, reaper, gets, small, good, role, head, public, safety, department, babbage, boss, br, br, movie, isn, perfect, despite, terrific, performances, lead, cast, takes, liberties, really, trying, make, film, entertainment, educational, different, angle, unlike, nicholas, cage, dud, 8mm, flock, takes, underbelly, sex, trade, kidnapping, human, trafficking, really, something, watch, perhaps, wasn, directed, written, well, telling, danes, gere, together, make, movie, completely, watchable, really, great, thriller, disturbing, also, something, isn, complex, yet, gere, character, many, ways, intensely, complex, many, layers, also, opens, social, stigma, makes, contemplate, vigilantism, many, ways, see, people, gere, deals, encourage, ignore, poor, reviews, see, worth, checking, 8, 5, 10]|\n",
            "|[began, watching, replay, tv, movie, sunday, afternoon, thinking, another, dumb, airplane, disaster, flick, wrong, br, br, pandora, clock, intelligent, political, thriller, far, beyond, quality, tv, movies, easily, made, debut, big, screen, br, br, cast, excellent, including, veteran, actors, richard, dean, anderson, edward, herrmann, robert, guillaume, robert, loggia, daphne, zuniga, turns, one, best, performances, medical, specialist, working, cia, frasier, jane, leeves, also, good, br, br, dialogue, well, written, story, compelling, throughout, fact, final, hour, filled, plot, twists, suspense, leave, seat, second, get, chance, see, movie, invest, time, nearly, four, hours, richly, rewarded]                                                                                                                                                                                                                                                                                                                                                                                                                                                                                                                                                                                                                                                                                                                                                                                                                                                                                                                                                                                                                                                                                                                                                                                                                                                                                                                                                                                                                                                                                                                                                                                                                                                                                                                                                                                                                                                                                                                                                                                                                                                                                                                                                                         |\n",
            "|[holes, originally, novel, louis, sachar, successfully, transformed, entertaining, well, made, film, starring, sigourney, weaver, warden, shia, labeouf, stanley, khleo, thomas, zero, roles, well, casted, actors, portrayed, roles, well, br, br, film, inter, weaving, storylines, led, end, main, storyline, stanley, yelnats, punishment, spending, year, half, camp, greenlake, second, storyline, sam, kate, barlow, plot, deals, racism, deep, storyline, movie, third, elya, yelnats, madame, zeroni, explains, 100, year, curse, yelnats, family, opinion, storylines, weaved, together, well, br, br, contrary, many, people, beliefs, think, read, book, understand, movie, film, reasonably, easy, understand, br, br, acting, film, well, done, especially, shia, labeouf, stanley, khleo, thomas, zero, sigourney, weaver, warden, jon, voight, mr, sir, members, d, tent, jake, smith, squid, max, kasch, zig, zag, miguel, castro, magnet, byron, cotton, armpit, brenden, jefferson, x, ray, enhanced, comic, relief, movie, however, best, parts, zero, stanley, made, great, team, together, br, br, although, holes, disney, movie, deals, serious, issues, racism, shootings, violence, film, dramatization, points, well, done, br, br, suggest, movie, people, ages, whether, read, book, shouldn, miss]                                                                                                                                                                                                                                                                                                                                                                                                                                                                                                                                                                                                                                                                                                                                                                                                                                                                                                                                                                                                                                                                                                                                                                                                                                                                                                                                                                                                                                                                                                                                                                        |\n",
            "|[forced, sit, real, stinkers, racing, stripes, shark, boy, lava, girl, truly, enjoyed, watching, fried, worms, guess, ending, funny, entertaining, didn, resort, ton, gross, humor, despite, title, boys, 6, 10, loved, oh, 45, year, old, boy, smile, face, whole, time, family, movie, tolerable, parents, relationship, little, brother, close, real, life, stopping, singing, annoy, also, way, new, kid, tries, make, friends, friendships, actually, form, right, way, kids, behave, course, parents, act, little, goofy, favorite, scenes, involved, dad, getting, used, new, job, fun]                                                                                                                                                                                                                                                                                                                                                                                                                                                                                                                                                                                                                                                                                                                                                                                                                                                                                                                                                                                                                                                                                                                                                                                                                                                                                                                                                                                                                                                                                                                                                                                                                                                                                                                                                                                                                                                                                                                                                                                                                                                                                                                                                                                                                                                                                                          |\n",
            "|[radiofreccia, movie, us, dreams, friends, obsessions, addictions, fears, brilliant, movie, group, friends, like, us, lives, hardships, growing, small, town, one, significant, decades, last, century, movie, doesn, take, happy, sad, approach, things, tells, us, story, one, us, experienced, one, happiness, excitement, sadness, grief, power, story, grow, love, characters, one, movies, watch, feeling, closer, little, town, emilia, romagna, takes, place, hoping, one, day, able, finally, walk, streets, next, freccia, friends, listening, music, changed, world, crackling, sound, old, radio, playing, radio, raptus, international, playing, dreams, dreams, radiofreccia, make, laugh, make, cry, times, shock, comfort, give, take, personally, believe, played, important, part, life, friends, suggest, watch, let, become, part]                                                                                                                                                                                                                                                                                                                                                                                                                                                                                                                                                                                                                                                                                                                                                                                                                                                                                                                                                                                                                                                                                                                                                                                                                                                                                                                                                                                                                                                                                                                                                                                                                                                                                                                                                                                                                                                                                                                                                                                                                                                  |\n",
            "|[loved, october, sky, thing, loved, music, worked, two, ways, first, hour, film, gives, viewer, time, frame, done, playing, songs, late, fifties, second, hour, instrumental, score, takes, music, fits, mood, film, perfectly, br, br, enjoy, music, also, quite, enjoyed, cast, jake, gyllenhaal, homer, hickam, especially, surprise, gave, first, class, performance, chris, owen, quentin, chris, cooper, john, hickam, br, br, ve, seen, movie, escaping, life, already, laid, twice, times, thoroughly, enjoyed]                                                                                                                                                                                                                                                                                                                                                                                                                                                                                                                                                                                                                                                                                                                                                                                                                                                                                                                                                                                                                                                                                                                                                                                                                                                                                                                                                                                                                                                                                                                                                                                                                                                                                                                                                                                                                                                                                                                                                                                                                                                                                                                                                                                                                                                                                                                                                                                 |\n",
            "|[quirky, little, movie, agree, quirky, acting, well, br, br, follows, adventures, young, man, decides, wants, become, famous, las, vegas, illusionist, partly, following, dream, partly, dreams, others, travails, showbiz, thought, movie, charming, moment, two, real, magic, make, whole, thing, worthwhile, br, br, alan, arkin, terrific, magician, never, mentoring, max, makes, funny, touching, relationship, br, br, everyone, probably, like, movies, journey, think, ll, like, one]                                                                                                                                                                                                                                                                                                                                                                                                                                                                                                                                                                                                                                                                                                                                                                                                                                                                                                                                                                                                                                                                                                                                                                                                                                                                                                                                                                                                                                                                                                                                                                                                                                                                                                                                                                                                                                                                                                                                                                                                                                                                                                                                                                                                                                                                                                                                                                                                          |\n",
            "+--------------------------------------------------------------------------------------------------------------------------------------------------------------------------------------------------------------------------------------------------------------------------------------------------------------------------------------------------------------------------------------------------------------------------------------------------------------------------------------------------------------------------------------------------------------------------------------------------------------------------------------------------------------------------------------------------------------------------------------------------------------------------------------------------------------------------------------------------------------------------------------------------------------------------------------------------------------------------------------------------------------------------------------------------------------------------------------------------------------------------------------------------------------------------------------------------------------------------------------------------------------------------------------------------------------------------------------------------------------------------------------------------------------------------------------------------------------------------------------------------------------------------------------------------------------------------------------------------------------------------------------------------------------------------------------------------------------------------------------------------------------------------------------------------------------------------------------------------------------------------------------------------------------------------------------------------------------------------------------------------------------------------------------------------------------------------------------------------------------------------------------------------------------------------------------------------------------------------------------------------------------------------------------------------------------------------------------------------------------------------------------------------------------------------------------------------------------------------------------------------------------------------------------------------------------------------------------------------------------------------------------------------------------------------------------------------------------------------------------------------------------------------------------------------------------------------------------------------------------------------------------------------------+\n",
            "only showing top 20 rows\n",
            "\n"
          ]
        }
      ],
      "source": [
        "# SWR -> stop word remover\n",
        "SWR  = StopWordsRemover (inputCol='tokenized_content', outputCol='SWRed')\n",
        "\n",
        "\n",
        "#See the result of removal operation\n",
        "SWR.transform(df_tokenized).select('SWRed').show(truncate=False)"
      ]
    }
  ],
  "metadata": {
    "accelerator": "TPU",
    "colab": {
      "collapsed_sections": [],
      "name": "Huawei R&D Technical Interview Question_v2.ipynb",
      "provenance": [],
      "toc_visible": true
    },
    "gpuClass": "standard",
    "kernelspec": {
      "display_name": "Python 3",
      "name": "python3"
    },
    "language_info": {
      "codemirror_mode": {
        "name": "ipython",
        "version": 3
      },
      "file_extension": ".py",
      "mimetype": "text/x-python",
      "name": "python",
      "nbconvert_exporter": "python",
      "pygments_lexer": "ipython3",
      "version": "3.10.12"
    }
  },
  "nbformat": 4,
  "nbformat_minor": 0
}
