{
  "cells": [
    {
      "cell_type": "markdown",
      "metadata": {
        "id": "5Ybl-OTpuiQx"
      },
      "source": [
        "## Task -1 Exploratory Data Analysis"
      ]
    },
    {
      "cell_type": "code",
      "execution_count": 2,
      "metadata": {
        "colab": {
          "base_uri": "https://localhost:8080/",
          "height": 35
        },
        "id": "JLXY2Pe6hgqq",
        "outputId": "4e1f89ec-262e-47a7-df8b-5a1b34cce9e4"
      },
      "outputs": [
        {
          "data": {
            "text/plain": [
              "'/mnt/d/Melih/Python Studies/BigData Tech Interview'"
            ]
          },
          "execution_count": 2,
          "metadata": {},
          "output_type": "execute_result"
        }
      ],
      "source": [
        "pwd"
      ]
    },
    {
      "cell_type": "code",
      "execution_count": 3,
      "metadata": {
        "id": "q2FGpclC3tn4"
      },
      "outputs": [
        {
          "name": "stdout",
          "output_type": "stream",
          "text": [
            "Scanning processes...                                                           \n",
            "Scanning processor microcode...                                                 \n",
            "Scanning linux images...                                                        \n",
            "\n",
            "Failed to retrieve available kernel versions.\n",
            "\n",
            "Failed to check for processor microcode upgrades.\n",
            "\n",
            "No services need to be restarted.\n",
            "\n",
            "No containers need to be restarted.\n",
            "\n",
            "No user sessions are running outdated binaries.\n",
            "\n",
            "No VM guests are running outdated hypervisor (qemu) binaries on this host.\n"
          ]
        }
      ],
      "source": [
        "\"\"\"\n",
        "Installing Spark with its dependencies\n",
        "Installing Spark\n",
        "Install Dependencies:\n",
        "\n",
        "Java 8\n",
        "Apache Spark with hadoop and\n",
        "Findspark (used to locate the spark in the system)\n",
        "\"\"\"\n",
        "\n",
        "#these operations could be done on Google colab or needed to run under linuxOS. \n",
        "\n",
        "!apt-get install openjdk-8-jdk-headless -qq > /dev/null\n",
        "!wget -q http://archive.apache.org/dist/spark/spark-3.1.1/spark-3.1.1-bin-hadoop3.2.tgz\n",
        "!tar xf spark-3.1.1-bin-hadoop3.2.tgz\n",
        "!pip install -q findspark"
      ]
    },
    {
      "cell_type": "code",
      "execution_count": 6,
      "metadata": {
        "id": "1vd9yVaK4DR6"
      },
      "outputs": [],
      "source": [
        "#Set Environment Variables:\n",
        "\n",
        "import os\n",
        "os.environ[\"JAVA_HOME\"] = \"/usr/lib/jvm/java-8-openjdk-amd64\"\n",
        "os.environ[\"SPARK_HOME\"] = \"/mnt/d/Melih/Python Studies/BigData Tech Interview/spark-3.1.1-bin-hadoop3.2\""
      ]
    },
    {
      "cell_type": "code",
      "execution_count": 7,
      "metadata": {
        "colab": {
          "base_uri": "https://localhost:8080/",
          "height": 219
        },
        "id": "SUjv6TWh4i1t",
        "outputId": "9bb2d972-e87e-43fb-d2f5-fca2dd7c7b1b"
      },
      "outputs": [
        {
          "name": "stderr",
          "output_type": "stream",
          "text": [
            "24/01/10 13:22:00 WARN Utils: Your hostname, DESKTOP-9PUMQUL resolves to a loopback address: 127.0.1.1; using 172.30.38.110 instead (on interface eth0)\n",
            "24/01/10 13:22:00 WARN Utils: Set SPARK_LOCAL_IP if you need to bind to another address\n",
            "24/01/10 13:22:04 WARN NativeCodeLoader: Unable to load native-hadoop library for your platform... using builtin-java classes where applicable\n",
            "Using Spark's default log4j profile: org/apache/spark/log4j-defaults.properties\n",
            "Setting default log level to \"WARN\".\n",
            "To adjust logging level use sc.setLogLevel(newLevel). For SparkR, use setLogLevel(newLevel).\n"
          ]
        },
        {
          "data": {
            "text/html": [
              "\n",
              "            <div>\n",
              "                <p><b>SparkSession - in-memory</b></p>\n",
              "                \n",
              "        <div>\n",
              "            <p><b>SparkContext</b></p>\n",
              "\n",
              "            <p><a href=\"http://172.30.38.110:4040\">Spark UI</a></p>\n",
              "\n",
              "            <dl>\n",
              "              <dt>Version</dt>\n",
              "                <dd><code>v3.1.1</code></dd>\n",
              "              <dt>Master</dt>\n",
              "                <dd><code>local[*]</code></dd>\n",
              "              <dt>AppName</dt>\n",
              "                <dd><code>pyspark-shell</code></dd>\n",
              "            </dl>\n",
              "        </div>\n",
              "        \n",
              "            </div>\n",
              "        "
            ],
            "text/plain": [
              "<pyspark.sql.session.SparkSession at 0x7f51a8371f90>"
            ]
          },
          "execution_count": 7,
          "metadata": {},
          "output_type": "execute_result"
        }
      ],
      "source": [
        "import findspark\n",
        "findspark.init()\n",
        "from pyspark.sql import SparkSession\n",
        "spark = SparkSession.builder.master(\"local[*]\").getOrCreate()\n",
        "spark.conf.set(\"spark.sql.repl.eagerEval.enabled\", True) # Property used to format output tables better\n",
        "spark"
      ]
    },
    {
      "cell_type": "code",
      "execution_count": 8,
      "metadata": {
        "id": "2mYOKttpn9EH"
      },
      "outputs": [],
      "source": [
        "#will be used sqlite3 to be able to reach .db file\n",
        "\n",
        "import sqlite3\n",
        "\n",
        "con = sqlite3.connect('Datasets/movielens-small.db')\n",
        "cur = con.cursor()"
      ]
    },
    {
      "cell_type": "code",
      "execution_count": 9,
      "metadata": {
        "colab": {
          "base_uri": "https://localhost:8080/"
        },
        "id": "OahMiKvLqz6p",
        "outputId": "9b7a9f5d-808f-409d-e6fa-8b5d122c5de0"
      },
      "outputs": [
        {
          "name": "stdout",
          "output_type": "stream",
          "text": [
            "  % Total    % Received % Xferd  Average Speed   Time    Time     Time  Current\n",
            "                                 Dload  Upload   Total   Spent    Left  Speed\n",
            "  0     0    0     0    0     0      0      0 --:--:-- --:--:-- --:--:--     0"
          ]
        },
        {
          "name": "stdout",
          "output_type": "stream",
          "text": [
            "100 7125k  100 7125k    0     0  2164k      0  0:00:03  0:00:03 --:--:-- 2164k\n"
          ]
        }
      ],
      "source": [
        "#For SQLite JDBC driver, it can be downloaded via:\n",
        "\n",
        "!curl -O https://repo1.maven.org/maven2/org/xerial/sqlite-jdbc/3.34.0/sqlite-jdbc-3.34.0.jar"
      ]
    },
    {
      "cell_type": "code",
      "execution_count": 11,
      "metadata": {
        "colab": {
          "base_uri": "https://localhost:8080/",
          "height": 581
        },
        "id": "9K03GzCfx8jU",
        "outputId": "cca7859b-a5f0-406a-81df-c3f86529f54a"
      },
      "outputs": [
        {
          "name": "stderr",
          "output_type": "stream",
          "text": [
            "                                                                                \r"
          ]
        },
        {
          "name": "stdout",
          "output_type": "stream",
          "text": [
            "number of rows of our dataframe: 249641\n",
            "\n",
            "\n"
          ]
        },
        {
          "data": {
            "text/html": [
              "<table border='1'>\n",
              "<tr><th>userId</th><th>movieId</th><th>genre</th><th>rating</th></tr>\n",
              "<tr><td>7</td><td>1</td><td>Adventure|Animati...</td><td>5.0</td></tr>\n",
              "<tr><td>7</td><td>1</td><td>Adventure|Animati...</td><td>5.0</td></tr>\n",
              "<tr><td>7</td><td>1</td><td>Adventure|Animati...</td><td>5.0</td></tr>\n",
              "<tr><td>10</td><td>1</td><td>Adventure|Animati...</td><td>4.0</td></tr>\n",
              "<tr><td>10</td><td>1</td><td>Adventure|Animati...</td><td>4.0</td></tr>\n",
              "<tr><td>10</td><td>1</td><td>Adventure|Animati...</td><td>4.0</td></tr>\n",
              "<tr><td>13</td><td>1</td><td>Adventure|Animati...</td><td>4.5</td></tr>\n",
              "<tr><td>13</td><td>1</td><td>Adventure|Animati...</td><td>4.5</td></tr>\n",
              "<tr><td>13</td><td>1</td><td>Adventure|Animati...</td><td>4.5</td></tr>\n",
              "<tr><td>16</td><td>1</td><td>Adventure|Animati...</td><td>5.0</td></tr>\n",
              "<tr><td>16</td><td>1</td><td>Adventure|Animati...</td><td>5.0</td></tr>\n",
              "<tr><td>16</td><td>1</td><td>Adventure|Animati...</td><td>5.0</td></tr>\n",
              "<tr><td>21</td><td>1</td><td>Adventure|Animati...</td><td>5.0</td></tr>\n",
              "<tr><td>21</td><td>1</td><td>Adventure|Animati...</td><td>5.0</td></tr>\n",
              "<tr><td>21</td><td>1</td><td>Adventure|Animati...</td><td>5.0</td></tr>\n",
              "<tr><td>22</td><td>1</td><td>Adventure|Animati...</td><td>4.0</td></tr>\n",
              "<tr><td>22</td><td>1</td><td>Adventure|Animati...</td><td>4.0</td></tr>\n",
              "<tr><td>22</td><td>1</td><td>Adventure|Animati...</td><td>4.0</td></tr>\n",
              "<tr><td>27</td><td>1</td><td>Adventure|Animati...</td><td>4.0</td></tr>\n",
              "<tr><td>27</td><td>1</td><td>Adventure|Animati...</td><td>4.0</td></tr>\n",
              "</table>\n",
              "only showing top 20 rows\n"
            ],
            "text/plain": [
              "+------+-------+--------------------+------+\n",
              "|userId|movieId|               genre|rating|\n",
              "+------+-------+--------------------+------+\n",
              "|     7|      1|Adventure|Animati...|   5.0|\n",
              "|     7|      1|Adventure|Animati...|   5.0|\n",
              "|     7|      1|Adventure|Animati...|   5.0|\n",
              "|    10|      1|Adventure|Animati...|   4.0|\n",
              "|    10|      1|Adventure|Animati...|   4.0|\n",
              "|    10|      1|Adventure|Animati...|   4.0|\n",
              "|    13|      1|Adventure|Animati...|   4.5|\n",
              "|    13|      1|Adventure|Animati...|   4.5|\n",
              "|    13|      1|Adventure|Animati...|   4.5|\n",
              "|    16|      1|Adventure|Animati...|   5.0|\n",
              "|    16|      1|Adventure|Animati...|   5.0|\n",
              "|    16|      1|Adventure|Animati...|   5.0|\n",
              "|    21|      1|Adventure|Animati...|   5.0|\n",
              "|    21|      1|Adventure|Animati...|   5.0|\n",
              "|    21|      1|Adventure|Animati...|   5.0|\n",
              "|    22|      1|Adventure|Animati...|   4.0|\n",
              "|    22|      1|Adventure|Animati...|   4.0|\n",
              "|    22|      1|Adventure|Animati...|   4.0|\n",
              "|    27|      1|Adventure|Animati...|   4.0|\n",
              "|    27|      1|Adventure|Animati...|   4.0|\n",
              "+------+-------+--------------------+------+\n",
              "only showing top 20 rows"
            ]
          },
          "execution_count": 11,
          "metadata": {},
          "output_type": "execute_result"
        }
      ],
      "source": [
        "# Write a SQL query to create a dataframe with including userid, movieid, genre and rating\n",
        "\n",
        "import csv\n",
        "with open(\"movielens.csv\", \"w\") as csvFile:\n",
        "    fieldnames = ['userId', 'movieId', 'genre', 'rating']\n",
        "    writer = csv.DictWriter(csvFile, fieldnames=fieldnames)\n",
        "    writer.writeheader()\n",
        "\n",
        "    for row in cur.execute(\"\"\"SELECT ratings.userId, movies.movieId, genres, rating \n",
        "                              FROM (((movies \n",
        "                                      INNER JOIN links ON movies.movieid = links.movieid) \n",
        "                                      LEFT JOIN ratings ON movies.movieId = ratings.movieId) \n",
        "                                      LEFT JOIN tags ON movies.movieid = tags.movieid)\"\"\"):\n",
        " \n",
        "        userId = row[0]\n",
        "        movieId = row[1]\n",
        "        genre = row[2]\n",
        "        rating = row[3]\n",
        "\n",
        "        writer.writerow({'userId': userId, \n",
        "                        'movieId':movieId,\n",
        "                        'genre': genre,\n",
        "                        'rating':rating}\n",
        "        )\n",
        "\n",
        "movielens_small_df = spark.read.csv(\"movielens.csv\", header=True)\n",
        "\n",
        "print(\"number of rows of our dataframe:\", movielens_small_df.count())\n",
        "print(\"\\n\")\n",
        "\n",
        "movielens_small_df"
      ]
    },
    {
      "cell_type": "code",
      "execution_count": 12,
      "metadata": {
        "colab": {
          "base_uri": "https://localhost:8080/"
        },
        "id": "9adqNcucRA00",
        "outputId": "c08790f9-8ab1-4de5-8c3f-958c4d1c7365"
      },
      "outputs": [
        {
          "name": "stderr",
          "output_type": "stream",
          "text": [
            "                                                                                \r"
          ]
        },
        {
          "name": "stdout",
          "output_type": "stream",
          "text": [
            "+-------+-------------------------+------------+\n",
            "|movieId|title                    |rating count|\n",
            "+-------+-------------------------+------------+\n",
            "|318    |Shawshank Redemption, The|5904        |\n",
            "|2571   |Matrix, The              |5300        |\n",
            "|296    |Pulp Fiction             |4578        |\n",
            "|2762   |Sixth Sense, The         |4080        |\n",
            "|47     |Seven (a.k.a. Se7en)     |4047        |\n",
            "+-------+-------------------------+------------+\n",
            "\n"
          ]
        }
      ],
      "source": [
        "# Count ratings for each movie, and list top 5 movies with the highest value\n",
        "\n",
        "movie_rating_count = []\n",
        "\n",
        "for row in cur.execute(\"\"\"SELECT movieid, title,COUNT(rating) \n",
        "                          FROM (SELECT ratings.userId, movies.movieId, title,genres, rating \n",
        "                                FROM (((movies \n",
        "                                        INNER JOIN links ON movies.movieid = links.movieid)\n",
        "                                        LEFT JOIN ratings ON movies.movieId = ratings.movieId)\n",
        "                                        LEFT JOIN tags ON movies.movieid = tags.movieid))                                                    \n",
        "                          GROUP BY movieid\n",
        "                          ORDER BY count(rating) DESC\n",
        "                          LIMIT 5\n",
        "                        \"\"\"):\n",
        "  movie_rating_count.append(row)\n",
        "\n",
        "schema = [\"movieId\", \"title\", \"rating count\"]\n",
        " \n",
        "# calling function to create dataframe\n",
        "df = spark.createDataFrame(movie_rating_count, schema)\n",
        "\n",
        "df.show(truncate=False)\n",
        "  "
      ]
    },
    {
      "cell_type": "code",
      "execution_count": 13,
      "metadata": {
        "colab": {
          "base_uri": "https://localhost:8080/"
        },
        "id": "dgVd_W6qkFC_",
        "outputId": "7dccc28f-4a43-4244-dc05-5c1aacdb347d"
      },
      "outputs": [
        {
          "name": "stdout",
          "output_type": "stream",
          "text": [
            "+--------------------------------+------------+\n",
            "|genres                          |rating count|\n",
            "+--------------------------------+------------+\n",
            "|Comedy                          |10162       |\n",
            "|Crime|Drama                     |10107       |\n",
            "|Comedy|Drama                    |7949        |\n",
            "|Drama                           |7846        |\n",
            "|Action|Adventure|Sci-Fi|Thriller|7182        |\n",
            "+--------------------------------+------------+\n",
            "\n"
          ]
        }
      ],
      "source": [
        "# Find and list top 5 most rated genres\n",
        "\n",
        "rated_genres = []\n",
        "\n",
        "for row in cur.execute(\"\"\"SELECT genres, COUNT(rating) \n",
        "                          FROM (SELECT ratings.userId, movies.movieId, genres, rating \n",
        "                                FROM (((movies \n",
        "                                        INNER JOIN links ON movies.movieid = links.movieid) \n",
        "                                        LEFT JOIN ratings ON movies.movieId = ratings.movieId) \n",
        "                                        LEFT JOIN tags ON movies.movieid = tags.movieid))\n",
        "                          GROUP BY genres\n",
        "                          ORDER BY COUNT(rating) DESC\n",
        "                          LIMIT 5\n",
        "                        \"\"\"):\n",
        "  rated_genres.append(row)\n",
        "\n",
        "schema = [\"genres\", \"rating count\"]\n",
        " \n",
        "# calling function to create dataframe\n",
        "df = spark.createDataFrame(rated_genres, schema)\n",
        "\n",
        "df.show(truncate=False)\n"
      ]
    },
    {
      "cell_type": "code",
      "execution_count": 14,
      "metadata": {
        "colab": {
          "base_uri": "https://localhost:8080/"
        },
        "id": "G4OzuDxlcDsL",
        "outputId": "ef97a8b8-5517-495c-a035-56c6c1562f5f"
      },
      "outputs": [
        {
          "name": "stdout",
          "output_type": "stream",
          "text": [
            "+------------+----------+\n",
            "|tags        |tags count|\n",
            "+------------+----------+\n",
            "|drama       |3542      |\n",
            "|sci-fi      |3035      |\n",
            "|twist ending|2998      |\n",
            "|psychology  |2672      |\n",
            "|crime       |2570      |\n",
            "+------------+----------+\n",
            "\n"
          ]
        }
      ],
      "source": [
        "#Find and list top 5 most rated tags\n",
        "\n",
        "rated_tags = []\n",
        "\n",
        "for row in cur.execute(\"\"\"SELECT tag, COUNT(rating) \n",
        "                          FROM (SELECT ratings.userId, movies.movieId, genres, tag, rating \n",
        "                                FROM (((movies \n",
        "                                        INNER JOIN links ON movies.movieid = links.movieid) \n",
        "                                        LEFT JOIN ratings ON movies.movieId = ratings.movieId) \n",
        "                                        LEFT JOIN tags ON movies.movieid = tags.movieid))\n",
        "                          WHERE tag is NOT NULL\n",
        "                          GROUP BY tag\n",
        "                          ORDER BY COUNT(rating) DESC\n",
        "                          LIMIT 5\n",
        "                        \"\"\"):\n",
        "  rated_tags.append(row)\n",
        "\n",
        "schema = [\"tags\", \"tags count\"]\n",
        " \n",
        "# calling function to create dataframe\n",
        "df = spark.createDataFrame(rated_tags, schema)\n",
        "\n",
        "df.show(truncate=False)\n",
        "\n"
      ]
    },
    {
      "cell_type": "code",
      "execution_count": 15,
      "metadata": {
        "colab": {
          "base_uri": "https://localhost:8080/"
        },
        "id": "7zWDyIsOk-uz",
        "outputId": "d4ad6c27-10c1-4f19-ad5e-e837a26c8012"
      },
      "outputs": [
        {
          "name": "stdout",
          "output_type": "stream",
          "text": [
            "+------+----------------+-----------------------+\n",
            "|userId|week of the year|weekly activity of user|\n",
            "+------+----------------+-----------------------+\n",
            "|384   |2008-42         |1107                   |\n",
            "|176   |2015-03         |972                    |\n",
            "|614   |2014-27         |830                    |\n",
            "|330   |2008-33         |711                    |\n",
            "|202   |2003-50         |676                    |\n",
            "+------+----------------+-----------------------+\n",
            "\n"
          ]
        }
      ],
      "source": [
        "# By using timestamp from ratings table, provide top 5 most frequent users within a week\n",
        "\n",
        "weekly_activity = []\n",
        "\n",
        "for row in cur.execute(\"\"\"SELECT userid, strftime('%Y-%W', datetime(timestamp, 'unixepoch')) AS week_year, COUNT(strftime('%Y-%W', datetime(timestamp, 'unixepoch'))) AS weekly_activity \n",
        "                          FROM ratings\n",
        "                          GROUP BY userid, week_year \n",
        "                          ORDER BY weekly_activity DESC\n",
        "                          LIMIT 5\n",
        "                        \"\"\"):\n",
        "  weekly_activity.append(row)\n",
        "\n",
        "schema = [\"userId\", \"week of the year\", \"weekly activity of user\"]\n",
        " \n",
        "# calling function to create dataframe\n",
        "df = spark.createDataFrame(weekly_activity, schema)\n",
        "\n",
        "df.show(truncate=False)\n",
        "\n"
      ]
    },
    {
      "cell_type": "code",
      "execution_count": 16,
      "metadata": {
        "colab": {
          "base_uri": "https://localhost:8080/"
        },
        "id": "eK3PElZAxM7a",
        "outputId": "30ae116e-0681-41a4-84d1-f1d14be82561"
      },
      "outputs": [
        {
          "name": "stdout",
          "output_type": "stream",
          "text": [
            "+--------------------------------------------------------+----------+\n",
            "|genres                                                  |avg_rating|\n",
            "+--------------------------------------------------------+----------+\n",
            "|Crime|Documentary|War                                   |5.0       |\n",
            "|Animation|Documentary                                   |5.0       |\n",
            "|Adventure|Fantasy|Mystery                               |5.0       |\n",
            "|Action|Adventure|Animation|Comedy|Fantasy|Mystery|Sci-Fi|5.0       |\n",
            "|Crime|Horror|Mystery                                    |4.75      |\n",
            "|Drama|Horror|War                                        |4.5       |\n",
            "|Comedy|Crime|Western                                    |4.5       |\n",
            "|Children|Horror|Mystery|Thriller                        |4.5       |\n",
            "|Animation|Comedy|Horror|IMAX                            |4.5       |\n",
            "|Animation|Children|Drama|Fantasy|IMAX                   |4.5       |\n",
            "+--------------------------------------------------------+----------+\n",
            "\n"
          ]
        }
      ],
      "source": [
        "# Calculate average ratings for each genre, and plot average ratings of top 10 genres with descending order\n",
        "\n",
        "genres_avgrating=[]\n",
        "\n",
        "for row in cur.execute(\"\"\"SELECT genres, round(avg(rating), 2) avg_rating \n",
        "                          FROM (SELECT ratings.userId, movies.movieId, genres, rating \n",
        "                                FROM (((movies \n",
        "                                        INNER JOIN links ON movies.movieid = links.movieid) \n",
        "                                        LEFT JOIN ratings ON movies.movieId = ratings.movieId) \n",
        "                                        LEFT JOIN tags ON movies.movieid = tags.movieid))\n",
        "                          GROUP BY genres\n",
        "                          ORDER BY avg_rating DESC\n",
        "                          LIMIT 10\"\"\"):\n",
        "  genres_avgrating.append(row)\n",
        "\n",
        "schema = [\"genres\", \"avg_rating\"]\n",
        " \n",
        "# calling function to create dataframe\n",
        "df = spark.createDataFrame(genres_avgrating, schema)\n",
        "\n",
        "df.show(truncate=False)\n",
        "\n"
      ]
    },
    {
      "cell_type": "markdown",
      "metadata": {
        "id": "3M2z4B1ZubTP"
      },
      "source": [
        "## TASK 2 - Recommender Design"
      ]
    },
    {
      "cell_type": "code",
      "execution_count": 19,
      "metadata": {
        "id": "Hd6rfJRvuf0U"
      },
      "outputs": [],
      "source": [
        "from pyspark.ml.evaluation import RegressionEvaluator\n",
        "from pyspark.ml.recommendation import ALS"
      ]
    },
    {
      "cell_type": "code",
      "execution_count": 20,
      "metadata": {
        "id": "w0YoCcJzPkrB"
      },
      "outputs": [],
      "source": [
        "spark = SparkSession.builder.appName(\"movieRecommendation\").getOrCreate() "
      ]
    },
    {
      "cell_type": "code",
      "execution_count": 21,
      "metadata": {
        "colab": {
          "base_uri": "https://localhost:8080/",
          "height": 529
        },
        "id": "XlqTJcjFSdHr",
        "outputId": "4f9bf3d2-7be9-42f8-af34-eb03fc282028"
      },
      "outputs": [
        {
          "data": {
            "text/html": [
              "<table border='1'>\n",
              "<tr><th>userId</th><th>movieId</th><th>rating</th></tr>\n",
              "<tr><td>1</td><td>6</td><td>2.0</td></tr>\n",
              "<tr><td>1</td><td>22</td><td>3.0</td></tr>\n",
              "<tr><td>1</td><td>32</td><td>2.0</td></tr>\n",
              "<tr><td>1</td><td>50</td><td>5.0</td></tr>\n",
              "<tr><td>1</td><td>110</td><td>4.0</td></tr>\n",
              "<tr><td>1</td><td>164</td><td>3.0</td></tr>\n",
              "<tr><td>1</td><td>198</td><td>3.0</td></tr>\n",
              "<tr><td>1</td><td>260</td><td>5.0</td></tr>\n",
              "<tr><td>1</td><td>296</td><td>4.0</td></tr>\n",
              "<tr><td>1</td><td>303</td><td>3.0</td></tr>\n",
              "<tr><td>1</td><td>318</td><td>3.0</td></tr>\n",
              "<tr><td>1</td><td>350</td><td>3.0</td></tr>\n",
              "<tr><td>1</td><td>366</td><td>2.0</td></tr>\n",
              "<tr><td>1</td><td>367</td><td>4.0</td></tr>\n",
              "<tr><td>1</td><td>431</td><td>2.0</td></tr>\n",
              "<tr><td>1</td><td>432</td><td>2.0</td></tr>\n",
              "<tr><td>1</td><td>451</td><td>1.0</td></tr>\n",
              "<tr><td>1</td><td>457</td><td>4.0</td></tr>\n",
              "<tr><td>1</td><td>474</td><td>3.0</td></tr>\n",
              "<tr><td>1</td><td>480</td><td>4.0</td></tr>\n",
              "</table>\n",
              "only showing top 20 rows\n"
            ],
            "text/plain": [
              "+------+-------+------+\n",
              "|userId|movieId|rating|\n",
              "+------+-------+------+\n",
              "|     1|      6|   2.0|\n",
              "|     1|     22|   3.0|\n",
              "|     1|     32|   2.0|\n",
              "|     1|     50|   5.0|\n",
              "|     1|    110|   4.0|\n",
              "|     1|    164|   3.0|\n",
              "|     1|    198|   3.0|\n",
              "|     1|    260|   5.0|\n",
              "|     1|    296|   4.0|\n",
              "|     1|    303|   3.0|\n",
              "|     1|    318|   3.0|\n",
              "|     1|    350|   3.0|\n",
              "|     1|    366|   2.0|\n",
              "|     1|    367|   4.0|\n",
              "|     1|    431|   2.0|\n",
              "|     1|    432|   2.0|\n",
              "|     1|    451|   1.0|\n",
              "|     1|    457|   4.0|\n",
              "|     1|    474|   3.0|\n",
              "|     1|    480|   4.0|\n",
              "+------+-------+------+\n",
              "only showing top 20 rows"
            ]
          },
          "execution_count": 21,
          "metadata": {},
          "output_type": "execute_result"
        }
      ],
      "source": [
        "# using movie rating data to probide implicit feature using ALS(Alternate Least Squares)\n",
        "\n",
        "movie_rating=[]\n",
        "\n",
        "for row in cur.execute(\"\"\"SELECT userId, movieId, rating \n",
        "                          FROM ratings\n",
        "                                      \"\"\"):\n",
        "  movie_rating.append(row)\n",
        "\n",
        "schema = [\"userId\", \"movieId\", \"rating\"]\n",
        " \n",
        "# calling function to create dataframe\n",
        "movie_rating_df = spark.createDataFrame(movie_rating, schema)\n",
        "\n",
        "movie_rating_df\n",
        "\n",
        "\n"
      ]
    },
    {
      "cell_type": "code",
      "execution_count": 22,
      "metadata": {
        "colab": {
          "base_uri": "https://localhost:8080/"
        },
        "id": "4sHsJtxjKL9A",
        "outputId": "0d4470c6-577b-47d7-94be-fb36f80937d6"
      },
      "outputs": [
        {
          "name": "stdout",
          "output_type": "stream",
          "text": [
            "root\n",
            " |-- userId: long (nullable = true)\n",
            " |-- movieId: long (nullable = true)\n",
            " |-- rating: double (nullable = true)\n",
            "\n"
          ]
        }
      ],
      "source": [
        "# description of created schema \n",
        "movie_rating_df.printSchema()"
      ]
    },
    {
      "cell_type": "code",
      "execution_count": 23,
      "metadata": {
        "id": "k0xQG5w9ryG8"
      },
      "outputs": [],
      "source": [
        "#splitting dataset to train the model as 80% for train and remaining for test data.\n",
        "(train, test) = movie_rating_df.randomSplit([0.8, 0.2], seed=87)"
      ]
    },
    {
      "cell_type": "code",
      "execution_count": 24,
      "metadata": {
        "colab": {
          "base_uri": "https://localhost:8080/"
        },
        "id": "hGTNsGakWNl6",
        "outputId": "09fa8371-5c7b-425b-de3b-0cb88923645b"
      },
      "outputs": [
        {
          "name": "stderr",
          "output_type": "stream",
          "text": [
            "24/01/10 14:06:25 WARN BLAS: Failed to load implementation from: com.github.fommil.netlib.NativeSystemBLAS\n",
            "24/01/10 14:06:25 WARN BLAS: Failed to load implementation from: com.github.fommil.netlib.NativeRefBLAS\n",
            "24/01/10 14:06:26 WARN LAPACK: Failed to load implementation from: com.github.fommil.netlib.NativeSystemLAPACK\n",
            "24/01/10 14:06:26 WARN LAPACK: Failed to load implementation from: com.github.fommil.netlib.NativeRefLAPACK\n",
            "[Stage 132:===================================================> (193 + 4) / 200]\r"
          ]
        },
        {
          "name": "stdout",
          "output_type": "stream",
          "text": [
            "+------+-------+------+---------+\n",
            "|userId|movieId|rating|implicit |\n",
            "+------+-------+------+---------+\n",
            "|235   |148    |5.0   |2.0427582|\n",
            "|511   |148    |3.0   |1.4713852|\n",
            "|31    |471    |4.5   |3.4488323|\n",
            "|159   |471    |4.0   |4.0025434|\n",
            "|512   |471    |1.0   |3.2929988|\n",
            "|348   |471    |4.0   |3.4467976|\n",
            "|40    |471    |4.0   |3.8660078|\n",
            "|507   |471    |5.0   |5.2328386|\n",
            "|484   |471    |2.0   |4.331705 |\n",
            "|695   |471    |4.0   |4.4885693|\n",
            "|381   |471    |4.0   |2.826352 |\n",
            "|114   |471    |4.0   |3.441213 |\n",
            "|100   |471    |4.0   |4.0677114|\n",
            "|555   |471    |3.5   |0.732529 |\n",
            "|7     |471    |4.0   |3.8900871|\n",
            "|312   |471    |3.0   |3.5309174|\n",
            "|364   |471    |4.0   |3.4042537|\n",
            "|526   |471    |3.0   |2.4181755|\n",
            "|284   |471    |1.0   |3.2360702|\n",
            "|153   |471    |3.0   |2.7380362|\n",
            "+------+-------+------+---------+\n",
            "only showing top 20 rows\n",
            "\n"
          ]
        },
        {
          "name": "stderr",
          "output_type": "stream",
          "text": [
            "                                                                                \r"
          ]
        }
      ],
      "source": [
        "# 1st Recommender model - Alternating Least Square (ALS) Matrix Factorization in Collaborative Filtering on rating (as actual values) \n",
        "\n",
        "als = ALS(rank=10, maxIter=15, regParam=0.01, userCol=\"userId\", itemCol=\"movieId\", ratingCol=\"rating\", coldStartStrategy=\"drop\")\n",
        "\n",
        "model = als.fit(train)\n",
        "\n",
        "pred = model.transform(test)\n",
        "\n",
        "pred = pred.selectExpr(\"userId as userId\",\"movieId as movieId\",\"rating as rating\",\"prediction as implicit\")\n",
        "\n",
        "pred.show(truncate=False)"
      ]
    },
    {
      "cell_type": "code",
      "execution_count": 25,
      "metadata": {
        "colab": {
          "base_uri": "https://localhost:8080/"
        },
        "id": "6IxWorgqcUIO",
        "outputId": "bf56b94f-7c1b-4cb9-fc51-04d2eb244d95"
      },
      "outputs": [
        {
          "name": "stderr",
          "output_type": "stream",
          "text": [
            "[Stage 210:===================================================> (196 + 4) / 200]\r"
          ]
        },
        {
          "name": "stdout",
          "output_type": "stream",
          "text": [
            "RMSE of ALS: 1.2072562905595927\n",
            "MAE of ALS: 0.8972502829270987\n"
          ]
        },
        {
          "name": "stderr",
          "output_type": "stream",
          "text": [
            "                                                                                \r"
          ]
        }
      ],
      "source": [
        "#calculating RMSE and MAE to evaluate performance of the models. \n",
        "\n",
        "eval_rmse = RegressionEvaluator(metricName=\"rmse\", labelCol=\"rating\", predictionCol=\"implicit\")\n",
        "eval_mae = RegressionEvaluator(metricName=\"mae\", labelCol=\"rating\", predictionCol=\"implicit\")\n",
        "\n",
        "\n",
        "rmse = eval_rmse.evaluate(pred)\n",
        "mae = eval_mae.evaluate(pred)\n",
        "\n",
        "\n",
        "print(\"RMSE of ALS:\", rmse)\n",
        "print(\"MAE of ALS:\", mae)\n",
        "\n",
        "\n"
      ]
    },
    {
      "cell_type": "code",
      "execution_count": 26,
      "metadata": {
        "colab": {
          "base_uri": "https://localhost:8080/"
        },
        "id": "QiveQdC4vbT-",
        "outputId": "792174a8-f360-48ab-9e95-b73b6c8f1410"
      },
      "outputs": [
        {
          "name": "stderr",
          "output_type": "stream",
          "text": [
            "[Stage 548:====================================================>(197 + 3) / 200]\r"
          ]
        },
        {
          "name": "stdout",
          "output_type": "stream",
          "text": [
            "+------+-------+------+----------+----------+\n",
            "|userId|movieId|rating|implicit  |prediction|\n",
            "+------+-------+------+----------+----------+\n",
            "|235   |148    |5.0   |2.0427582 |1.1547841 |\n",
            "|159   |471    |4.0   |4.0025434 |3.4179564 |\n",
            "|512   |471    |1.0   |3.2929988 |2.261888  |\n",
            "|381   |471    |4.0   |2.826352  |3.5311952 |\n",
            "|114   |471    |4.0   |3.441213  |3.992014  |\n",
            "|268   |833    |5.0   |4.303023  |1.5993907 |\n",
            "|516   |1088   |4.0   |3.2694519 |1.6520771 |\n",
            "|310   |1088   |2.5   |2.9118025 |2.4477503 |\n",
            "|396   |1342   |2.0   |3.9599633 |1.2432461 |\n",
            "|255   |1580   |4.0   |3.6367385 |3.2219117 |\n",
            "|48    |1580   |5.0   |4.5507298 |3.656833  |\n",
            "|455   |1580   |4.0   |3.0749636 |2.5888271 |\n",
            "|37    |1580   |4.5   |3.7437525 |2.460612  |\n",
            "|510   |1580   |5.0   |3.6514566 |2.7741225 |\n",
            "|371   |1580   |4.5   |4.148648  |3.6198492 |\n",
            "|228   |1580   |4.0   |3.571132  |3.6175978 |\n",
            "|611   |1580   |1.0   |2.2056186 |-1.0445195|\n",
            "|570   |1591   |3.0   |0.13581106|0.42700404|\n",
            "|332   |1645   |3.0   |3.0009642 |3.7789023 |\n",
            "|8     |1645   |3.0   |3.5728219 |4.0099077 |\n",
            "+------+-------+------+----------+----------+\n",
            "only showing top 20 rows\n",
            "\n"
          ]
        },
        {
          "name": "stderr",
          "output_type": "stream",
          "text": [
            "                                                                                \r"
          ]
        }
      ],
      "source": [
        "# 2nd Recommender model - Alternating Least Square (ALS) Matrix Factorization in Collaborative Filtering on designed implicit feedback values \n",
        "\n",
        "\n",
        "(train_implicit, test_implicit) = pred.randomSplit([0.8, 0.2], seed=87)\n",
        "\n",
        "als_implicit = ALS(rank=10, maxIter=15, regParam=0.01, userCol=\"userId\", itemCol=\"movieId\", ratingCol=\"implicit\", coldStartStrategy=\"drop\")\n",
        "\n",
        "model_implicit = als_implicit.fit(train_implicit)\n",
        "\n",
        "pred_implicit = model_implicit.transform(test_implicit)\n",
        "\n",
        "pred_implicit.show(truncate=False)"
      ]
    },
    {
      "cell_type": "code",
      "execution_count": 27,
      "metadata": {
        "colab": {
          "base_uri": "https://localhost:8080/"
        },
        "id": "4oUlsznN7MGh",
        "outputId": "b1757443-91a5-44e8-8f03-32982684794f"
      },
      "outputs": [
        {
          "name": "stderr",
          "output_type": "stream",
          "text": [
            "[Stage 708:====================================================>(197 + 3) / 200]\r"
          ]
        },
        {
          "name": "stdout",
          "output_type": "stream",
          "text": [
            "RMSE of ALS_Implicit Feedback: 1.7407146416511488\n",
            "MAE of ALS_Implicit Feedback: 1.3577586723162154\n"
          ]
        },
        {
          "name": "stderr",
          "output_type": "stream",
          "text": [
            "                                                                                \r"
          ]
        }
      ],
      "source": [
        "eval_rmse = RegressionEvaluator(metricName=\"rmse\", labelCol=\"rating\", predictionCol=\"prediction\")\n",
        "eval_mae = RegressionEvaluator(metricName=\"mae\", labelCol=\"rating\", predictionCol=\"prediction\")\n",
        "\n",
        "\n",
        "rmse = eval_rmse.evaluate(pred_implicit)\n",
        "mae = eval_mae.evaluate(pred_implicit)\n",
        "\n",
        "\n",
        "print(\"RMSE of ALS_Implicit Feedback:\", rmse)\n",
        "print(\"MAE of ALS_Implicit Feedback:\", mae)"
      ]
    },
    {
      "cell_type": "markdown",
      "metadata": {
        "id": "imQMCTu799AA"
      },
      "source": [
        "When compared these two models, the 1st model ( ALS on rating ) shows better performance compared to 2nd model (ALS on implicit feedback) according to error metrics such as Root Mean Square Error (RMSE) and Mean Absolute Error (MAE). "
      ]
    },
    {
      "cell_type": "markdown",
      "metadata": {
        "id": "xeRDX3e3-4z5"
      },
      "source": [
        "## Task – 3 Text Analysis"
      ]
    },
    {
      "cell_type": "code",
      "execution_count": 28,
      "metadata": {
        "id": "mY-LEz8E-8CP"
      },
      "outputs": [],
      "source": [
        "spark = SparkSession.builder.appName(\"textAnalysis\").getOrCreate()"
      ]
    },
    {
      "cell_type": "code",
      "execution_count": 29,
      "metadata": {
        "id": "zXVe2XVGHOut"
      },
      "outputs": [],
      "source": [
        "from pyspark.ml.feature import Tokenizer, RegexTokenizer\n",
        "from pyspark.sql.functions import col, udf\n"
      ]
    },
    {
      "cell_type": "code",
      "execution_count": 31,
      "metadata": {},
      "outputs": [
        {
          "name": "stdout",
          "output_type": "stream",
          "text": [
            "  % Total    % Received % Xferd  Average Speed   Time    Time     Time  Current\n",
            "                                 Dload  Upload   Total   Spent    Left  Speed\n",
            "100 80.2M  100 80.2M    0     0  1733k      0  0:00:47  0:00:47 --:--:-- 2047kk\n"
          ]
        }
      ],
      "source": [
        "# download the data in Dataset folder.\n",
        "\n",
        "\n",
        "\n",
        "!curl -o Datasets/aclImdb_v1.tar.gz https://ai.stanford.edu/~amaas/data/sentiment/aclImdb_v1.tar.gz\n"
      ]
    },
    {
      "cell_type": "code",
      "execution_count": 34,
      "metadata": {
        "colab": {
          "base_uri": "https://localhost:8080/"
        },
        "id": "_13BV8pDCDiN",
        "outputId": "d7ac9527-f4af-4524-824a-f5a679f38650"
      },
      "outputs": [
        {
          "name": "stdout",
          "output_type": "stream",
          "text": [
            "Remaining files: 977840\r"
          ]
        },
        {
          "ename": "KeyboardInterrupt",
          "evalue": "",
          "output_type": "error",
          "traceback": [
            "\u001b[0;31m---------------------------------------------------------------------------\u001b[0m",
            "\u001b[0;31mKeyboardInterrupt\u001b[0m                         Traceback (most recent call last)",
            "Cell \u001b[0;32mIn[34], line 19\u001b[0m\n\u001b[1;32m     16\u001b[0m     \u001b[38;5;28mprint\u001b[39m(\u001b[38;5;124m\"\u001b[39m\u001b[38;5;130;01m\\n\u001b[39;00m\u001b[38;5;124mExtraction completed.\u001b[39m\u001b[38;5;124m\"\u001b[39m)\n\u001b[1;32m     18\u001b[0m wd \u001b[38;5;241m=\u001b[39m os\u001b[38;5;241m.\u001b[39mgetcwd()\n\u001b[0;32m---> 19\u001b[0m \u001b[43mtarfile_extract\u001b[49m\u001b[43m(\u001b[49m\u001b[43mwd\u001b[49m\u001b[38;5;241;43m+\u001b[39;49m\u001b[38;5;124;43m'\u001b[39;49m\u001b[38;5;124;43m/Datasets/aclImdb_v1.tar.gz\u001b[39;49m\u001b[38;5;124;43m'\u001b[39;49m\u001b[43m)\u001b[49m\n",
            "Cell \u001b[0;32mIn[34], line 8\u001b[0m, in \u001b[0;36mtarfile_extract\u001b[0;34m(tar_file, output_dir)\u001b[0m\n\u001b[1;32m      6\u001b[0m tar \u001b[38;5;241m=\u001b[39m tarfile\u001b[38;5;241m.\u001b[39mopen(tar_file, \u001b[38;5;124m'\u001b[39m\u001b[38;5;124mr:gz\u001b[39m\u001b[38;5;124m'\u001b[39m)\n\u001b[1;32m      7\u001b[0m total_files \u001b[38;5;241m=\u001b[39m \u001b[38;5;28msum\u001b[39m(\u001b[38;5;241m1\u001b[39m \u001b[38;5;28;01mfor\u001b[39;00m _ \u001b[38;5;129;01min\u001b[39;00m tar)\n\u001b[0;32m----> 8\u001b[0m \u001b[43mtar\u001b[49m\u001b[38;5;241;43m.\u001b[39;49m\u001b[43mextractall\u001b[49m\u001b[43m(\u001b[49m\u001b[43moutput_dir\u001b[49m\u001b[43m,\u001b[49m\u001b[43m \u001b[49m\u001b[43mmembers\u001b[49m\u001b[38;5;241;43m=\u001b[39;49m\u001b[43mextract_progress\u001b[49m\u001b[43m(\u001b[49m\u001b[43mtar\u001b[49m\u001b[43m,\u001b[49m\u001b[43m \u001b[49m\u001b[43mtotal_files\u001b[49m\u001b[43m)\u001b[49m\u001b[43m)\u001b[49m\n\u001b[1;32m      9\u001b[0m tar\u001b[38;5;241m.\u001b[39mclose()\n",
            "File \u001b[0;32m/usr/lib/python3.10/tarfile.py:2257\u001b[0m, in \u001b[0;36mTarFile.extractall\u001b[0;34m(self, path, members, numeric_owner, filter)\u001b[0m\n\u001b[1;32m   2252\u001b[0m     \u001b[38;5;28;01mif\u001b[39;00m tarinfo\u001b[38;5;241m.\u001b[39misdir():\n\u001b[1;32m   2253\u001b[0m         \u001b[38;5;66;03m# For directories, delay setting attributes until later,\u001b[39;00m\n\u001b[1;32m   2254\u001b[0m         \u001b[38;5;66;03m# since permissions can interfere with extraction and\u001b[39;00m\n\u001b[1;32m   2255\u001b[0m         \u001b[38;5;66;03m# extracting contents can reset mtime.\u001b[39;00m\n\u001b[1;32m   2256\u001b[0m         directories\u001b[38;5;241m.\u001b[39mappend(tarinfo)\n\u001b[0;32m-> 2257\u001b[0m     \u001b[38;5;28;43mself\u001b[39;49m\u001b[38;5;241;43m.\u001b[39;49m\u001b[43m_extract_one\u001b[49m\u001b[43m(\u001b[49m\u001b[43mtarinfo\u001b[49m\u001b[43m,\u001b[49m\u001b[43m \u001b[49m\u001b[43mpath\u001b[49m\u001b[43m,\u001b[49m\u001b[43m \u001b[49m\u001b[43mset_attrs\u001b[49m\u001b[38;5;241;43m=\u001b[39;49m\u001b[38;5;129;43;01mnot\u001b[39;49;00m\u001b[43m \u001b[49m\u001b[43mtarinfo\u001b[49m\u001b[38;5;241;43m.\u001b[39;49m\u001b[43misdir\u001b[49m\u001b[43m(\u001b[49m\u001b[43m)\u001b[49m\u001b[43m,\u001b[49m\n\u001b[1;32m   2258\u001b[0m \u001b[43m                      \u001b[49m\u001b[43mnumeric_owner\u001b[49m\u001b[38;5;241;43m=\u001b[39;49m\u001b[43mnumeric_owner\u001b[49m\u001b[43m)\u001b[49m\n\u001b[1;32m   2260\u001b[0m \u001b[38;5;66;03m# Reverse sort directories.\u001b[39;00m\n\u001b[1;32m   2261\u001b[0m directories\u001b[38;5;241m.\u001b[39msort(key\u001b[38;5;241m=\u001b[39m\u001b[38;5;28;01mlambda\u001b[39;00m a: a\u001b[38;5;241m.\u001b[39mname, reverse\u001b[38;5;241m=\u001b[39m\u001b[38;5;28;01mTrue\u001b[39;00m)\n",
            "File \u001b[0;32m/usr/lib/python3.10/tarfile.py:2320\u001b[0m, in \u001b[0;36mTarFile._extract_one\u001b[0;34m(self, tarinfo, path, set_attrs, numeric_owner)\u001b[0m\n\u001b[1;32m   2317\u001b[0m \u001b[38;5;28mself\u001b[39m\u001b[38;5;241m.\u001b[39m_check(\u001b[38;5;124m\"\u001b[39m\u001b[38;5;124mr\u001b[39m\u001b[38;5;124m\"\u001b[39m)\n\u001b[1;32m   2319\u001b[0m \u001b[38;5;28;01mtry\u001b[39;00m:\n\u001b[0;32m-> 2320\u001b[0m     \u001b[38;5;28;43mself\u001b[39;49m\u001b[38;5;241;43m.\u001b[39;49m\u001b[43m_extract_member\u001b[49m\u001b[43m(\u001b[49m\u001b[43mtarinfo\u001b[49m\u001b[43m,\u001b[49m\u001b[43m \u001b[49m\u001b[43mos\u001b[49m\u001b[38;5;241;43m.\u001b[39;49m\u001b[43mpath\u001b[49m\u001b[38;5;241;43m.\u001b[39;49m\u001b[43mjoin\u001b[49m\u001b[43m(\u001b[49m\u001b[43mpath\u001b[49m\u001b[43m,\u001b[49m\u001b[43m \u001b[49m\u001b[43mtarinfo\u001b[49m\u001b[38;5;241;43m.\u001b[39;49m\u001b[43mname\u001b[49m\u001b[43m)\u001b[49m\u001b[43m,\u001b[49m\n\u001b[1;32m   2321\u001b[0m \u001b[43m                         \u001b[49m\u001b[43mset_attrs\u001b[49m\u001b[38;5;241;43m=\u001b[39;49m\u001b[43mset_attrs\u001b[49m\u001b[43m,\u001b[49m\n\u001b[1;32m   2322\u001b[0m \u001b[43m                         \u001b[49m\u001b[43mnumeric_owner\u001b[49m\u001b[38;5;241;43m=\u001b[39;49m\u001b[43mnumeric_owner\u001b[49m\u001b[43m)\u001b[49m\n\u001b[1;32m   2323\u001b[0m \u001b[38;5;28;01mexcept\u001b[39;00m \u001b[38;5;167;01mOSError\u001b[39;00m \u001b[38;5;28;01mas\u001b[39;00m e:\n\u001b[1;32m   2324\u001b[0m     \u001b[38;5;28mself\u001b[39m\u001b[38;5;241m.\u001b[39m_handle_fatal_error(e)\n",
            "File \u001b[0;32m/usr/lib/python3.10/tarfile.py:2403\u001b[0m, in \u001b[0;36mTarFile._extract_member\u001b[0;34m(self, tarinfo, targetpath, set_attrs, numeric_owner)\u001b[0m\n\u001b[1;32m   2400\u001b[0m     \u001b[38;5;28mself\u001b[39m\u001b[38;5;241m.\u001b[39m_dbg(\u001b[38;5;241m1\u001b[39m, tarinfo\u001b[38;5;241m.\u001b[39mname)\n\u001b[1;32m   2402\u001b[0m \u001b[38;5;28;01mif\u001b[39;00m tarinfo\u001b[38;5;241m.\u001b[39misreg():\n\u001b[0;32m-> 2403\u001b[0m     \u001b[38;5;28;43mself\u001b[39;49m\u001b[38;5;241;43m.\u001b[39;49m\u001b[43mmakefile\u001b[49m\u001b[43m(\u001b[49m\u001b[43mtarinfo\u001b[49m\u001b[43m,\u001b[49m\u001b[43m \u001b[49m\u001b[43mtargetpath\u001b[49m\u001b[43m)\u001b[49m\n\u001b[1;32m   2404\u001b[0m \u001b[38;5;28;01melif\u001b[39;00m tarinfo\u001b[38;5;241m.\u001b[39misdir():\n\u001b[1;32m   2405\u001b[0m     \u001b[38;5;28mself\u001b[39m\u001b[38;5;241m.\u001b[39mmakedir(tarinfo, targetpath)\n",
            "File \u001b[0;32m/usr/lib/python3.10/tarfile.py:2448\u001b[0m, in \u001b[0;36mTarFile.makefile\u001b[0;34m(self, tarinfo, targetpath)\u001b[0m\n\u001b[1;32m   2446\u001b[0m source\u001b[38;5;241m.\u001b[39mseek(tarinfo\u001b[38;5;241m.\u001b[39moffset_data)\n\u001b[1;32m   2447\u001b[0m bufsize \u001b[38;5;241m=\u001b[39m \u001b[38;5;28mself\u001b[39m\u001b[38;5;241m.\u001b[39mcopybufsize\n\u001b[0;32m-> 2448\u001b[0m \u001b[38;5;28;01mwith\u001b[39;00m bltn_open(targetpath, \u001b[38;5;124m\"\u001b[39m\u001b[38;5;124mwb\u001b[39m\u001b[38;5;124m\"\u001b[39m) \u001b[38;5;28;01mas\u001b[39;00m target:\n\u001b[1;32m   2449\u001b[0m     \u001b[38;5;28;01mif\u001b[39;00m tarinfo\u001b[38;5;241m.\u001b[39msparse \u001b[38;5;129;01mis\u001b[39;00m \u001b[38;5;129;01mnot\u001b[39;00m \u001b[38;5;28;01mNone\u001b[39;00m:\n\u001b[1;32m   2450\u001b[0m         \u001b[38;5;28;01mfor\u001b[39;00m offset, size \u001b[38;5;129;01min\u001b[39;00m tarinfo\u001b[38;5;241m.\u001b[39msparse:\n",
            "\u001b[0;31mKeyboardInterrupt\u001b[0m: "
          ]
        }
      ],
      "source": [
        "#Extract the tar file as dataset\n",
        "\n",
        "import tarfile\n",
        "\n",
        "def tarfile_extract(tar_file, output_dir=os.getcwd()+'/Datasets'):\n",
        "    tar = tarfile.open(tar_file, 'r:gz')\n",
        "    total_files = sum(1 for _ in tar)\n",
        "    tar.extractall(output_dir, members=extract_progress(tar, total_files))\n",
        "    tar.close()\n",
        "\n",
        "def extract_progress(tar, total_files):\n",
        "    for member in tar:\n",
        "        yield member\n",
        "        total_files -= 1\n",
        "        print(f\"Remaining files: {total_files}\", end='\\r')\n",
        "    print(\"\\nExtraction completed.\")\n",
        "\n",
        "wd = os.getcwd()\n",
        "tarfile_extract(wd+'/Datasets/aclImdb_v1.tar.gz')\n"
      ]
    },
    {
      "cell_type": "code",
      "execution_count": null,
      "metadata": {
        "id": "K7ezNM9_W3jQ"
      },
      "outputs": [],
      "source": [
        "\n",
        "#using 'alldata' list to store all the files in the directories\n",
        "alldata=[]\n",
        "\n",
        "\n",
        "#collecting data in train/pos folder\n",
        "for fname in os.listdir(wd+'/Datasets/aclImdb/train/pos'):\n",
        "    with open(os.path.join(wd+'/Datasets/aclImdb/train/pos', fname), encoding = 'utf-8') as infile:\n",
        "        for line in infile:\n",
        "            alldata.append((line,'train','pos'))\n",
        "\n",
        "#collecting data in train/neg folder\n",
        "for fname in os.listdir(wd+'/Datasets/aclImdb/train/neg'):\n",
        "    with open(os.path.join(wd+'/Datasets/aclImdb/train/neg', fname), encoding = 'utf-8') as infile:\n",
        "        for line in infile:\n",
        "            alldata.append((line,'train','neg'))\n",
        "#collecting data in test/pos folder\n",
        "for fname in os.listdir(wd+'/Datasets/aclImdb/test/pos'):\n",
        "    with open(os.path.join(wd+'/Datasets/aclImdb/test/pos', fname), encoding = 'utf-8') as infile:\n",
        "        for line in infile:\n",
        "            alldata.append((line,'test','pos'))\n",
        "#collecting data in test/neg folder\n",
        "for fname in os.listdir(wd+'/Datasets/aclImdb/test/neg'):\n",
        "    with open(os.path.join(wd+'/Datasets/aclImdb/test/neg', fname), encoding = 'utf-8') as infile:\n",
        "        for line in infile:\n",
        "            alldata.append((line,'test','neg'))\n",
        "\n",
        "\n"
      ]
    },
    {
      "cell_type": "code",
      "execution_count": null,
      "metadata": {
        "colab": {
          "base_uri": "https://localhost:8080/"
        },
        "id": "1uH1TGbjlh7o",
        "outputId": "c43c9ce1-1a78-41f4-8034-1c3e5b3c537f"
      },
      "outputs": [
        {
          "name": "stdout",
          "output_type": "stream",
          "text": [
            "StructType(List(StructField(content,StringType,true),StructField(label,StringType,true),StructField(sentiemtn,StringType,true)))\n",
            "+--------------------+-----+---------+\n",
            "|             content|label|sentiemtn|\n",
            "+--------------------+-----+---------+\n",
            "|Zentropa has much...|train|      pos|\n",
            "|Zentropa is the m...|train|      pos|\n",
            "|Lars Von Trier is...|train|      pos|\n",
            "|*Contains spoiler...|train|      pos|\n",
            "|That was the firs...|train|      pos|\n",
            "|I had started to ...|train|      pos|\n",
            "|Critics need to r...|train|      pos|\n",
            "|It is not every f...|train|      pos|\n",
            "|The best way for ...|train|      pos|\n",
            "|Released as Zentr...|train|      pos|\n",
            "|Lars von Trier's ...|train|      pos|\n",
            "|Man oh man... I'v...|train|      pos|\n",
            "|Piece of subtle a...|train|      pos|\n",
            "|As much as the mo...|train|      pos|\n",
            "|I haven't seen th...|train|      pos|\n",
            "|EUROPA (ZENTROPA)...|train|      pos|\n",
            "|Before Dogma 95: ...|train|      pos|\n",
            "|This is the defin...|train|      pos|\n",
            "|This is the movie...|train|      pos|\n",
            "|`Europa' (or, as ...|train|      pos|\n",
            "+--------------------+-----+---------+\n",
            "only showing top 20 rows\n",
            "\n"
          ]
        }
      ],
      "source": [
        "\n",
        "from pyspark.sql.types import ArrayType, StructField, StructType, StringType, IntegerType\n",
        "\n",
        "appName = \"list to Spark Data Frame\"\n",
        "master = \"local\"\n",
        "\n",
        "# Create Spark session\n",
        "spark = SparkSession.builder \\\n",
        "    .appName(appName) \\\n",
        "    .master(master) \\\n",
        "    .getOrCreate()\n",
        "\n",
        "# List\n",
        "data = alldata\n",
        "\n",
        "# Create a schema for the dataframe\n",
        "schema = StructType([\n",
        "    StructField('content', StringType(), True),\n",
        "    StructField('label', StringType(), True),\n",
        "    StructField('sentiemtn', StringType(), True)\n",
        "])\n",
        "\n",
        "# Convert list to RDD\n",
        "rdd = spark.sparkContext.parallelize(data)\n",
        "\n",
        "# Create data frame\n",
        "df = spark.createDataFrame(rdd,schema)\n",
        "print(df.schema)\n",
        "df.show()"
      ]
    },
    {
      "cell_type": "code",
      "execution_count": null,
      "metadata": {
        "colab": {
          "base_uri": "https://localhost:8080/"
        },
        "id": "v7DUME6Xx1Hx",
        "outputId": "fb816dd9-aaf3-4af3-b678-577c5bbfa3b8"
      },
      "outputs": [
        {
          "data": {
            "text/plain": [
              "50000"
            ]
          },
          "execution_count": 34,
          "metadata": {},
          "output_type": "execute_result"
        }
      ],
      "source": [
        "df.count()"
      ]
    },
    {
      "cell_type": "code",
      "execution_count": null,
      "metadata": {
        "colab": {
          "base_uri": "https://localhost:8080/"
        },
        "id": "_JoFIyowyMjB",
        "outputId": "ff0c2ad5-97bf-4773-c4b8-9bffe15c187c"
      },
      "outputs": [
        {
          "name": "stdout",
          "output_type": "stream",
          "text": [
            "root\n",
            " |-- content: string (nullable = true)\n",
            " |-- label: string (nullable = true)\n",
            " |-- sentiemtn: string (nullable = true)\n",
            "\n"
          ]
        }
      ],
      "source": [
        "# Schema of created Spark Dataframe\n",
        "\n",
        "df.printSchema()"
      ]
    },
    {
      "cell_type": "markdown",
      "metadata": {
        "id": "xPXsyhn_2QZC"
      },
      "source": [
        "###Tokenization"
      ]
    },
    {
      "cell_type": "code",
      "execution_count": null,
      "metadata": {
        "colab": {
          "base_uri": "https://localhost:8080/"
        },
        "id": "zK1PwZq5yhfK",
        "outputId": "e8f45810-67b3-4db0-bfc9-0c8656d7ca26"
      },
      "outputs": [
        {
          "name": "stdout",
          "output_type": "stream",
          "text": [
            "+--------------------+-----+---------+--------------------+\n",
            "|             content|label|sentiemtn|   tokenized_content|\n",
            "+--------------------+-----+---------+--------------------+\n",
            "|Zentropa has much...|train|      pos|[zentropa, has, m...|\n",
            "|Zentropa is the m...|train|      pos|[zentropa, is, th...|\n",
            "|Lars Von Trier is...|train|      pos|[lars, von, trier...|\n",
            "|*Contains spoiler...|train|      pos|[contains, spoile...|\n",
            "|That was the firs...|train|      pos|[that, was, the, ...|\n",
            "|I had started to ...|train|      pos|[i, had, started,...|\n",
            "|Critics need to r...|train|      pos|[critics, need, t...|\n",
            "|It is not every f...|train|      pos|[it, is, not, eve...|\n",
            "|The best way for ...|train|      pos|[the, best, way, ...|\n",
            "|Released as Zentr...|train|      pos|[released, as, ze...|\n",
            "|Lars von Trier's ...|train|      pos|[lars, von, trier...|\n",
            "|Man oh man... I'v...|train|      pos|[man, oh, man, i,...|\n",
            "|Piece of subtle a...|train|      pos|[piece, of, subtl...|\n",
            "|As much as the mo...|train|      pos|[as, much, as, th...|\n",
            "|I haven't seen th...|train|      pos|[i, haven, t, see...|\n",
            "|EUROPA (ZENTROPA)...|train|      pos|[europa, zentropa...|\n",
            "|Before Dogma 95: ...|train|      pos|[before, dogma, 9...|\n",
            "|This is the defin...|train|      pos|[this, is, the, d...|\n",
            "|This is the movie...|train|      pos|[this, is, the, m...|\n",
            "|`Europa' (or, as ...|train|      pos|[europa, or, as, ...|\n",
            "+--------------------+-----+---------+--------------------+\n",
            "only showing top 20 rows\n",
            "\n"
          ]
        }
      ],
      "source": [
        "#using RegexTokenizer for tokenizing contents\n",
        "\n",
        "tokenizer = RegexTokenizer(inputCol=\"content\", outputCol=\"tokenized_content\", pattern=\"\\\\W\") # used regexp to determine pattern as 'not word'\n",
        "\n",
        "countTokens = udf(lambda w: len(w), IntegerType())\n",
        "\n",
        "tokenized = tokenizer.transform(df)\n",
        "\n",
        "tokenized.show()"
      ]
    },
    {
      "cell_type": "markdown",
      "metadata": {
        "id": "Gf-Omq8n15FM"
      },
      "source": [
        "### Removing Stop Words"
      ]
    },
    {
      "cell_type": "code",
      "execution_count": null,
      "metadata": {
        "colab": {
          "base_uri": "https://localhost:8080/"
        },
        "id": "_NcWM3ek-iph",
        "outputId": "ead4cd37-4991-4f5d-ee5a-3c658913581c"
      },
      "outputs": [
        {
          "data": {
            "text/plain": [
              "pyspark.sql.dataframe.DataFrame"
            ]
          },
          "execution_count": 83,
          "metadata": {},
          "output_type": "execute_result"
        }
      ],
      "source": [
        "type(tokenized)"
      ]
    },
    {
      "cell_type": "code",
      "execution_count": null,
      "metadata": {
        "colab": {
          "base_uri": "https://localhost:8080/"
        },
        "id": "PtoV10AW1uN6",
        "outputId": "36fc2c88-3b56-44d6-e93f-99565adab26e"
      },
      "outputs": [
        {
          "name": "stdout",
          "output_type": "stream",
          "text": [
            "+--------------------+-----+---------+--------------------+\n",
            "|             content|label|sentiemtn|   tokenized_content|\n",
            "+--------------------+-----+---------+--------------------+\n",
            "|Zentropa has much...|train|      pos|[zentropa, has, m...|\n",
            "|Zentropa is the m...|train|      pos|[zentropa, is, th...|\n",
            "|Lars Von Trier is...|train|      pos|[lars, von, trier...|\n",
            "|*Contains spoiler...|train|      pos|[contains, spoile...|\n",
            "|That was the firs...|train|      pos|[that, was, the, ...|\n",
            "|I had started to ...|train|      pos|[i, had, started,...|\n",
            "|Critics need to r...|train|      pos|[critics, need, t...|\n",
            "|It is not every f...|train|      pos|[it, is, not, eve...|\n",
            "|The best way for ...|train|      pos|[the, best, way, ...|\n",
            "|Released as Zentr...|train|      pos|[released, as, ze...|\n",
            "|Lars von Trier's ...|train|      pos|[lars, von, trier...|\n",
            "|Man oh man... I'v...|train|      pos|[man, oh, man, i,...|\n",
            "|Piece of subtle a...|train|      pos|[piece, of, subtl...|\n",
            "|As much as the mo...|train|      pos|[as, much, as, th...|\n",
            "|I haven't seen th...|train|      pos|[i, haven, t, see...|\n",
            "|EUROPA (ZENTROPA)...|train|      pos|[europa, zentropa...|\n",
            "|Before Dogma 95: ...|train|      pos|[before, dogma, 9...|\n",
            "|This is the defin...|train|      pos|[this, is, the, d...|\n",
            "|This is the movie...|train|      pos|[this, is, the, m...|\n",
            "|`Europa' (or, as ...|train|      pos|[europa, or, as, ...|\n",
            "+--------------------+-----+---------+--------------------+\n",
            "only showing top 20 rows\n",
            "\n"
          ]
        }
      ],
      "source": [
        "from pyspark.ml.feature import StopWordsRemover\n",
        "\n",
        "tokenized.show()"
      ]
    },
    {
      "cell_type": "code",
      "execution_count": null,
      "metadata": {
        "id": "IN6Qe86F4cPF"
      },
      "outputs": [],
      "source": [
        "df_tokenized = tokenized.select(\"tokenized_content\").withColumn(\"tokenCount\", countTokens(col(\"tokenized_content\")))"
      ]
    },
    {
      "cell_type": "code",
      "execution_count": null,
      "metadata": {
        "colab": {
          "base_uri": "https://localhost:8080/"
        },
        "id": "V6gu2PKO9bkw",
        "outputId": "21a74ae9-84cd-494c-f73d-67eaeac6a24a"
      },
      "outputs": [
        {
          "data": {
            "text/plain": [
              "pyspark.sql.dataframe.DataFrame"
            ]
          },
          "execution_count": 85,
          "metadata": {},
          "output_type": "execute_result"
        }
      ],
      "source": [
        "type(df_tokenized)"
      ]
    },
    {
      "cell_type": "code",
      "execution_count": null,
      "metadata": {
        "colab": {
          "base_uri": "https://localhost:8080/"
        },
        "id": "H1JaxUOh3eIL",
        "outputId": "906b1c9e-4510-43cf-8b02-dd2d89ecbb6a"
      },
      "outputs": [
        {
          "name": "stdout",
          "output_type": "stream",
          "text": [
            "+------------------------------------------------------------------------------------------------------------------------------------------------------------------------------------------------------------------------------------------------------------------------------------------------------------------------------------------------------------------------------------------------------------------------------------------------------------------------------------------------------------------------------------------------------------------------------------------------------------------------------------------------------------------------------------------------------------------------------------------------------------------------------------------------------------------------------------------------------------------------------------------------------------------------------------------------------------------------------------------------------------------------------------------------------------------------------------------------------------------------------------------------------------------------------------------------------------------------------------------------------------------------------------------------------------------------------------------------------------------------------------------------------------------------------------------------------------------------------------------------------------------------------------------------------------------------------------------------------------------------------------------------------------------------------------------------------------------------------------------------------------------------------------------------------------------------------------------------------------------------------------------------------------------------------------------------------------------------------------------------------------------------------------------------------------------------------------------------------------------------------------------------------------------------------------------------------------------------------------------------------------------------------------------------------------------------------------------------------------------------------------------------------------------------------------------------------------------------------------------------------------------------------------------------------------------------------------------------------------------------------------------------------------------------------------------------------------------------------------------------------------------------------------------------------------------------------------------------------------------------------------------------------------------------------------------------+\n",
            "|SWRed                                                                                                                                                                                                                                                                                                                                                                                                                                                                                                                                                                                                                                                                                                                                                                                                                                                                                                                                                                                                                                                                                                                                                                                                                                                                                                                                                                                                                                                                                                                                                                                                                                                                                                                                                                                                                                                                                                                                                                                                                                                                                                                                                                                                                                                                                                                                                                                                                                                                                                                                                                                                                                                                                                                                                                                                                                                                                                                                           |\n",
            "+------------------------------------------------------------------------------------------------------------------------------------------------------------------------------------------------------------------------------------------------------------------------------------------------------------------------------------------------------------------------------------------------------------------------------------------------------------------------------------------------------------------------------------------------------------------------------------------------------------------------------------------------------------------------------------------------------------------------------------------------------------------------------------------------------------------------------------------------------------------------------------------------------------------------------------------------------------------------------------------------------------------------------------------------------------------------------------------------------------------------------------------------------------------------------------------------------------------------------------------------------------------------------------------------------------------------------------------------------------------------------------------------------------------------------------------------------------------------------------------------------------------------------------------------------------------------------------------------------------------------------------------------------------------------------------------------------------------------------------------------------------------------------------------------------------------------------------------------------------------------------------------------------------------------------------------------------------------------------------------------------------------------------------------------------------------------------------------------------------------------------------------------------------------------------------------------------------------------------------------------------------------------------------------------------------------------------------------------------------------------------------------------------------------------------------------------------------------------------------------------------------------------------------------------------------------------------------------------------------------------------------------------------------------------------------------------------------------------------------------------------------------------------------------------------------------------------------------------------------------------------------------------------------------------------------------------+\n",
            "|[zentropa, much, common, third, man, another, noir, like, film, set, among, rubble, postwar, europe, like, ttm, much, inventive, camera, work, innocent, american, gets, emotionally, involved, woman, doesn, really, understand, whose, naivety, striking, contrast, natives, br, br, d, say, third, man, well, crafted, storyline, zentropa, bit, disjointed, respect, perhaps, intentional, presented, dream, nightmare, making, coherent, spoil, effect, br, br, movie, unrelentingly, grim, noir, one, sense, one, never, sees, sun, shine, grim, intriguing, frightening]                                                                                                                                                                                                                                                                                                                                                                                                                                                                                                                                                                                                                                                                                                                                                                                                                                                                                                                                                                                                                                                                                                                                                                                                                                                                                                                                                                                                                                                                                                                                                                                                                                                                                                                                                                                                                                                                                                                                                                                                                                                                                                                                                                                                                                                                                                                                                                 |\n",
            "|[zentropa, original, movie, ve, seen, years, like, unique, thrillers, influenced, film, noir, right, cure, hollywood, summer, blockbusters, clogging, theaters, days, von, trier, follow, ups, like, breaking, waves, gotten, acclaim, really, best, work, flashy, without, distracting, offers, perfect, combination, suspense, dark, humor, bad, decided, handheld, cameras, wave, future, hard, say, talked, away, style, exhibits, everyone, loss, went, heavily, theoretical, dogma, direction, instead]                                                                                                                                                                                                                                                                                                                                                                                                                                                                                                                                                                                                                                                                                                                                                                                                                                                                                                                                                                                                                                                                                                                                                                                                                                                                                                                                                                                                                                                                                                                                                                                                                                                                                                                                                                                                                                                                                                                                                                                                                                                                                                                                                                                                                                                                                                                                                                                                                                   |\n",
            "|[lars, von, trier, never, backward, trying, new, techniques, original, others, best, forgotten, br, br, depicts, postwar, germany, nightmarish, train, journey, many, cities, lying, ruins, leo, kessler, young, american, german, descent, feels, obliged, help, restoration, simple, task, quickly, finds, br, br, uncle, finds, job, night, conductor, zentropa, railway, line, job, attend, needs, passengers, shoes, polished, chalk, mark, made, soles, terrible, argument, ensues, passenger, shoes, chalked, despite, fact, polished, many, allusions, german, fanaticism, adherence, stupid, details, br, br, railway, journey, like, allegory, representing, man, procession, life, trials, tribulations, one, sequence, leo, dashes, back, carriages, discover, filled, half, starved, bodies, appearing, escaped, auschwitz, images, horrible, fleeting, dream, terrible, impact, yet, unconnected, br, br, station, called, urmitz, leo, jumps, train, parceled, bomb, view, many, standers, connects, bomb, underside, carriage, returns, cabin, makes, connection, time, clock, later, jumps, train, high, speed, lies, cool, grass, river, bank, looking, stars, decides, job, build, destroy, subsequently, sees, train, approaching, giant, bridge, runs, breakneck, speed, board, train, stop, clock, care, analyse, situation, completely, impossible, task, quite, ridiculous, fact, happen, dream, br, br, strange, one, remembers, little, details, row, cups, hanging, hooks, rattling, away, swaying, train, br, br, despite, fact, film, widely, acclaimed, prefer, lars, von, trier, later, films, breaking, waves, idiots, bomb, scene, described, really, put, perhaps, m, realist]                                                                                                                                                                                                                                                                                                                                                                                                                                                                                                                                                                                                                                                                                                                                                                                                                                                                                                                                                                                                                                                                                                                                                                                                                                |\n",
            "|[contains, spoilers, due, describe, film, techniques, read, risk, br, br, loved, film, use, tinting, scenes, makes, seem, like, old, photograph, come, life, also, enjoyed, projection, people, back, screen, instance, one, scene, leopold, calls, wife, projected, behind, rather, typical, split, screen, face, huge, back, leo, foreground, br, br, one, best, uses, young, boys, kill, ravensteins, train, scene, shot, almost, political, poster, style, facial, close, ups, reminded, battleship, potemkin, intense, constant, style, coupled, spray, red, convey, tons, horror, without, much, gore, scene, katharina, finds, father, dead, bathtub, see, red, water, side, one, things, love, von, trier, understatement, horror, ends, making, creepy, br, br, use, text, film, unique, like, leo, character, pushed, word, werewolf, never, seen, anything, like, film, br, br, use, black, comedy, film, well, done, ernst, hugo, j, reg, rd, great, leo, uncle, brings, snickers, got, role, kingdom, riget, humor, makes, plotline, absurd, anal, retentiveness, train, conductors, terrible, backdrop, ww2, chaos, easier, take, reminds, riget, way, hospital, administrator, trying, maintain, normalcy, end, part, one, everything, going, crazy, shows, people, truly, oblivious, awful, things, happening, around, yet, people, like, leo, tuned, nothing, positive, br, br, voice, done, expertly, well, max, von, sydow, amusing, draws, story, makes, jump, leo, head, times, scary, place, br, br, movie, brings, point, one, coward, choose, side, see, idea, used, dancer, dark, bjork, character, doesn, speak, ends, destruction, actually, one, time, von, trier, seemed, anti, woman, making, breaking, waves, dancer, know, male, characters, fare, well, either, found, place, end, dancer, seriously, want, main, character, rethink, actions, course, never]                                                                                                                                                                                                                                                                                                                                                                                                                                                                                                                                                                                                                                                                                                                                                                                                                                                                                                                                                                                                                                                  |\n",
            "|[first, thing, sprang, mind, watched, closing, credits, europa, make, across, screen, never, entire, life, seen, film, technical, genius, visuals, europa, impressive, film, watch, wake, pale, comparison, forget, michael, bay, ridley, scott, slick, hollywood, cinematography, europa, ethereal, beauty, anything, two, conjure, million, years, d, first, hail, lars, von, trier, genius, back, films, breaking, waves, dancer, dark, stupid, fact, europa, gone, un, noticed, film, experts, long, crime, cinema, whilst, overrated, rubbish, like, crouching, tiger, hidden, dragon, life, beautiful, clean, academy, awards, know, europa, hidden, away, absent, form, video, stores, recently, british, tv, channels, br, br, visuals, europa, mtv, gloss, case, style, substance, case, substance, dictating, style, much, like, first, film, element, crime, von, trier, uses, perspective, main, character, draw, us, world, much, like, element, film, begins, main, character, case, europa, audience, hypnotized, move, tracks, voice, narrator, max, von, sydow, counts, us, deep, sleep, awake, europa, allows, von, trier, three, cinematographers, pay, conventions, time, imagery, many, scenes, europa, character, background, black, white, interact, person, foreground, colour, von, trier, trying, show, us, much, precedence, coloured, item, person, plot, instance, surprise, first, shot, leopold, kessler, jean, marc, barr, colour, since, character, actions, superiority, film, br, br, performances, good, may, par, performances, later, von, trier, films, images, sometimes, distracting, really, pick, first, time, round, like, point, fantastic, performance, jean, marc, barr, lead, role, whose, blind, idealism, slowly, warn, two, opposing, sides, erupts, films, final, act, muck, like, element, crime, film, ends, hero, unable, wake, nightmare, state, left, terrible, place, continuing, narration, von, sydow, seal, fate, europa, tremendous, film, cant, help, thinking, shame, von, trier, abandoned, way, filming, since, clearly, one, talented, visual, directors, working, time, europa, much, like, rest, cinematic, cannon, filled, wealth, iconic, scenes, dedication, composition, mise, en, scene, unrivalled, mention, use, sound, production, design, since, frills, melodramas, turned, breaking, waves, dancer, dark, argue, seems, like, waste, imaginative, talent, 10, 10]                                                                                                                                                                                                                                                                                                                                                                                                                                                                                               |\n",
            "|[started, lose, faith, films, recent, inundated, typical, genre, hollywood, film, story, lines, fail, camera, work, merely, copied, last, film, similiar, taste, saw, zentropa, europa, faith, renewed, metaphorical, storyline, enthralling, use, color, black, white, visually, stimulating, narrator, max, von, sydow, takes, spellbounding, journey, every, step, way, engrosses, europa, 1945, seen, death, put, screen, hundred, thousand, ways, beauty, film, takes, every, slow, moving, moment, leads, death, unlike, many, films, doesn, cut, one, second, showing, example, knife, forces, watch, devastating, yet, sensuous, beauty, man, final, moments, think, take, something, different, away, movie, trying, say, definitely, worth, taking, time, find, really, means, love, talk, depth, film, one, wishes, send, email, enjoy]                                                                                                                                                                                                                                                                                                                                                                                                                                                                                                                                                                                                                                                                                                                                                                                                                                                                                                                                                                                                                                                                                                                                                                                                                                                                                                                                                                                                                                                                                                                                                                                                                                                                                                                                                                                                                                                                                                                                                                                                                                                                                              |\n",
            "|[critics, need, review, class, quality, movie, think, critics, seen, many, actions, films, succumbed, matrix, style, films, europa, breath, fresh, air, film, many, layers, one, viewing, enough, understand, appreciate, outstanding, film, lars, von, trier, shows, old, styles, filming, produce, marvellous, cinema, build, drama, tension, back, projection, effect, uses, film, arouses, enhances, characters, focus, conversation, effects, uses, colour, black, white, one, scene, much, like, hitchcock, girl, red, coat, grabs, attention, enhances, drama, meaning, scene, commentary, superb, hypnotic, effect, maintaining, focus, central, characters, scene, actions, br, br, talk, effects, think, agree, push, film, category, really, heighten, drama, film, film, buy, already, one, see, br, br, 10, 10, miss, artistic, noir, film, one, great, film, directors]                                                                                                                                                                                                                                                                                                                                                                                                                                                                                                                                                                                                                                                                                                                                                                                                                                                                                                                                                                                                                                                                                                                                                                                                                                                                                                                                                                                                                                                                                                                                                                                                                                                                                                                                                                                                                                                                                                                                                                                                                                                           |\n",
            "|[every, film, job, stimulate, superficially, take, ambitious, failure, mass, market, hit, day, really, described, failure, sum, parts, remains, ambiguous, indecipherable, quality, tantalizes, watching, challenging, provocative, movie, wrap, things, neatly, problem, movie, structure, inpenetrable, plot, seems, winding, second, ending, tacked, though, everything, technically, dazzling, movie, exactly, long, unit, long, delayed, climax, leo, awakening, comes, 20, minutes, late, br, br, great, cinematography, often, comes, expense, decent, script, innovative, camera, technique, offers, wealth, visual, ideas, compositing, artifice, provocative, engaging, character, rear, projected, hand, foreground, isn, world, depicted, deliberate, treacherous, absurd, keep, eyes, peeled, memorable, technically, astonishing, assassination, make, jaw, drop, br, br, compositions, stunning, whomever, chose, release, print, videotape, pan, scan, format, must, never, seen, dvd, br, br, unfathomable, anyone, give, much, originality, bad, review, see, least, get, sense, von, trier, bit, chew, movie, ends, richer, suspect, familiar, hitchcock, foreign, correspondent, devious, europeans, also, manipulate, american, dupe, several, welles, movies, take, delirious, joy, technique, much, von, trier, movies, explore, plight, naif, amidst, unforgiving, societies, zentropa, von, trier, moved, away, type, audacious, technical, experiment, towards, dreary, rated, un, nuanced, sap, like, breaking, waves, dancer, dark]                                                                                                                                                                                                                                                                                                                                                                                                                                                                                                                                                                                                                                                                                                                                                                                                                                                                                                                                                                                                                                                                                                                                                                                                                                                                                                                                                                                 |\n",
            "|[best, way, describe, europa, high, list, favourite, films, exclamation, came, companion, film, ended, didn, know, films, made, like, entirely, original, visual, style, one, best, examples, cinema, far, away, master, coverage, style, shooting, one, get, perfectly, integrating, many, layers, image, sound, effects, props, dialogue, voice, performance, editing, lighting, etc, equal, none, predominant, despite, hollywood, dialogue, myopia, cinema, dialogue, beautiful, lighting, action, music, works, best, elements, equal, footing, blending, elements, order, combination, presented, communicate, idea, reduce, eliminate, contribution, one, element, film, meaning, europa, cinema, strive]                                                                                                                                                                                                                                                                                                                                                                                                                                                                                                                                                                                                                                                                                                                                                                                                                                                                                                                                                                                                                                                                                                                                                                                                                                                                                                                                                                                                                                                                                                                                                                                                                                                                                                                                                                                                                                                                                                                                                                                                                                                                                                                                                                                                                                |\n",
            "|[released, zentropa, north, america, avoid, confusion, agniezska, holland, holocaust, film, europa, europa, third, theatrical, feature, filmmaker, never, ceases, surprise, inspire, downright, shock, bizarre, nostalgic, elaborate, film, naive, american, germany, shortly, following, end, wwii, american, named, leo, doesn, fully, get, come, take, part, fixing, country, since, mind, time, germany, shown, charity, matter, sounds, nazi, sympathizer, much, especially, pro, german, merely, mixed, uncle, works, railroad, gets, leo, job, helmsman, sleeping, car, increasingly, enmeshed, vortex, 1945, germany, horrors, enigmas, br, br, progression, starts, leo, played, rather, memorably, calm, yet, restless, actor, jean, marc, barr, meets, sultry, heiress, train, played, barbara, sukowa, actress, gentility, surface, internal, vigor, seduces, takes, home, meet, family, owns, company, manufactures, trains, precise, trains, took, jews, deaths, war, run, drab, day, day, timetable, woman, uncle, kessler, postures, another, one, good, germans, jobs, also, udo, kier, tremendous, actor, blew, away, von, trier, shocking, second, film, epidemic, though, mere, scenery, br, br, another, guest, house, eddie, constantine, actor, quiet, strength, playing, somber, american, intelligence, man, confirm, uncle, kessler, war, criminal, though, completely, baffling, leo, americans, characterized, gullible, rubes, element, decades, little, blithely, unconcerned, leo, goes, back, job, gradually, looks, like, customized, death, train, br, br, story, told, purposely, uncoordinated, manner, film, danish, director, lars, von, trier, whose, anchor, film, breathtaking, editing, cinematography, shoots, black, white, color, uses, double, exposures, optical, effects, trick, photography, actors, interact, rear, projected, footage, places, characters, inside, richly, shaded, visceral, world, sometimes, feel, like, insects, caught, glass, precise, survey, br, br, grand, jury, prize, winning, surrealist, work, allegorical, maybe, distinct, tone, every, viewer, interpret, film, last, legs, nazism, symbolized, train, ethical, accountability, americans, others, appeared, late, salvage, martyrs, trains, camps, distributed, condemned, shiploads, time, frame, movie, nazi, state, significance, train, dead, like, decapitated, chickens, persist, jolting, reflexes, br, br, characters, music, dialogue, plot, deliberately, hammy, almost, satirically, procured, film, noir, conventions, entrancing, points, movie, entirely, cinematographic, ones, two, trains, halting, back, forth, barr, one, sukowa, another, underwater, shot, proliferating, blood, uncommonly, expressive, sequence, must, like, drown, metaphysically, affecting, anesthetic, shot, train, tracks, max, von, sydow, voice, allures, us, hark, back, europe, abandon, personal, restraint]|\n",
            "|[lars, von, trier, europa, worthy, echo, third, man, american, coming, post, world, war, ii, europe, finds, entangled, dangerous, mystery, br, br, jean, marc, barr, plays, leopold, kessler, german, american, refused, join, us, army, war, arrives, frankfurt, soon, war, work, uncle, sleeping, car, conductor, zentropa, railway, doesn, know, war, still, secretly, going, underground, terrorist, group, called, werewolves, target, american, allies, leopold, strongly, taking, sides, drawn, seduced, katharina, hartmann, barbara, sukowa, femme, fatale, daughter, owner, railway, company, father, nazi, sympathizer, pardoned, american, colonel, harris, eddie, considine, help, get, german, transportation, system, running, colonel, soon, enlists, forces, leopold, spy, without, giving, choice, chance, think, see, werewolves, might, carry, attacks, trains, br, br, soon, leopold, stuck, adventure, involved, sides, conflict, mysterious, film, noir, ish, way, everyone, everything, seems, amazing, watch, naive, leopold, deal, everything, lover, terrorists, colonel, annoying, passengers, disgruntled, uncle, even, railway, company, officials, come, examine, work, ethic, finally, boils, humorously, violently, takes, control, film, endlessly, unpredictable, br, br, film, stylishly, shot, always, takes, place, night, winter, lots, falling, snow, shot, black, white, shots, color, randomly, appearing, throughout, also, background, screens, displaying, images, counter, act, images, front, add, max, von, sydow, hypnotic, narration, europa, becomes, dreamlike, place, world, br, br, personal, favorite, film, mine]                                                                                                                                                                                                                                                                                                                                                                                                                                                                                                                                                                                                                                                                                                                                                                                                                                                                                                                                                                                                                                                                                                                                                                                                                                                                       |\n",
            "|[man, oh, man, ve, foolishly, procrastinating, right, term, long, list, watch, film, finally, chance, news, marvellous, labyrinthine, spectacle, br, br, von, trier, follower, rigets, element, crime, dogville, dancer, dark, five, obstructions, etc, europa, probably, differential, greatness, visual, terms, everything, beautifully, somber, claustrophobic, really, get, feeling, inside, imaginary, nightmarish, time, warp, taking, masters, surreal, cinema, like, bunuel, bergman, till, noir, films, 40, acidic, drops, avant, guard, von, trier, leads, art, film, scene, well, intended, totalitarian, movie, maker, nowadays, authoritarian, way, dealing, intricate, issues, without, irrational, hits, nerve, viewer, intent, cure, deepest, wounds, feed, hypocritical, world, br, br, utopian, seems, believe, people, like, von, trier, help, society, many, ways, broader, aspect, day, films, filmmakers, carry, sort, power, longer, necessary, tool, reflection, perhaps, start, new, era, age, emotional, control, fears, offers, us, constantly, work, br, br, bravo]                                                                                                                                                                                                                                                                                                                                                                                                                                                                                                                                                                                                                                                                                                                                                                                                                                                                                                                                                                                                                                                                                                                                                                                                                                                                                                                                                                                                                                                                                                                                                                                                                                                                                                                                                                                                                                                 |\n",
            "|[piece, subtle, art, maybe, masterpiece, doubtlessly, special, story, ambiguity, existence, tale, kafka, style, impossibility, victory, surviving, perpetual, strange, world, life, film, exercise, adaptation, lesson, limits, original, sin, frailty, innocence, error, ways, br, br, leopold, kessle, another, joseph, k, images, trial, ambiguous, woman, europa, symbol, basic, crisis, many, aspects, like, chimeric, wars, unavailing, search, truth, essence, golden, age, br, br, methaphor, parable, movie, history, disappointed, evolution, war, peace, business, lie, details, gelatin, time, hypocrisy, mask, love, convention, sacrifice, method, hope, understanding, painful, reality]                                                                                                                                                                                                                                                                                                                                                                                                                                                                                                                                                                                                                                                                                                                                                                                                                                                                                                                                                                                                                                                                                                                                                                                                                                                                                                                                                                                                                                                                                                                                                                                                                                                                                                                                                                                                                                                                                                                                                                                                                                                                                                                                                                                                                                         |\n",
            "|[much, movie, good, nothing, say, said, already, wanted, point, fact, movie, isnt, sweden, denemark, maybe, wrong, case, ll, happy, know, mistakes, take, notify]                                                                                                                                                                                                                                                                                                                                                                                                                                                                                                                                                                                                                                                                                                                                                                                                                                                                                                                                                                                                                                                                                                                                                                                                                                                                                                                                                                                                                                                                                                                                                                                                                                                                                                                                                                                                                                                                                                                                                                                                                                                                                                                                                                                                                                                                                                                                                                                                                                                                                                                                                                                                                                                                                                                                                                               |\n",
            "|[haven, seen, movie, 5, years, still, haunts, br, br, asked, favorite, films, one, seem, always, mention, first, certain, films, works, art, like, film, dark, city, breaking, waves, seem, touch, place, within, place, protected, hidden, yet, sensitive, make, lifelong, impression, viewer, unlike, life, changing, event, ending, serious, relationship, death, friend, film, shook, first, saw, left, emotional, hangover, lasted, several, days]                                                                                                                                                                                                                                                                                                                                                                                                                                                                                                                                                                                                                                                                                                                                                                                                                                                                                                                                                                                                                                                                                                                                                                                                                                                                                                                                                                                                                                                                                                                                                                                                                                                                                                                                                                                                                                                                                                                                                                                                                                                                                                                                                                                                                                                                                                                                                                                                                                                                                         |\n",
            "|[europa, zentropa, masterpiece, gives, viewer, excitement, must, come, birth, narrative, film, nearly, century, ago, film, truly, unique, work, genius, camerawork, editing, brilliant, combined, narrative, tropes, alienation, used, film, creates, eerie, unforgettable, cinematic, experience, br, br, participation, barbara, suwkowa, eddie, constantine, cast, two, guilty, pleasures, seen, enjoyed, max, von, sydow, provides, great, voice, narrator, br, br, one, kind, movie, four, stars, highest, rating]                                                                                                                                                                                                                                                                                                                                                                                                                                                                                                                                                                                                                                                                                                                                                                                                                                                                                                                                                                                                                                                                                                                                                                                                                                                                                                                                                                                                                                                                                                                                                                                                                                                                                                                                                                                                                                                                                                                                                                                                                                                                                                                                                                                                                                                                                                                                                                                                                         |\n",
            "|[dogma, 95, lars, used, movies, art, story, beautiful, painting, love, death, one, favorite, movies, time, color, music, perfect]                                                                                                                                                                                                                                                                                                                                                                                                                                                                                                                                                                                                                                                                                                                                                                                                                                                                                                                                                                                                                                                                                                                                                                                                                                                                                                                                                                                                                                                                                                                                                                                                                                                                                                                                                                                                                                                                                                                                                                                                                                                                                                                                                                                                                                                                                                                                                                                                                                                                                                                                                                                                                                                                                                                                                                                                               |\n",
            "|[definite, lars, von, trier, movie, favorite, rank, higher, breaking, waves, latest, dancer, dark, simply, love, beauty, picture, framing, original, acting, wonderful, must, see]                                                                                                                                                                                                                                                                                                                                                                                                                                                                                                                                                                                                                                                                                                                                                                                                                                                                                                                                                                                                                                                                                                                                                                                                                                                                                                                                                                                                                                                                                                                                                                                                                                                                                                                                                                                                                                                                                                                                                                                                                                                                                                                                                                                                                                                                                                                                                                                                                                                                                                                                                                                                                                                                                                                                                              |\n",
            "|[movie, believe, cinema, seventh, art, entertainment, business, lars, von, trier, creates, noir, atmosphere, post, war, germany, utterly, captivating, get, absorbed, dream, re, let, go, end, credits, plot, necessarily, comes, second, still, thrilling, story, tough, issues, raised, wonderful]                                                                                                                                                                                                                                                                                                                                                                                                                                                                                                                                                                                                                                                                                                                                                                                                                                                                                                                                                                                                                                                                                                                                                                                                                                                                                                                                                                                                                                                                                                                                                                                                                                                                                                                                                                                                                                                                                                                                                                                                                                                                                                                                                                                                                                                                                                                                                                                                                                                                                                                                                                                                                                            |\n",
            "|[europa, also, known, zentropa, one, visually, stunning, films, ever, seen, blend, grayscale, colour, photography, near, seamless, true, feast, eyes, picture, contender, 1991, golden, palm, canners, award, went, barton, fink, coen, brothers, film, stylistically, similar, zentropa, exercise, class, rent, films, judge]                                                                                                                                                                                                                                                                                                                                                                                                                                                                                                                                                                                                                                                                                                                                                                                                                                                                                                                                                                                                                                                                                                                                                                                                                                                                                                                                                                                                                                                                                                                                                                                                                                                                                                                                                                                                                                                                                                                                                                                                                                                                                                                                                                                                                                                                                                                                                                                                                                                                                                                                                                                                                  |\n",
            "+------------------------------------------------------------------------------------------------------------------------------------------------------------------------------------------------------------------------------------------------------------------------------------------------------------------------------------------------------------------------------------------------------------------------------------------------------------------------------------------------------------------------------------------------------------------------------------------------------------------------------------------------------------------------------------------------------------------------------------------------------------------------------------------------------------------------------------------------------------------------------------------------------------------------------------------------------------------------------------------------------------------------------------------------------------------------------------------------------------------------------------------------------------------------------------------------------------------------------------------------------------------------------------------------------------------------------------------------------------------------------------------------------------------------------------------------------------------------------------------------------------------------------------------------------------------------------------------------------------------------------------------------------------------------------------------------------------------------------------------------------------------------------------------------------------------------------------------------------------------------------------------------------------------------------------------------------------------------------------------------------------------------------------------------------------------------------------------------------------------------------------------------------------------------------------------------------------------------------------------------------------------------------------------------------------------------------------------------------------------------------------------------------------------------------------------------------------------------------------------------------------------------------------------------------------------------------------------------------------------------------------------------------------------------------------------------------------------------------------------------------------------------------------------------------------------------------------------------------------------------------------------------------------------------------------------------+\n",
            "only showing top 20 rows\n",
            "\n"
          ]
        }
      ],
      "source": [
        "# SWR -> stop word remover\n",
        "SWR  = StopWordsRemover (inputCol='tokenized_content', outputCol='SWRed')\n",
        "\n",
        "\n",
        "#See the result of removal operation\n",
        "SWR.transform(df_tokenized).select('SWRed').show(truncate=False)"
      ]
    }
  ],
  "metadata": {
    "accelerator": "TPU",
    "colab": {
      "collapsed_sections": [],
      "name": "Huawei R&D Technical Interview Question_v2.ipynb",
      "provenance": [],
      "toc_visible": true
    },
    "gpuClass": "standard",
    "kernelspec": {
      "display_name": "Python 3",
      "name": "python3"
    },
    "language_info": {
      "codemirror_mode": {
        "name": "ipython",
        "version": 3
      },
      "file_extension": ".py",
      "mimetype": "text/x-python",
      "name": "python",
      "nbconvert_exporter": "python",
      "pygments_lexer": "ipython3",
      "version": "3.10.12"
    }
  },
  "nbformat": 4,
  "nbformat_minor": 0
}
